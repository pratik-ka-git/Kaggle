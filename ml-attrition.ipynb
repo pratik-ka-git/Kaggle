{
 "cells": [
  {
   "cell_type": "code",
   "execution_count": 1,
   "id": "1ddcb97d",
   "metadata": {
    "_cell_guid": "b1076dfc-b9ad-4769-8c92-a6c4dae69d19",
    "_kg_hide-input": false,
    "_uuid": "8f2839f25d086af736a60e9eeb907d3b93b6e0e5",
    "execution": {
     "iopub.execute_input": "2023-07-24T17:10:03.074957Z",
     "iopub.status.busy": "2023-07-24T17:10:03.074179Z",
     "iopub.status.idle": "2023-07-24T17:10:03.089185Z",
     "shell.execute_reply": "2023-07-24T17:10:03.088052Z"
    },
    "papermill": {
     "duration": 0.022059,
     "end_time": "2023-07-24T17:10:03.091910",
     "exception": false,
     "start_time": "2023-07-24T17:10:03.069851",
     "status": "completed"
    },
    "tags": []
   },
   "outputs": [
    {
     "name": "stdout",
     "output_type": "stream",
     "text": [
      "/kaggle/input/ipba15-grade-ml-case-study-classification-11072023/sample_submission.csv\n",
      "/kaggle/input/ipba15-grade-ml-case-study-classification-11072023/train.csv\n",
      "/kaggle/input/ipba15-grade-ml-case-study-classification-11072023/test.csv\n"
     ]
    }
   ],
   "source": [
    "# Input data files are available in the read-only \"../input/\" directory\n",
    "# For example, running this (by clicking run or pressing Shift+Enter) will list all files under the input directory\n",
    "\n",
    "import os\n",
    "for dirname, _, filenames in os.walk('/kaggle/input'):\n",
    "    for filename in filenames:\n",
    "        print(os.path.join(dirname, filename))"
   ]
  },
  {
   "cell_type": "code",
   "execution_count": null,
   "id": "b1ffd1a4",
   "metadata": {
    "papermill": {
     "duration": 0.001559,
     "end_time": "2023-07-24T17:10:03.095562",
     "exception": false,
     "start_time": "2023-07-24T17:10:03.094003",
     "status": "completed"
    },
    "tags": []
   },
   "outputs": [],
   "source": []
  }
 ],
 "metadata": {
  "kernelspec": {
   "display_name": "Python 3",
   "language": "python",
   "name": "python3"
  },
  "language_info": {
   "codemirror_mode": {
    "name": "ipython",
    "version": 3
   },
   "file_extension": ".py",
   "mimetype": "text/x-python",
   "name": "python",
   "nbconvert_exporter": "python",
   "pygments_lexer": "ipython3",
   "version": "3.10.12"
  },
  "papermill": {
   "default_parameters": {},
   "duration": 11.67796,
   "end_time": "2023-07-24T17:10:03.917326",
   "environment_variables": {},
   "exception": null,
   "input_path": "__notebook__.ipynb",
   "output_path": "__notebook__.ipynb",
   "parameters": {},
   "start_time": "2023-07-24T17:09:52.239366",
   "version": "2.4.0"
  }
 },
 "nbformat": 4,
 "nbformat_minor": 5
}
