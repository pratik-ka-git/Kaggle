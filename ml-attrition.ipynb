{
 "cells": [
  {
   "cell_type": "markdown",
   "id": "8fcac261",
   "metadata": {
    "papermill": {
     "duration": 0.014901,
     "end_time": "2023-07-26T12:13:26.204816",
     "exception": false,
     "start_time": "2023-07-26T12:13:26.189915",
     "status": "completed"
    },
    "tags": []
   },
   "source": [
    "# 1/File Directory"
   ]
  },
  {
   "cell_type": "code",
   "execution_count": 1,
   "id": "eeb17e9c",
   "metadata": {
    "_cell_guid": "b1076dfc-b9ad-4769-8c92-a6c4dae69d19",
    "_kg_hide-input": false,
    "_uuid": "8f2839f25d086af736a60e9eeb907d3b93b6e0e5",
    "execution": {
     "iopub.execute_input": "2023-07-26T12:13:26.231962Z",
     "iopub.status.busy": "2023-07-26T12:13:26.230678Z",
     "iopub.status.idle": "2023-07-26T12:13:26.247974Z",
     "shell.execute_reply": "2023-07-26T12:13:26.247135Z"
    },
    "papermill": {
     "duration": 0.033286,
     "end_time": "2023-07-26T12:13:26.250475",
     "exception": false,
     "start_time": "2023-07-26T12:13:26.217189",
     "status": "completed"
    },
    "tags": []
   },
   "outputs": [
    {
     "name": "stdout",
     "output_type": "stream",
     "text": [
      "/kaggle/input/ipba15-grade-ml-case-study-classification-11072023/sample_submission.csv\n",
      "/kaggle/input/ipba15-grade-ml-case-study-classification-11072023/train.csv\n",
      "/kaggle/input/ipba15-grade-ml-case-study-classification-11072023/test.csv\n"
     ]
    }
   ],
   "source": [
    "# Input data files are available in the read-only \"../input/\" directory\n",
    "# For example, running this (by clicking run or pressing Shift+Enter) will list all files under the input directory\n",
    "\n",
    "import os\n",
    "for dirname, _, filenames in os.walk('/kaggle/input'):\n",
    "    for filename in filenames:\n",
    "        print(os.path.join(dirname, filename))"
   ]
  },
  {
   "cell_type": "markdown",
   "id": "420db0a2",
   "metadata": {
    "papermill": {
     "duration": 0.012151,
     "end_time": "2023-07-26T12:13:26.275034",
     "exception": false,
     "start_time": "2023-07-26T12:13:26.262883",
     "status": "completed"
    },
    "tags": []
   },
   "source": [
    "# 2/Import Packages"
   ]
  },
  {
   "cell_type": "code",
   "execution_count": 2,
   "id": "c2fc84c4",
   "metadata": {
    "execution": {
     "iopub.execute_input": "2023-07-26T12:13:26.301511Z",
     "iopub.status.busy": "2023-07-26T12:13:26.300863Z",
     "iopub.status.idle": "2023-07-26T12:13:56.737620Z",
     "shell.execute_reply": "2023-07-26T12:13:56.736073Z"
    },
    "papermill": {
     "duration": 30.467716,
     "end_time": "2023-07-26T12:13:56.755012",
     "exception": false,
     "start_time": "2023-07-26T12:13:26.287296",
     "status": "completed"
    },
    "tags": []
   },
   "outputs": [
    {
     "name": "stdout",
     "output_type": "stream",
     "text": [
      "Collecting summarytools\r\n",
      "  Downloading summarytools-0.2.3.tar.gz (11 kB)\r\n",
      "  Installing build dependencies ... \u001b[?25l-\b \b\\\b \b|\b \b/\b \bdone\r\n",
      "\u001b[?25h  Getting requirements to build wheel ... \u001b[?25l-\b \bdone\r\n",
      "\u001b[?25h  Preparing metadata (pyproject.toml) ... \u001b[?25l-\b \bdone\r\n",
      "\u001b[?25hRequirement already satisfied: pandas>=1.4.0 in /opt/conda/lib/python3.10/site-packages (from summarytools) (1.5.3)\r\n",
      "Requirement already satisfied: ipython>=7.20.0 in /opt/conda/lib/python3.10/site-packages (from summarytools) (8.14.0)\r\n",
      "Requirement already satisfied: numpy>=1.18.5 in /opt/conda/lib/python3.10/site-packages (from summarytools) (1.23.5)\r\n",
      "Requirement already satisfied: matplotlib>=3.3.0 in /opt/conda/lib/python3.10/site-packages (from summarytools) (3.7.1)\r\n",
      "Requirement already satisfied: backcall in /opt/conda/lib/python3.10/site-packages (from ipython>=7.20.0->summarytools) (0.2.0)\r\n",
      "Requirement already satisfied: decorator in /opt/conda/lib/python3.10/site-packages (from ipython>=7.20.0->summarytools) (5.1.1)\r\n",
      "Requirement already satisfied: jedi>=0.16 in /opt/conda/lib/python3.10/site-packages (from ipython>=7.20.0->summarytools) (0.18.2)\r\n",
      "Requirement already satisfied: matplotlib-inline in /opt/conda/lib/python3.10/site-packages (from ipython>=7.20.0->summarytools) (0.1.6)\r\n",
      "Requirement already satisfied: pickleshare in /opt/conda/lib/python3.10/site-packages (from ipython>=7.20.0->summarytools) (0.7.5)\r\n",
      "Requirement already satisfied: prompt-toolkit!=3.0.37,<3.1.0,>=3.0.30 in /opt/conda/lib/python3.10/site-packages (from ipython>=7.20.0->summarytools) (3.0.38)\r\n",
      "Requirement already satisfied: pygments>=2.4.0 in /opt/conda/lib/python3.10/site-packages (from ipython>=7.20.0->summarytools) (2.15.1)\r\n",
      "Requirement already satisfied: stack-data in /opt/conda/lib/python3.10/site-packages (from ipython>=7.20.0->summarytools) (0.6.2)\r\n",
      "Requirement already satisfied: traitlets>=5 in /opt/conda/lib/python3.10/site-packages (from ipython>=7.20.0->summarytools) (5.9.0)\r\n",
      "Requirement already satisfied: pexpect>4.3 in /opt/conda/lib/python3.10/site-packages (from ipython>=7.20.0->summarytools) (4.8.0)\r\n",
      "Requirement already satisfied: contourpy>=1.0.1 in /opt/conda/lib/python3.10/site-packages (from matplotlib>=3.3.0->summarytools) (1.1.0)\r\n",
      "Requirement already satisfied: cycler>=0.10 in /opt/conda/lib/python3.10/site-packages (from matplotlib>=3.3.0->summarytools) (0.11.0)\r\n",
      "Requirement already satisfied: fonttools>=4.22.0 in /opt/conda/lib/python3.10/site-packages (from matplotlib>=3.3.0->summarytools) (4.40.0)\r\n",
      "Requirement already satisfied: kiwisolver>=1.0.1 in /opt/conda/lib/python3.10/site-packages (from matplotlib>=3.3.0->summarytools) (1.4.4)\r\n",
      "Requirement already satisfied: packaging>=20.0 in /opt/conda/lib/python3.10/site-packages (from matplotlib>=3.3.0->summarytools) (21.3)\r\n",
      "Requirement already satisfied: pillow>=6.2.0 in /opt/conda/lib/python3.10/site-packages (from matplotlib>=3.3.0->summarytools) (9.5.0)\r\n",
      "Requirement already satisfied: pyparsing>=2.3.1 in /opt/conda/lib/python3.10/site-packages (from matplotlib>=3.3.0->summarytools) (3.0.9)\r\n",
      "Requirement already satisfied: python-dateutil>=2.7 in /opt/conda/lib/python3.10/site-packages (from matplotlib>=3.3.0->summarytools) (2.8.2)\r\n",
      "Requirement already satisfied: pytz>=2020.1 in /opt/conda/lib/python3.10/site-packages (from pandas>=1.4.0->summarytools) (2023.3)\r\n",
      "Requirement already satisfied: parso<0.9.0,>=0.8.0 in /opt/conda/lib/python3.10/site-packages (from jedi>=0.16->ipython>=7.20.0->summarytools) (0.8.3)\r\n",
      "Requirement already satisfied: ptyprocess>=0.5 in /opt/conda/lib/python3.10/site-packages (from pexpect>4.3->ipython>=7.20.0->summarytools) (0.7.0)\r\n",
      "Requirement already satisfied: wcwidth in /opt/conda/lib/python3.10/site-packages (from prompt-toolkit!=3.0.37,<3.1.0,>=3.0.30->ipython>=7.20.0->summarytools) (0.2.6)\r\n",
      "Requirement already satisfied: six>=1.5 in /opt/conda/lib/python3.10/site-packages (from python-dateutil>=2.7->matplotlib>=3.3.0->summarytools) (1.16.0)\r\n",
      "Requirement already satisfied: executing>=1.2.0 in /opt/conda/lib/python3.10/site-packages (from stack-data->ipython>=7.20.0->summarytools) (1.2.0)\r\n",
      "Requirement already satisfied: asttokens>=2.1.0 in /opt/conda/lib/python3.10/site-packages (from stack-data->ipython>=7.20.0->summarytools) (2.2.1)\r\n",
      "Requirement already satisfied: pure-eval in /opt/conda/lib/python3.10/site-packages (from stack-data->ipython>=7.20.0->summarytools) (0.2.2)\r\n",
      "Building wheels for collected packages: summarytools\r\n",
      "  Building wheel for summarytools (pyproject.toml) ... \u001b[?25l-\b \bdone\r\n",
      "\u001b[?25h  Created wheel for summarytools: filename=summarytools-0.2.3-py3-none-any.whl size=8577 sha256=94661ebc6e6a6697eed13f03e063a4d12a7222ea89bd9b2dcc3eb5335b7c36ba\r\n",
      "  Stored in directory: /root/.cache/pip/wheels/d5/8a/5d/008e2127a7f9dd64d066f16e5ea268fa52823dc929c982d6f1\r\n",
      "Successfully built summarytools\r\n",
      "Installing collected packages: summarytools\r\n",
      "Successfully installed summarytools-0.2.3\r\n",
      "Note: you may need to restart the kernel to use updated packages.\n"
     ]
    }
   ],
   "source": [
    "pip install summarytools"
   ]
  },
  {
   "cell_type": "code",
   "execution_count": 3,
   "id": "b0416a50",
   "metadata": {
    "execution": {
     "iopub.execute_input": "2023-07-26T12:13:56.787094Z",
     "iopub.status.busy": "2023-07-26T12:13:56.786679Z",
     "iopub.status.idle": "2023-07-26T12:13:56.791562Z",
     "shell.execute_reply": "2023-07-26T12:13:56.790720Z"
    },
    "papermill": {
     "duration": 0.024714,
     "end_time": "2023-07-26T12:13:56.793871",
     "exception": false,
     "start_time": "2023-07-26T12:13:56.769157",
     "status": "completed"
    },
    "tags": []
   },
   "outputs": [],
   "source": [
    "import numpy as np\n",
    "import pandas as pd"
   ]
  },
  {
   "cell_type": "code",
   "execution_count": 4,
   "id": "d1057c9f",
   "metadata": {
    "execution": {
     "iopub.execute_input": "2023-07-26T12:13:56.824683Z",
     "iopub.status.busy": "2023-07-26T12:13:56.824233Z",
     "iopub.status.idle": "2023-07-26T12:13:56.836695Z",
     "shell.execute_reply": "2023-07-26T12:13:56.835386Z"
    },
    "papermill": {
     "duration": 0.031431,
     "end_time": "2023-07-26T12:13:56.839739",
     "exception": false,
     "start_time": "2023-07-26T12:13:56.808308",
     "status": "completed"
    },
    "tags": []
   },
   "outputs": [],
   "source": [
    "from summarytools import dfSummary"
   ]
  },
  {
   "cell_type": "markdown",
   "id": "c281815a",
   "metadata": {
    "papermill": {
     "duration": 0.014351,
     "end_time": "2023-07-26T12:13:56.868535",
     "exception": false,
     "start_time": "2023-07-26T12:13:56.854184",
     "status": "completed"
    },
    "tags": []
   },
   "source": [
    "# 3/Import Data"
   ]
  },
  {
   "cell_type": "code",
   "execution_count": 5,
   "id": "8a86895a",
   "metadata": {
    "execution": {
     "iopub.execute_input": "2023-07-26T12:13:56.899447Z",
     "iopub.status.busy": "2023-07-26T12:13:56.899072Z",
     "iopub.status.idle": "2023-07-26T12:13:56.964105Z",
     "shell.execute_reply": "2023-07-26T12:13:56.963147Z"
    },
    "papermill": {
     "duration": 0.083468,
     "end_time": "2023-07-26T12:13:56.966700",
     "exception": false,
     "start_time": "2023-07-26T12:13:56.883232",
     "status": "completed"
    },
    "tags": []
   },
   "outputs": [],
   "source": [
    "train = pd.read_csv(\"/kaggle/input/ipba15-grade-ml-case-study-classification-11072023/train.csv\")\n",
    "test = pd.read_csv(\"/kaggle/input/ipba15-grade-ml-case-study-classification-11072023/test.csv\")"
   ]
  },
  {
   "cell_type": "markdown",
   "id": "90909dd4",
   "metadata": {
    "papermill": {
     "duration": 0.015928,
     "end_time": "2023-07-26T12:13:56.999126",
     "exception": false,
     "start_time": "2023-07-26T12:13:56.983198",
     "status": "completed"
    },
    "tags": []
   },
   "source": [
    "# 4/EDA & Preprocessing\n",
    "## >Data Descriptives\n",
    "## >>Train"
   ]
  },
  {
   "cell_type": "code",
   "execution_count": 6,
   "id": "52c35fa2",
   "metadata": {
    "execution": {
     "iopub.execute_input": "2023-07-26T12:13:57.031375Z",
     "iopub.status.busy": "2023-07-26T12:13:57.030958Z",
     "iopub.status.idle": "2023-07-26T12:13:57.070493Z",
     "shell.execute_reply": "2023-07-26T12:13:57.068649Z"
    },
    "papermill": {
     "duration": 0.057996,
     "end_time": "2023-07-26T12:13:57.072932",
     "exception": false,
     "start_time": "2023-07-26T12:13:57.014936",
     "status": "completed"
    },
    "tags": []
   },
   "outputs": [
    {
     "name": "stdout",
     "output_type": "stream",
     "text": [
      "<class 'pandas.core.frame.DataFrame'>\n",
      "RangeIndex: 1677 entries, 0 to 1676\n",
      "Data columns (total 35 columns):\n",
      " #   Column                    Non-Null Count  Dtype \n",
      "---  ------                    --------------  ----- \n",
      " 0   id                        1677 non-null   int64 \n",
      " 1   Age                       1677 non-null   int64 \n",
      " 2   BusinessTravel            1677 non-null   object\n",
      " 3   DailyRate                 1677 non-null   int64 \n",
      " 4   Department                1677 non-null   object\n",
      " 5   DistanceFromHome          1677 non-null   int64 \n",
      " 6   Education                 1677 non-null   int64 \n",
      " 7   EducationField            1677 non-null   object\n",
      " 8   EmployeeCount             1677 non-null   int64 \n",
      " 9   EnvironmentSatisfaction   1677 non-null   int64 \n",
      " 10  Gender                    1677 non-null   object\n",
      " 11  HourlyRate                1677 non-null   int64 \n",
      " 12  JobInvolvement            1677 non-null   int64 \n",
      " 13  JobLevel                  1677 non-null   int64 \n",
      " 14  JobRole                   1677 non-null   object\n",
      " 15  JobSatisfaction           1677 non-null   int64 \n",
      " 16  MaritalStatus             1677 non-null   object\n",
      " 17  MonthlyIncome             1677 non-null   int64 \n",
      " 18  MonthlyRate               1677 non-null   int64 \n",
      " 19  NumCompaniesWorked        1677 non-null   int64 \n",
      " 20  Over18                    1677 non-null   object\n",
      " 21  OverTime                  1677 non-null   object\n",
      " 22  PercentSalaryHike         1677 non-null   int64 \n",
      " 23  PerformanceRating         1677 non-null   int64 \n",
      " 24  RelationshipSatisfaction  1677 non-null   int64 \n",
      " 25  StandardHours             1677 non-null   int64 \n",
      " 26  StockOptionLevel          1677 non-null   int64 \n",
      " 27  TotalWorkingYears         1677 non-null   int64 \n",
      " 28  TrainingTimesLastYear     1677 non-null   int64 \n",
      " 29  WorkLifeBalance           1677 non-null   int64 \n",
      " 30  YearsAtCompany            1677 non-null   int64 \n",
      " 31  YearsInCurrentRole        1677 non-null   int64 \n",
      " 32  YearsSinceLastPromotion   1677 non-null   int64 \n",
      " 33  YearsWithCurrManager      1677 non-null   int64 \n",
      " 34  Attrition                 1677 non-null   int64 \n",
      "dtypes: int64(27), object(8)\n",
      "memory usage: 458.7+ KB\n"
     ]
    }
   ],
   "source": [
    "train.info()"
   ]
  },
  {
   "cell_type": "code",
   "execution_count": 7,
   "id": "df8f907e",
   "metadata": {
    "execution": {
     "iopub.execute_input": "2023-07-26T12:13:57.104846Z",
     "iopub.status.busy": "2023-07-26T12:13:57.103663Z",
     "iopub.status.idle": "2023-07-26T12:14:00.941728Z",
     "shell.execute_reply": "2023-07-26T12:14:00.940777Z"
    },
    "papermill": {
     "duration": 3.858698,
     "end_time": "2023-07-26T12:14:00.946200",
     "exception": false,
     "start_time": "2023-07-26T12:13:57.087502",
     "status": "completed"
    },
    "tags": []
   },
   "outputs": [
    {
     "data": {
      "text/html": [
       "<button type=\"button\" class = \"st-collapsible\", \n",
       "    id = \"btn-5300\" onclick = \"coll_toggle_5300()\">Show Summary - train</button>\n",
       "    <div class=\"st-content\" id=\"cont-5300\">\n",
       "      <style type=\"text/css\">\n",
       "#T_71585 thead>tr>th {\n",
       "  text-align: left;\n",
       "}\n",
       "#T_71585_row0_col0, #T_71585_row1_col0, #T_71585_row2_col0, #T_71585_row3_col0, #T_71585_row4_col0, #T_71585_row5_col0, #T_71585_row6_col0, #T_71585_row7_col0, #T_71585_row8_col0, #T_71585_row9_col0, #T_71585_row10_col0, #T_71585_row11_col0, #T_71585_row12_col0, #T_71585_row13_col0, #T_71585_row14_col0, #T_71585_row15_col0, #T_71585_row16_col0, #T_71585_row17_col0, #T_71585_row18_col0, #T_71585_row19_col0, #T_71585_row20_col0, #T_71585_row21_col0, #T_71585_row22_col0, #T_71585_row23_col0, #T_71585_row24_col0, #T_71585_row25_col0, #T_71585_row26_col0, #T_71585_row27_col0, #T_71585_row28_col0, #T_71585_row29_col0, #T_71585_row30_col0, #T_71585_row31_col0, #T_71585_row32_col0, #T_71585_row33_col0, #T_71585_row34_col0 {\n",
       "  text-align: left;\n",
       "  font-size: 12px;\n",
       "  vertical-align: middle;\n",
       "  width: 5%;\n",
       "  max-width: 50px;\n",
       "  min-width: 20px;\n",
       "}\n",
       "#T_71585_row0_col1, #T_71585_row1_col1, #T_71585_row2_col1, #T_71585_row3_col1, #T_71585_row4_col1, #T_71585_row5_col1, #T_71585_row6_col1, #T_71585_row7_col1, #T_71585_row8_col1, #T_71585_row9_col1, #T_71585_row10_col1, #T_71585_row11_col1, #T_71585_row12_col1, #T_71585_row13_col1, #T_71585_row14_col1, #T_71585_row15_col1, #T_71585_row16_col1, #T_71585_row17_col1, #T_71585_row18_col1, #T_71585_row19_col1, #T_71585_row20_col1, #T_71585_row21_col1, #T_71585_row22_col1, #T_71585_row23_col1, #T_71585_row24_col1, #T_71585_row25_col1, #T_71585_row26_col1, #T_71585_row27_col1, #T_71585_row28_col1, #T_71585_row29_col1, #T_71585_row30_col1, #T_71585_row31_col1, #T_71585_row32_col1, #T_71585_row33_col1, #T_71585_row34_col1 {\n",
       "  text-align: left;\n",
       "  font-size: 12px;\n",
       "  vertical-align: middle;\n",
       "  width: 15%;\n",
       "  max-width: 200px;\n",
       "  min-width: 100px;\n",
       "  word-break: break-word;\n",
       "}\n",
       "#T_71585_row0_col2, #T_71585_row1_col2, #T_71585_row2_col2, #T_71585_row3_col2, #T_71585_row4_col2, #T_71585_row5_col2, #T_71585_row6_col2, #T_71585_row7_col2, #T_71585_row8_col2, #T_71585_row9_col2, #T_71585_row10_col2, #T_71585_row11_col2, #T_71585_row12_col2, #T_71585_row13_col2, #T_71585_row14_col2, #T_71585_row15_col2, #T_71585_row16_col2, #T_71585_row17_col2, #T_71585_row18_col2, #T_71585_row19_col2, #T_71585_row20_col2, #T_71585_row21_col2, #T_71585_row22_col2, #T_71585_row23_col2, #T_71585_row24_col2, #T_71585_row25_col2, #T_71585_row26_col2, #T_71585_row27_col2, #T_71585_row28_col2, #T_71585_row29_col2, #T_71585_row30_col2, #T_71585_row31_col2, #T_71585_row32_col2, #T_71585_row33_col2, #T_71585_row34_col2 {\n",
       "  text-align: left;\n",
       "  font-size: 12px;\n",
       "  vertical-align: middle;\n",
       "  width: 30%;\n",
       "  min-width: 100px;\n",
       "}\n",
       "#T_71585_row0_col3, #T_71585_row1_col3, #T_71585_row2_col3, #T_71585_row3_col3, #T_71585_row4_col3, #T_71585_row5_col3, #T_71585_row6_col3, #T_71585_row7_col3, #T_71585_row8_col3, #T_71585_row9_col3, #T_71585_row10_col3, #T_71585_row11_col3, #T_71585_row12_col3, #T_71585_row13_col3, #T_71585_row14_col3, #T_71585_row15_col3, #T_71585_row16_col3, #T_71585_row17_col3, #T_71585_row18_col3, #T_71585_row19_col3, #T_71585_row20_col3, #T_71585_row21_col3, #T_71585_row22_col3, #T_71585_row23_col3, #T_71585_row24_col3, #T_71585_row25_col3, #T_71585_row26_col3, #T_71585_row27_col3, #T_71585_row28_col3, #T_71585_row29_col3, #T_71585_row30_col3, #T_71585_row31_col3, #T_71585_row32_col3, #T_71585_row33_col3, #T_71585_row34_col3 {\n",
       "  text-align: left;\n",
       "  font-size: 12px;\n",
       "  vertical-align: middle;\n",
       "  width: 25%;\n",
       "  min-width: 100px;\n",
       "}\n",
       "#T_71585_row0_col4, #T_71585_row1_col4, #T_71585_row2_col4, #T_71585_row3_col4, #T_71585_row4_col4, #T_71585_row5_col4, #T_71585_row6_col4, #T_71585_row7_col4, #T_71585_row8_col4, #T_71585_row9_col4, #T_71585_row10_col4, #T_71585_row11_col4, #T_71585_row12_col4, #T_71585_row13_col4, #T_71585_row14_col4, #T_71585_row15_col4, #T_71585_row16_col4, #T_71585_row17_col4, #T_71585_row18_col4, #T_71585_row19_col4, #T_71585_row20_col4, #T_71585_row21_col4, #T_71585_row22_col4, #T_71585_row23_col4, #T_71585_row24_col4, #T_71585_row25_col4, #T_71585_row26_col4, #T_71585_row27_col4, #T_71585_row28_col4, #T_71585_row29_col4, #T_71585_row30_col4, #T_71585_row31_col4, #T_71585_row32_col4, #T_71585_row33_col4, #T_71585_row34_col4 {\n",
       "  text-align: left;\n",
       "  font-size: 12px;\n",
       "  vertical-align: middle;\n",
       "  width: 20%;\n",
       "  min-width: 150px;\n",
       "}\n",
       "#T_71585_row0_col5, #T_71585_row1_col5, #T_71585_row2_col5, #T_71585_row3_col5, #T_71585_row4_col5, #T_71585_row5_col5, #T_71585_row6_col5, #T_71585_row7_col5, #T_71585_row8_col5, #T_71585_row9_col5, #T_71585_row10_col5, #T_71585_row11_col5, #T_71585_row12_col5, #T_71585_row13_col5, #T_71585_row14_col5, #T_71585_row15_col5, #T_71585_row16_col5, #T_71585_row17_col5, #T_71585_row18_col5, #T_71585_row19_col5, #T_71585_row20_col5, #T_71585_row21_col5, #T_71585_row22_col5, #T_71585_row23_col5, #T_71585_row24_col5, #T_71585_row25_col5, #T_71585_row26_col5, #T_71585_row27_col5, #T_71585_row28_col5, #T_71585_row29_col5, #T_71585_row30_col5, #T_71585_row31_col5, #T_71585_row32_col5, #T_71585_row33_col5, #T_71585_row34_col5 {\n",
       "  text-align: left;\n",
       "  font-size: 12px;\n",
       "  vertical-align: middle;\n",
       "  width: 10%;\n",
       "}\n",
       "</style>\n",
       "<table id=\"T_71585\">\n",
       "  <caption><strong>Data Frame Summary</strong><br>train<br>Dimensions: 1,677 x 35<br>Duplicates: 0</caption>\n",
       "  <thead>\n",
       "    <tr>\n",
       "      <th id=\"T_71585_level0_col0\" class=\"col_heading level0 col0\" >No</th>\n",
       "      <th id=\"T_71585_level0_col1\" class=\"col_heading level0 col1\" >Variable</th>\n",
       "      <th id=\"T_71585_level0_col2\" class=\"col_heading level0 col2\" >Stats / Values</th>\n",
       "      <th id=\"T_71585_level0_col3\" class=\"col_heading level0 col3\" >Freqs / (% of Valid)</th>\n",
       "      <th id=\"T_71585_level0_col4\" class=\"col_heading level0 col4\" >Graph</th>\n",
       "      <th id=\"T_71585_level0_col5\" class=\"col_heading level0 col5\" >Missing</th>\n",
       "    </tr>\n",
       "  </thead>\n",
       "  <tbody>\n",
       "    <tr>\n",
       "      <td id=\"T_71585_row0_col0\" class=\"data row0 col0\" >1</td>\n",
       "      <td id=\"T_71585_row0_col1\" class=\"data row0 col1\" ><strong>id</strong><br>[int64]</td>\n",
       "      <td id=\"T_71585_row0_col2\" class=\"data row0 col2\" >Mean (sd) : 838.0 (484.3)<br>min < med < max:<br>0.0 < 838.0 < 1676.0<br>IQR (CV) : 838.0 (1.7)</td>\n",
       "      <td id=\"T_71585_row0_col3\" class=\"data row0 col3\" >1,677 distinct values</td>\n",
       "      <td id=\"T_71585_row0_col4\" class=\"data row0 col4\" ><img src = \"data:image/png;base64, iVBORw0KGgoAAAANSUhEUgAAAKoAAABGCAYAAABc8A97AAAAOXRFWHRTb2Z0d2FyZQBNYXRwbG90bGliIHZlcnNpb24zLjcuMiwgaHR0cHM6Ly9tYXRwbG90bGliLm9yZy8pXeV/AAAACXBIWXMAAA9hAAAPYQGoP6dpAAACLElEQVR4nO3XvavaYBiG8fvVU4kfTfCjurl07BZwcenWsX/sWbt7oLNDl04uIohGTI9UbLr0jPWYBGpvuH6rPnnevFwIhqIoBPzvGvc+AHCLh9e+EEJoS2pVfH5D0q+Ks5L0syiK5yqDNc99z93Od1bn7FfPfTXUEEJ7OBx+juO4X3br5XJ5k+f5+16v973RaJzLzkvSfr8/hhC+SDqVHI0Gg8GnJEm6Vfbea7fzndU9++Fw2IUQHv8W62u/qK04jvvz+fw5SZJSL75arfrL5fJdmqbfJpPJrsysJK3X67dPT08fp9PpqNlsltp9Pp8jSR9ms9nX0Wh0cNntfGd1zp5lWbRYLPrb7bYlqVKokqQkSU7j8fhHmeW73a4tSd1ut/Tsy3wURZ00TU9lX/zPpXWiKDo77Xa/M6n62SW1r314U6j3VOXFXy7NeXcdrue+hn/9sECosECosECosECosECosECosECosECosECosECosECosECosECosECosECosECosECosECosECosECosECosECosECosECosECosECosECosECosECosECosECosECosECosECosECosECosECosECosECosECosECosECosECosECosECosECosECosECosECosECosECosECosECosECosECosECosECosECosECosECosECosPBwy5eyLIvKPvh4PEaSlOd5tNlsOv9y3nW367nrzt/S129w+TPf/1A7FwAAAABJRU5ErkJggg==\"></img></td>\n",
       "      <td id=\"T_71585_row0_col5\" class=\"data row0 col5\" >0<br>(0.0%)</td>\n",
       "    </tr>\n",
       "    <tr>\n",
       "      <td id=\"T_71585_row1_col0\" class=\"data row1 col0\" >2</td>\n",
       "      <td id=\"T_71585_row1_col1\" class=\"data row1 col1\" ><strong>Age</strong><br>[int64]</td>\n",
       "      <td id=\"T_71585_row1_col2\" class=\"data row1 col2\" >Mean (sd) : 36.0 (8.5)<br>min < med < max:<br>18.0 < 35.0 < 60.0<br>IQR (CV) : 11.0 (4.2)</td>\n",
       "      <td id=\"T_71585_row1_col3\" class=\"data row1 col3\" >43 distinct values</td>\n",
       "      <td id=\"T_71585_row1_col4\" class=\"data row1 col4\" ><img src = \"data:image/png;base64, iVBORw0KGgoAAAANSUhEUgAAAKoAAABGCAYAAABc8A97AAAAOXRFWHRTb2Z0d2FyZQBNYXRwbG90bGliIHZlcnNpb24zLjcuMiwgaHR0cHM6Ly9tYXRwbG90bGliLm9yZy8pXeV/AAAACXBIWXMAAA9hAAAPYQGoP6dpAAACs0lEQVR4nO3dTW7iMBiA4c9DQQakRPwIdlyg0iyQ2HCAWc5h5wizYDFrbsAOCaEgMo0IP7MaqZVoC7HT+nPfZ++SxSuoHccxl8tFgNB9++wLAG7x8NkXECpjTFtEWhWHHy6Xy5PP6/nqCPUKY0x7MBj8TJKkV2X8brfbGmN+Eas/hHpdK0mS3nw+f0rTtLhnYJZldrFY9DabTUtECNUTQn1DmqbFaDT6W2Fo2/vFfHFMpqACoUIFQoUKhAoVop1MOa6DJufzuenzeuAm6FAdYrP9fv9HmqbdKp9blqU9nU6PRVH8FpEqs354FmyoLovuZVlaEXmczWZ/hsPh7t7xq9Wqt1wuO8fjsXHvWNQj2FDFYdH9f2jW2rLKOuh2u2UdNDAhhyoi1RbdCS0+zPqhAqFCBUKFCoQKFQgVKhAqVCBUqBD8OqpGp9OpKSKJMabKcJ63uoJQPcvzvFmW5ffJZNJoNBp33VET4Xmr1xCqZ4fD4cFa25lOp8V4PN7eM5bnrV5HqDXpdrs8b+URkymoQKhQgVChAqFCBUKFCoQKFQgVKhAqVCBUqECoUIFQoQKhQgVChQrsngqM46ZrkUg3XhNqQFw3XYvEu/GaUAPisulaJO6N14QaIIdN1yKRbrxmMgUVav1G5dRn+FJbqK5vv+PUZzxX5zdq5YN4RTj1GS/VPpmq+vY7DuPFc0ymoAKhQgVChQos+Ecm1gPaCDUiMR/QRqgRifmANkKNUIwHtDGZggqEChXe/el32FjCphJ482aorm94ZlOJLiE/BvPeN6rzG57ZVKJD6I/B3DTr5w3P8Qv9MRiWp/BCqI/BECq8qfP2LaHCi7pv3xIqvKj79i2hwqu6bt9yZwoqECpUIFSocNP/qFmW2Xv/8H6/tyIieZ7b9Xrd+cjxWj9b63W7jr+lr3+8gq6b7yyBNQAAAABJRU5ErkJggg==\"></img></td>\n",
       "      <td id=\"T_71585_row1_col5\" class=\"data row1 col5\" >0<br>(0.0%)</td>\n",
       "    </tr>\n",
       "    <tr>\n",
       "      <td id=\"T_71585_row2_col0\" class=\"data row2 col0\" >3</td>\n",
       "      <td id=\"T_71585_row2_col1\" class=\"data row2 col1\" ><strong>BusinessTravel</strong><br>[object]</td>\n",
       "      <td id=\"T_71585_row2_col2\" class=\"data row2 col2\" >1. Travel_Rarely<br>2. Travel_Frequently<br>3. Non-Travel</td>\n",
       "      <td id=\"T_71585_row2_col3\" class=\"data row2 col3\" >1,290 (76.9%)<br>261 (15.6%)<br>126 (7.5%)</td>\n",
       "      <td id=\"T_71585_row2_col4\" class=\"data row2 col4\" ><img src = \"data:image/png;base64, iVBORw0KGgoAAAANSUhEUgAAAJsAAABFCAYAAABdVZTTAAAAOXRFWHRTb2Z0d2FyZQBNYXRwbG90bGliIHZlcnNpb24zLjcuMiwgaHR0cHM6Ly9tYXRwbG90bGliLm9yZy8pXeV/AAAACXBIWXMAAA9hAAAPYQGoP6dpAAABnElEQVR4nO3bQWoiYRSF0VeNhM6kChFcjIvoxfYiajci1iAJmVQGTaCnlnr/n+5zVvDAT6XEO6zrWpDwo/UB/D+GqnqtqpfWh/AUn+u6vrc+4tvucDj8Gsdx3/oQHm9ZlsswDL97CW43juP+dDq9T9P00foYHud6vf6c53l/Pp9fqqqP2Kqqpmn6OB6Pb62P4eFeWx/wNw8IxIiNGLERIzZixEaM2IgRGzFiI0ZsxIiNGLERIzZixEaM2IjZVf3571PrQ3isHl/T3bIsl3me99XZf5+437Isl6r6bH3HNxuEf1tXG4TBlI+UxCdbV+8u2nn6uqq3hQ/tPHVd1ePCh3YS6ypPuVSVH3UJEhsxYiNGbMSIjRixESM2YsRGjNiIERsxYiNGbMSIjRixEfPUdVWPCx/aefq6qreFD+3YIBBjXUWMBwRitnyN+lpkk5unfKZ5bHXTlM80j3tsmfKZ5rGJBwRixEaM2IgRGzFiI0ZsxIiNGLERIzZixEaM2IgRGzFiI0ZsxNw05TPN4x43T/lM89jKBoEYUz5ivgBKvKNKOIK9wQAAAABJRU5ErkJggg==\"></img></td>\n",
       "      <td id=\"T_71585_row2_col5\" class=\"data row2 col5\" >0<br>(0.0%)</td>\n",
       "    </tr>\n",
       "    <tr>\n",
       "      <td id=\"T_71585_row3_col0\" class=\"data row3 col0\" >4</td>\n",
       "      <td id=\"T_71585_row3_col1\" class=\"data row3 col1\" ><strong>DailyRate</strong><br>[int64]</td>\n",
       "      <td id=\"T_71585_row3_col2\" class=\"data row3 col2\" >Mean (sd) : 892.7 (374.5)<br>min < med < max:<br>107.0 < 890.0 < 3921.0<br>IQR (CV) : 634.0 (2.4)</td>\n",
       "      <td id=\"T_71585_row3_col3\" class=\"data row3 col3\" >625 distinct values</td>\n",
       "      <td id=\"T_71585_row3_col4\" class=\"data row3 col4\" ><img src = \"data:image/png;base64, iVBORw0KGgoAAAANSUhEUgAAAKoAAABGCAYAAABc8A97AAAAOXRFWHRTb2Z0d2FyZQBNYXRwbG90bGliIHZlcnNpb24zLjcuMiwgaHR0cHM6Ly9tYXRwbG90bGliLm9yZy8pXeV/AAAACXBIWXMAAA9hAAAPYQGoP6dpAAACNUlEQVR4nO3dMW7iQBiG4X/WgAxIthASdFxgpRSUHGIPu0dIwQm4AR0Ssoxw4sUYp0q12gR7cOLP+z79GBevSDz+Nbiqqgzouh/ffQPAPQZtXtw5NzazkcclLlVVvT7qfqCrtVCdc+P5fP4riqJZ02ucTqfEOfebWNHmN+ooiqLZZrN5jeM4r7s4TdNwu93OjsfjyMwI9T/X6p9+M7M4jvPFYvHScPn4oTcDWTxMQQKhQgKhQkLr/6P6KMtyaGaRc67Jcra2eqSzoWZZNiyK4mm1WgVBENTeNWBrq186G+rlchmEYThZr9f5crlM6qxla6t/Ohvqu+l02nR7i62tHuFhChIIFRIIFRIIFRIIFRIIFRIIFRIIFRIIFRIIFRIIFRI6/66/Kc8RQTPGBDull6H6jgiaMSbYNb0M1WdE0IwxwS7qZajvPEYEzRgT7BQepiCBUCGBUCGBUCGBUCGBUCGBUCGBUCGBUCGBUCHh01eoHufwR7fbbdhgHfCXD0P1OYe/KIqwLMufeZ4/m1nT9+2AmX3+jdr4HP79fj/b7XaT6/UaeNwfYGZ3Tk81OYc/SRKmj/AwPExBAqFCAqFCAqFCAqFCAqFCAqFCAqFCAqFCAqFCAqFCAqFCAqFCAqFCAqFCAqFCAqFCAqFCAqFCAqFCAqFCAqFCAqFCAqFCAqFCAqFCAqFCwl1nT6VpGta98Pl8Ds3MsiwLD4fD5CvX+352mqZhWZYD8/vRX9Tzp6qqfx7E9wZ0ALjYewJyiwAAAABJRU5ErkJggg==\"></img></td>\n",
       "      <td id=\"T_71585_row3_col5\" class=\"data row3 col5\" >0<br>(0.0%)</td>\n",
       "    </tr>\n",
       "    <tr>\n",
       "      <td id=\"T_71585_row4_col0\" class=\"data row4 col0\" >5</td>\n",
       "      <td id=\"T_71585_row4_col1\" class=\"data row4 col1\" ><strong>Department</strong><br>[object]</td>\n",
       "      <td id=\"T_71585_row4_col2\" class=\"data row4 col2\" >1. Research & Development<br>2. Sales<br>3. Human Resources</td>\n",
       "      <td id=\"T_71585_row4_col3\" class=\"data row4 col3\" >1,167 (69.6%)<br>471 (28.1%)<br>39 (2.3%)</td>\n",
       "      <td id=\"T_71585_row4_col4\" class=\"data row4 col4\" ><img src = \"data:image/png;base64, iVBORw0KGgoAAAANSUhEUgAAAJsAAABFCAYAAABdVZTTAAAAOXRFWHRTb2Z0d2FyZQBNYXRwbG90bGliIHZlcnNpb24zLjcuMiwgaHR0cHM6Ly9tYXRwbG90bGliLm9yZy8pXeV/AAAACXBIWXMAAA9hAAAPYQGoP6dpAAABnElEQVR4nO3bQWrqYBiF4T8XKbeTBBFcjIvoYu8ishsRM2hLJ+ngjkqlFSEnfOR5VvCBr0rE083z3CDhz9oHsB1da+25tfa09iHc7WOe57e1j3jE7nA4vPR9v1/7EO4zTdOl67p/FYPb9X2/P51Ob8MwvK99DD+7Xq9/x3Hcn8/np9Zavdhaa20Yhvfj8fi69jHc5XntAx7lAYEYsREjNmLERozYiBEbMWIjRmzEiI0YsREjNmLERozYiBEbMbvW/v9Pau1D+F3112k3TdNlHMd9K/w/qS2ZpunSWvtY+45H2CDUU3aD0JnykVLxk63sO3vryq2rKq+Ltq7Uuqr6umjrKq6rPDUX5UddYsRGjNiIERsxYiNGbMSIjRixESM2YsRGjNiIERsxYiNGbMSUWldVuZPbyq2rKq+Lts4GgRjrKmI8IBBz62vU1xSL+DblM5VjKV+mfKZyLOnWlK/ETyDU4wGBGLERIzZixEaM2IgRGzFiI0ZsxIiNGLERIzZixEaM2IgRGzFfpnymcizp25TPVI6l2CAQY8pHzCe+8aNKHsqlqwAAAABJRU5ErkJggg==\"></img></td>\n",
       "      <td id=\"T_71585_row4_col5\" class=\"data row4 col5\" >0<br>(0.0%)</td>\n",
       "    </tr>\n",
       "    <tr>\n",
       "      <td id=\"T_71585_row5_col0\" class=\"data row5 col0\" >6</td>\n",
       "      <td id=\"T_71585_row5_col1\" class=\"data row5 col1\" ><strong>DistanceFromHome</strong><br>[int64]</td>\n",
       "      <td id=\"T_71585_row5_col2\" class=\"data row5 col2\" >Mean (sd) : 8.7 (7.8)<br>min < med < max:<br>1.0 < 7.0 < 29.0<br>IQR (CV) : 10.0 (1.1)</td>\n",
       "      <td id=\"T_71585_row5_col3\" class=\"data row5 col3\" >29 distinct values</td>\n",
       "      <td id=\"T_71585_row5_col4\" class=\"data row5 col4\" ><img src = \"data:image/png;base64, iVBORw0KGgoAAAANSUhEUgAAAKoAAABGCAYAAABc8A97AAAAOXRFWHRTb2Z0d2FyZQBNYXRwbG90bGliIHZlcnNpb24zLjcuMiwgaHR0cHM6Ly9tYXRwbG90bGliLm9yZy8pXeV/AAAACXBIWXMAAA9hAAAPYQGoP6dpAAACxklEQVR4nO3cwY6aQBjA8W/qalBTiHGjN1+gSQ8evfQN+rC99lYTfQHfwIsxIYjRLhHBHlo323S76AyufOT/OzvA4S+EgcGcTicBqu7DvQ8AuMRD0Q+MMW0RaVlu/3A6nZ4sxwLP3gzVGNPu9/tffd/v2Wx8u91GxphvxApXRWfUlu/7vclk8hQEQXLNhuM49mazWS8Mw5aIECqcFF76RUSCIEgGg8FPi+23LcYA/+BmCioQKlQgVKhAqFCBUKECoUIFQoUKhAoVCBUqECpUIFSoQKhQgVChAqFCBUKFCoQKFQgVKhAqVCBUqECoUIFQoQKhQgVChQqEChUIFSoQKlQgVKhAqFCBUKECoUIFQoUKF30f9V74LDvOKhsqn2XHS5UNVfgsO16ocqgiwmfZ8Rs3U1CBUKECoUIFQoUKN72ZyrKsKSK+McZmuJ/nebPkQ4JSNwt1v9830zT9PBqNGo1G46rpJRGRNE29LMs+JUnyQ0Rs7vpRIzcL9XA4PHie1xmPx8lwOIyuHb9cLnuLxaJzPB4btzg+6HLzedRut2s1DxpFEfOgeMbNFFQgVKhAqFCBUKFC5V9KseU4hyvC+6yVUstQXedwRXiftWpqGarrHC7vs1ZPLUM9s53D/YN53ArhZgoqECpUqPWl/15YPVs+Qi2Z6+rZzWazM8Z8FxGr2QpxCN3xD+a07yKEWj7r1bOr1erjfD7/MhqNHt97Ws31D+ay70sQ6o3YrJ6Noqh9x2k16z/Yed/T6XQQhuGjMWZ77XgpOBsTagW5TKtlWeaL3RM5P8/zZhAEkc2+XR+yFJ2NCbVGXGJxXVHh8pDlkisBof6Hw7sCd1vr5RJLWSsqHK4Gbz5gIdRX3PPMVAabWKq+ooJQX1GFMxP+RqhvqOOZSauLQo3j2Lt2w7vdzhMR2e/33nq97rzneK371nrcruMv6esXCv6zxW9wOr8AAAAASUVORK5CYII=\"></img></td>\n",
       "      <td id=\"T_71585_row5_col5\" class=\"data row5 col5\" >0<br>(0.0%)</td>\n",
       "    </tr>\n",
       "    <tr>\n",
       "      <td id=\"T_71585_row6_col0\" class=\"data row6 col0\" >7</td>\n",
       "      <td id=\"T_71585_row6_col1\" class=\"data row6 col1\" ><strong>Education</strong><br>[int64]</td>\n",
       "      <td id=\"T_71585_row6_col2\" class=\"data row6 col2\" >1. 3<br>2. 4<br>3. 2<br>4. 1<br>5. 5<br>6. 15</td>\n",
       "      <td id=\"T_71585_row6_col3\" class=\"data row6 col3\" >682 (40.7%)<br>464 (27.7%)<br>304 (18.1%)<br>182 (10.9%)<br>44 (2.6%)<br>1 (0.1%)</td>\n",
       "      <td id=\"T_71585_row6_col4\" class=\"data row6 col4\" ><img src = \"data:image/png;base64, iVBORw0KGgoAAAANSUhEUgAAAJsAAACKCAYAAAC96ziyAAAAOXRFWHRTb2Z0d2FyZQBNYXRwbG90bGliIHZlcnNpb24zLjcuMiwgaHR0cHM6Ly9tYXRwbG90bGliLm9yZy8pXeV/AAAACXBIWXMAAA9hAAAPYQGoP6dpAAACo0lEQVR4nO3bQWrbUBiF0V/GpM1ExhiyhHYPXkQX20V4Ed2DMdagSTNRBxmFhMYQ677KOmcFz/Ah8YxuN45jQcKq9QFYDrERIzZixEZMV1X3VXXX+iCNPI/j+Nj6EEux3u12P/q+37Y+SAvDMJy6rvspuIx13/fb/X7/uNlsnlofJul8Pn89HA7b4/F4V1ViC1hXVW02m6eHh4ffrQ/TwH3rAyyJCwIxYiNGbMSIjRixESM2YsRGjNiIERsxYiNGbMSIjRixEbOuevncpvVB0pb4m1tbD8NwOhwO21rg5zbDMJyq6rn1OZbCZ+G+0o3pjJRJmduTzZNoxmY1eDFQmbfZDF4MVOZvboOXxd2Yb4k/dYkRGzFiI0ZsxIiNGLERIzZixEaM2IgRGzFiI0ZsxIiNGLERM5t11RzOyL/Nal1lDTVvNgjEWFcR0+LJ5um0UPF1lYXUckXXVRZSy9ZiXfXf33qZhj91iREbMWIjRmzEiI0YsREjNmLERozYiBEbMWIjRmzEiI0YsRETXVdZSC1bfF1lIbVcNgjEWFcRc60nm6cVH7rKuspiikt8el1lMcWlrrWuspjiQ/7UJUZsxIiNGLERIzZixEaM2IgRGzFiI0ZsxIiNGLERIzZiPj14MWLhUlcZvBixcAmfhRNj8EKMCwIx771GvRKZxJt1laUUU3m1rrKUYkrvrasspZiECwIxYiNGbMSIjRixESM2YsRGjNiIERsxYiNGbMSIjRixEfNqXWUpxZTerKsspZiKz8KJsa4ixgWBmFXXdd+7rnMxYHKrqvpWVV9aH4Tb5zVKjNiIERsxYiNGbMSIjRixESM2YsRGjNiIERsxYiNGbMSIjRixESM2YlZV9auq/rQ+CLfP4IUYr1FixEaM2IgRGzF/ATK+E5ZPN4HaAAAAAElFTkSuQmCC\"></img></td>\n",
       "      <td id=\"T_71585_row6_col5\" class=\"data row6 col5\" >0<br>(0.0%)</td>\n",
       "    </tr>\n",
       "    <tr>\n",
       "      <td id=\"T_71585_row7_col0\" class=\"data row7 col0\" >8</td>\n",
       "      <td id=\"T_71585_row7_col1\" class=\"data row7 col1\" ><strong>EducationField</strong><br>[object]</td>\n",
       "      <td id=\"T_71585_row7_col2\" class=\"data row7 col2\" >1. Life Sciences<br>2. Medical<br>3. Marketing<br>4. Technical Degree<br>5. Other<br>6. Human Resources</td>\n",
       "      <td id=\"T_71585_row7_col3\" class=\"data row7 col3\" >775 (46.2%)<br>549 (32.7%)<br>152 (9.1%)<br>106 (6.3%)<br>82 (4.9%)<br>13 (0.8%)</td>\n",
       "      <td id=\"T_71585_row7_col4\" class=\"data row7 col4\" ><img src = \"data:image/png;base64, iVBORw0KGgoAAAANSUhEUgAAAJsAAACKCAYAAAC96ziyAAAAOXRFWHRTb2Z0d2FyZQBNYXRwbG90bGliIHZlcnNpb24zLjcuMiwgaHR0cHM6Ly9tYXRwbG90bGliLm9yZy8pXeV/AAAACXBIWXMAAA9hAAAPYQGoP6dpAAACqElEQVR4nO3dQU7bUBiF0T/IQmXiKIrEYlgEi+0ivJsowoOCmKSD0llFHNtcG/ecFTzQpxcc+Yrd5XIpSLhb+gD8P8RGjNiIERsxu6p6qKr7pQ+yYu+Xy+V16UNsQXM8Hp/btj0sfZC16vv+vNvtfgpuuqZt28PT09Prfr9/W/owa/Py8vKj67rD6XS6ryqxTdRUVe33+7fHx8dfSx9mpR6WPsBWeEAgRmzEiI0YsREjNmLERozYiBEbMWIjRmzEiI0YsREjNmKaqj+v0ix9kDXye5lX0/f9ueu6Q3mV5p/6vj9X1fvS59gCr4Vf57XwmeyMlEnZ2s3mFlqxTQ1ejFPWbTODF+OU9dva4MUT9Yr5UpcYsREjNmLERozYiBEbMWIjRmzEiI0YsREjNmLERozYiBEbMZtZV23hZ9i6Ta2rLKHWzQaBGOsqYqbcbG4RbjJ6XWXJxK1GrassmRhjyrrq2z+9kuVLXWLERozYiBEbMWIjRmzEiI0YsREjNmLERozYiBEbMWIjRmzEjFpXWTIxxuh1lSUTt7JBIMa6iphbbjY3GZMMXldZUzHVoHWVNRVzuGVdZU3FJL7UJUZsxIiNGLERIzZixEaM2IgRGzFiI0ZsxIiNGLERIzZiBg1eDFyYw+DBi4ELU3ktnBiDF2I8IBAz5GPUxyezuLqusqpiLp+uq6yqmNOQdZVVFbPwgECM2IgRGzFiI0ZsxIiNGLERIzZixEaM2IgRGzFiI0ZsxHy6rrKqYk5X11VWVczFa+HEWFcR8/dmK7cXX605Ho/PVVVGLXy1u7ZtDx/rqjH/BhIG8z0bMWIjRmzEiI0YsREjNmLERozYiBEbMWIjRmzEiI0YsREjNmLERozYiGk+1lNVFlR8MRsEYqyriPE3GzFiI0ZsxPwGszkjyPFkLkwAAAAASUVORK5CYII=\"></img></td>\n",
       "      <td id=\"T_71585_row7_col5\" class=\"data row7 col5\" >0<br>(0.0%)</td>\n",
       "    </tr>\n",
       "    <tr>\n",
       "      <td id=\"T_71585_row8_col0\" class=\"data row8 col0\" >9</td>\n",
       "      <td id=\"T_71585_row8_col1\" class=\"data row8 col1\" ><strong>EmployeeCount</strong><br>[int64]</td>\n",
       "      <td id=\"T_71585_row8_col2\" class=\"data row8 col2\" >1. 1</td>\n",
       "      <td id=\"T_71585_row8_col3\" class=\"data row8 col3\" >1,677 (100.0%)</td>\n",
       "      <td id=\"T_71585_row8_col4\" class=\"data row8 col4\" ><img src = \"data:image/png;base64, iVBORw0KGgoAAAANSUhEUgAAAJsAAAAXCAYAAAAcEz0vAAAAOXRFWHRTb2Z0d2FyZQBNYXRwbG90bGliIHZlcnNpb24zLjcuMiwgaHR0cHM6Ly9tYXRwbG90bGliLm9yZy8pXeV/AAAACXBIWXMAAA9hAAAPYQGoP6dpAAAAnUlEQVR4nO3bsQ0CMRBE0TlkoSPx6mTJxbgIUvovYZPjQgJqYCyZ/yqY4Ie7m6SHpLuAHyuttWet9Zg9BOsrtdZjjPGOiGv2GKwrM/ciSRFx9d7P2YOwttvsAfgfxAYbYoMNscGG2GBDbLAhNtgQG2yIDTbEBhtigw2xwYbYYENssCE22BAbbIgNNkX6nuzOHoK1Zea+tdZePLzA4QPFNA/EDSh7IQAAAABJRU5ErkJggg==\"></img></td>\n",
       "      <td id=\"T_71585_row8_col5\" class=\"data row8 col5\" >0<br>(0.0%)</td>\n",
       "    </tr>\n",
       "    <tr>\n",
       "      <td id=\"T_71585_row9_col0\" class=\"data row9 col0\" >10</td>\n",
       "      <td id=\"T_71585_row9_col1\" class=\"data row9 col1\" ><strong>EnvironmentSatisfaction</strong><br>[int64]</td>\n",
       "      <td id=\"T_71585_row9_col2\" class=\"data row9 col2\" >1. 4<br>2. 3<br>3. 2<br>4. 1</td>\n",
       "      <td id=\"T_71585_row9_col3\" class=\"data row9 col3\" >537 (32.0%)<br>496 (29.6%)<br>345 (20.6%)<br>299 (17.8%)</td>\n",
       "      <td id=\"T_71585_row9_col4\" class=\"data row9 col4\" ><img src = \"data:image/png;base64, iVBORw0KGgoAAAANSUhEUgAAAJsAAABcCAYAAAB5jMeAAAAAOXRFWHRTb2Z0d2FyZQBNYXRwbG90bGliIHZlcnNpb24zLjcuMiwgaHR0cHM6Ly9tYXRwbG90bGliLm9yZy8pXeV/AAAACXBIWXMAAA9hAAAPYQGoP6dpAAAB6klEQVR4nO3bQWrbUBSF4atiQjORMAYvxovoYrsI7cYYa9CETNRBxukgLuf58b5vBXfwIyOjM+37XpDwo/UBjENsxExV9VpVL60P+Q8+9n1/a30EXzucTqdf8zwfWx/yqG3bbtM0/Rbc8zrM83y8XC5vy7K8tz7mu+73+891XY/X6/WlqsT2pA5VVcuyvJ/P5z+tj3nQa+sD+DcvCMSIjRixESM2YsRGjNiIERsxYiNGbMSIjRixESM2YsRGzKHq8xOd1oc8ovf7R3HYtu22ruuxOv9EZ9u2W1V9tL6Dr/ksnJjJlI8ULwjE9Pwz6mezM92uq6yp+tPlusqaqk89r6u6/qtmRF4QiBEbMWIjRmzEiI0YsREjNmLERozYiBEbMWIjRmzEiI0YsRHT5ZSvt3v51O2Uz3SvPzYIxJjyEfMMTzZPqEE0X1dZSY2j6brKSmosz7Cu6uotmO/zpy4xYiNGbMSIjRixESM2YsRGjNiIERsxYiNGbMSIjRixESM2Ypquq6ykxtJ8XWUlNQ4bBGKsq4hp8WTzJBtUfF1lTTWu6LrKmmpsLdZV1lSD8qcuMWIjRmzEiI0YsREjNmLERozYiBEbMWIjRmzEiI0YsREjNmKi6yprqrHF11XWVOOyQSDGuooYLwjE/AUnnNi5n1bwGwAAAABJRU5ErkJggg==\"></img></td>\n",
       "      <td id=\"T_71585_row9_col5\" class=\"data row9 col5\" >0<br>(0.0%)</td>\n",
       "    </tr>\n",
       "    <tr>\n",
       "      <td id=\"T_71585_row10_col0\" class=\"data row10 col0\" >11</td>\n",
       "      <td id=\"T_71585_row10_col1\" class=\"data row10 col1\" ><strong>Gender</strong><br>[object]</td>\n",
       "      <td id=\"T_71585_row10_col2\" class=\"data row10 col2\" >1. Male<br>2. Female</td>\n",
       "      <td id=\"T_71585_row10_col3\" class=\"data row10 col3\" >1,064 (63.4%)<br>613 (36.6%)</td>\n",
       "      <td id=\"T_71585_row10_col4\" class=\"data row10 col4\" ><img src = \"data:image/png;base64, iVBORw0KGgoAAAANSUhEUgAAAJsAAAAuCAYAAAA/ZmtKAAAAOXRFWHRTb2Z0d2FyZQBNYXRwbG90bGliIHZlcnNpb24zLjcuMiwgaHR0cHM6Ly9tYXRwbG90bGliLm9yZy8pXeV/AAAACXBIWXMAAA9hAAAPYQGoP6dpAAABOElEQVR4nO3bwYnDMBRF0a/BhMlGwhhcjIuYYqcIdWOMtUhCNsoiNfjJ1r+ngp9wMST4hVqrAQrBzO5mdmt9COxda322PuJIwzRNfzHGsfUh3pVSthDCf8/BDTHGcVmWZ0rp1foYr/Z9/805j+u63sys39jMzFJKr3meH62Pce7e+oCj/bQ+AH4QG2SIDTLEBhligwyxQYbYIENskCE2yBAbZIgNMsQGGWKDDLFBhtggM5h9X95rfYhnXr7/oZSy5ZxHc/Dy3pmVUjYze7e+40gMXs6j+8FLYMoHFS9Ptu6fGlfgYsrnYSZ3Bd1P+bzM5K7Ay5SPX9onwJ+6kCE2yBAbZIgNMsQGGWKDDLFBhtggQ2yQITbIEBtkiA0yxAYZYoMMsUGm+ylfz5/talxM+TzM5K6AwQtkPgpbat+zkoHLAAAAAElFTkSuQmCC\"></img></td>\n",
       "      <td id=\"T_71585_row10_col5\" class=\"data row10 col5\" >0<br>(0.0%)</td>\n",
       "    </tr>\n",
       "    <tr>\n",
       "      <td id=\"T_71585_row11_col0\" class=\"data row11 col0\" >12</td>\n",
       "      <td id=\"T_71585_row11_col1\" class=\"data row11 col1\" ><strong>HourlyRate</strong><br>[int64]</td>\n",
       "      <td id=\"T_71585_row11_col2\" class=\"data row11 col2\" >Mean (sd) : 67.8 (19.4)<br>min < med < max:<br>30.0 < 69.0 < 100.0<br>IQR (CV) : 33.0 (3.5)</td>\n",
       "      <td id=\"T_71585_row11_col3\" class=\"data row11 col3\" >71 distinct values</td>\n",
       "      <td id=\"T_71585_row11_col4\" class=\"data row11 col4\" ><img src = \"data:image/png;base64, iVBORw0KGgoAAAANSUhEUgAAAKoAAABGCAYAAABc8A97AAAAOXRFWHRTb2Z0d2FyZQBNYXRwbG90bGliIHZlcnNpb24zLjcuMiwgaHR0cHM6Ly9tYXRwbG90bGliLm9yZy8pXeV/AAAACXBIWXMAAA9hAAAPYQGoP6dpAAAC5ElEQVR4nO3cMW/aQBiA4e8gREdIbUEo2bx0jNQBiYWlW8f+2K7dOhCpM0OXTlkQEiIg3CAcQ4dKraqKBN/5wB96n/1iK34h9t05ZrfbCVB1tVOfAHCIi1OfAMpljGmKyKXj8M1ut3uq4rEJtWI8L7btdDof4zhuuQxeLpdzY8xnl1iNMc2bm5tPURS1QxybUCvE92JnWWZF5G4wGHzrdrvLImMXi4UdjUbt2Wx2KSIu36qXURS1h8PhUxzH67KPTajV4nyxRUQeHh7a4/H4ylqb9Xq9nw7HbzqM+Uccx+sQxybUCnK92PP53Du0quKpHyoQKlQgVKhAqFCBUKECoUKFs52e8lzhEfn9Id46jvVaisT/zjJU3xWePM8baZq+u76+/lGr1bKi432WIk8pz/OGiETGGJfh0Xa7bZR8Sn+cZahSzgrP236///329nZeZGwJS5EnkaZpI8uy90mS1Ov1euHfWZZlNs/zu/V6/VVEXFamXnSuoYqI/wpPq9UKshxYRZvN5sJae9Xv99dFP5wif5dvn5+f6yHO76xDRXGuH87Qy7c89UMFQoUKQf/0lzBFxDQPRCRgqL5TRCIij4+PK2PMFxEp+hQadKoExxfyG9Vrimgymby5v7//kCRJt+h0SeipEhxf8Kd+nyki1+mS0FMlOL7KT0+5TJeceqe7xwoPtyx7VD5UbXxWeLhl2Y9QS+azwsMty36EGojGW5YqY8IfKhAqVCBUqECoUIFQoQKhQgVChQqEChUIFSoQKlQgVKhAqFDh1U0pHu89sbcSpXkxVJ/3nthbiTK99o3q/N4TeytRpoP2o7q898TeSpSJhymoQKhQgVChAqFCBUKFCoQKFQgVKhAqVCBUqECoUIFQoQKhQgVChQqEChUIFSoQKlQgVKhAqFCBUKECoUIFQoUKhAoVCBUqECpUIFSocNB/SlksFrboD16tVlZEJE1TO51Or445XuuxtZ637/hD+voFEcKB+5FreMIAAAAASUVORK5CYII=\"></img></td>\n",
       "      <td id=\"T_71585_row11_col5\" class=\"data row11 col5\" >0<br>(0.0%)</td>\n",
       "    </tr>\n",
       "    <tr>\n",
       "      <td id=\"T_71585_row12_col0\" class=\"data row12 col0\" >13</td>\n",
       "      <td id=\"T_71585_row12_col1\" class=\"data row12 col1\" ><strong>JobInvolvement</strong><br>[int64]</td>\n",
       "      <td id=\"T_71585_row12_col2\" class=\"data row12 col2\" >1. 3<br>2. 2<br>3. 4<br>4. 1</td>\n",
       "      <td id=\"T_71585_row12_col3\" class=\"data row12 col3\" >1,107 (66.0%)<br>358 (21.3%)<br>139 (8.3%)<br>73 (4.4%)</td>\n",
       "      <td id=\"T_71585_row12_col4\" class=\"data row12 col4\" ><img src = \"data:image/png;base64, iVBORw0KGgoAAAANSUhEUgAAAJsAAABcCAYAAAB5jMeAAAAAOXRFWHRTb2Z0d2FyZQBNYXRwbG90bGliIHZlcnNpb24zLjcuMiwgaHR0cHM6Ly9tYXRwbG90bGliLm9yZy8pXeV/AAAACXBIWXMAAA9hAAAPYQGoP6dpAAAB90lEQVR4nO3bwWnjQACF4dFiQnKRMAYX4yK22C1C3RhjHTYhF+WQwxJEEizEG+/k+yoY8I+MxLxunucCCb9qH4CfQ2zEdKWUp1LKQ+2DsPA6z/Nz7UNsaXc4HH73fb+vfRA+mqbp0nXdn5aC2/V9vz+dTs/DMLzUPgzvrtfr4ziO+/P5/FBKaSe2UkoZhuHleDz+rX0YPniqfYCteUEgRmzEiI0YsREjNmLERozYiBEbMWIjRmzEiI0YsREjNmJ2pbxfaal9EP5p9ffYTdN0GcdxXxq80vI/m6bpUkp5rX2OLbkWfr+auxbemfKR4gWBmHv5G23uL4Olu1hXtbgkYqn6uqrVJRFL97Ku8tnlB/CCQIzYiBEbMWIjRmzEiI0YsREjNmLERozYiBEbMWIjRmzEiI2Y6lO+VmdrLN3FlK/F2RpLNgjEmPIRs/bJ5knEzVatq6yhWOPmdZU1FGutXVdZQ3EzH3WJERsxYiNGbMSIjRixESM2YsRGjNiIERsxYiNGbMSIjRixEXPzusoairVWrausoVjDBoEY6ypivnuyeYKxmS/XVVZUbOnTdZUVFVv7bl1lRcVmfNQlRmzEiI0YsREjNmLERozYiBEbMWIjRmzEiI0YsREjNmLERsyn6yorKrb25brKioot2SAQY11FjBcEYt4As1jYuXXk/7IAAAAASUVORK5CYII=\"></img></td>\n",
       "      <td id=\"T_71585_row12_col5\" class=\"data row12 col5\" >0<br>(0.0%)</td>\n",
       "    </tr>\n",
       "    <tr>\n",
       "      <td id=\"T_71585_row13_col0\" class=\"data row13 col0\" >14</td>\n",
       "      <td id=\"T_71585_row13_col1\" class=\"data row13 col1\" ><strong>JobLevel</strong><br>[int64]</td>\n",
       "      <td id=\"T_71585_row13_col2\" class=\"data row13 col2\" >1. 1<br>2. 2<br>3. 3<br>4. 4<br>5. 5<br>6. 7</td>\n",
       "      <td id=\"T_71585_row13_col3\" class=\"data row13 col3\" >655 (39.1%)<br>617 (36.8%)<br>235 (14.0%)<br>94 (5.6%)<br>75 (4.5%)<br>1 (0.1%)</td>\n",
       "      <td id=\"T_71585_row13_col4\" class=\"data row13 col4\" ><img src = \"data:image/png;base64, iVBORw0KGgoAAAANSUhEUgAAAJsAAACKCAYAAAC96ziyAAAAOXRFWHRTb2Z0d2FyZQBNYXRwbG90bGliIHZlcnNpb24zLjcuMiwgaHR0cHM6Ly9tYXRwbG90bGliLm9yZy8pXeV/AAAACXBIWXMAAA9hAAAPYQGoP6dpAAACpElEQVR4nO3bQW7aUBiF0d8Ipc0ECyFlCe0eWEQX20V4Ed0DQnjQpJnQQUeNkoAa+5ra56zgIX2y9ZBvcz6fCxJWUx+A5RAbMWIjRmzENFV1X1V3Ux8k7Pl8Pj9OfYilWe92u2+bzWY79UGS+r4/Nk3zXXBZ681ms93v949t2z5NfZiE0+n0ueu67eFwuKsqsQWtq6ratn16eHj4OfVhgu6nPsASuSAQIzZixEaM2IgRGzFiI0ZsxIiNGLERIzZixEaM2IgRGzHrqj+f3Ux9kJQl/dZbs+77/th13bYW9NlN3/fHqnqe+hxL47NwYhojZVKW8mTzJLsBixi8GLjchtkPXgxcbsdSBi+LuWnfMn/qEiM2YsRGjNiIERsxYiNGbMSIjRixESM2YsRGjNiIERsxYiNm9uuqOf+2/80i1lXWVLfBBoEY6ypixnyyeZrwl9HWVRZNvDTKusqiideMua6a7e2Wf+NPXWLERozYiBEbMWIjRmzEiI0YsREjNmLERozYiBEbMWIjRmzEjLKusmjiNaOtqyyaeMkGgRjrKmKufbJ5SvFhV62rLKUYwsV1laUUQ7l2XWUpxYf5U5cYsREjNmLERozYiBEbMWIjRmzEiI0YsREjNmLERozYiLk4eDFeYShXDV6MVxiCz8KJMXghxgWBmEuvUa9PBvPuusqqiiG9ua6yqmJol9ZVVlUMxgWBGLERIzZixEaM2IgRGzFiI0ZsxIiNGLERIzZixEaM2Ih5c11lVcXQ3l1XWVUxJJ+FE2NdRYwLAjGrpmm+Nk3jMsDoVlX1pao+TX0Q5s9rlBixESM2YsRGjNiIERsxYiNGbMSIjRixESM2YsRGjNiIERsxYiNGbMSsqupHVf2a+iDMn8ELMV6jxIiNGLERIzZifgOm8xOWDr5QZAAAAABJRU5ErkJggg==\"></img></td>\n",
       "      <td id=\"T_71585_row13_col5\" class=\"data row13 col5\" >0<br>(0.0%)</td>\n",
       "    </tr>\n",
       "    <tr>\n",
       "      <td id=\"T_71585_row14_col0\" class=\"data row14 col0\" >15</td>\n",
       "      <td id=\"T_71585_row14_col1\" class=\"data row14 col1\" ><strong>JobRole</strong><br>[object]</td>\n",
       "      <td id=\"T_71585_row14_col2\" class=\"data row14 col2\" >1. Sales Executive<br>2. Research Scientist<br>3. Laboratory Technician<br>4. Manufacturing Director<br>5. Healthcare Representative<br>6. Manager<br>7. Sales Representative<br>8. Research Director<br>9. Human Resources</td>\n",
       "      <td id=\"T_71585_row14_col3\" class=\"data row14 col3\" >355 (21.2%)<br>344 (20.5%)<br>334 (19.9%)<br>196 (11.7%)<br>155 (9.2%)<br>111 (6.6%)<br>77 (4.6%)<br>71 (4.2%)<br>34 (2.0%)</td>\n",
       "      <td id=\"T_71585_row14_col4\" class=\"data row14 col4\" ><img src = \"data:image/png;base64, iVBORw0KGgoAAAANSUhEUgAAAJsAAADPCAYAAADifqNtAAAAOXRFWHRTb2Z0d2FyZQBNYXRwbG90bGliIHZlcnNpb24zLjcuMiwgaHR0cHM6Ly9tYXRwbG90bGliLm9yZy8pXeV/AAAACXBIWXMAAA9hAAAPYQGoP6dpAAADjklEQVR4nO3dTWobWQBG0VIQpjORMAYvRovoxWYR2o0x1qAdMlEPOt0kDbb1U7ovpM6ZeaQaXJ5R8T57dTweJyh8Gv0ALIfYyIiNjNjIiI2M2MiIjcxqmqbP0zTdDX6Ob8fj8XXwM3Bj64eHhz83m839yIc4HA7Pq9Xqi+B+b+vNZnO/2+1et9vt1xEP8PLy8sd+v79/enq6m6ZJbL+x9TRN03a7/fr4+PjXwOf4PPCzifiCQEZsZMRGRmxkxEZGbGTERkZsZMRGRmxkxEZGbGTERmY9Tf9c8xn1ACM/m9b6cDg87/f7+2ngNZ/D4fA8TdO3UZ9Pw7VwMit/64PKr3CyOdUWYvjgxdhlOYYOXoxdluVXGLwYuyyEl7pkxEZGbGTERkZsZMRGRmxkxEZGbGTERkZsZMRGRmxkhg5ejF2WZfjgxdhlOVwLJ2PwQsYXBDKjf436FbogQ9dVllXLMmxdZVm1PKPXVZZVC+ILAhmxkREbGbGRERsZsZERGxmxkREbGbGRERsZsZERG5lh6yrLquUZuq6yrFoW18LJWFeRmfNkc0rxrtkGL8YrfGSWwYvxCqeYc/BivMK7vNQlIzYyYiMjNjJiIyM2MmIjIzYyYiMjNjJiIyM2MmIjM8vgxXiFU8w2eDFe4SOuhZMxeCFzzcnmJOMsFw9eDFw410WDFwMXLnHN4MXAhbN4qUtGbGTERkZsZMRGRmxkxEZGbGTERkZsZMRGRmxkxEZGbGQuWldZU3GJi9dV1lScywaBjHUVmXNONicZVzl5XWVNxbVOWldZUzGHc9ZV1lRcxUtdMmIjIzYyYiMjNjJiIyM2MmIjIzYyYiMjNjJiIyM2MicNXgxcmMPJgxcDF67lWjgZgxcyH51sTjNm8+7gxciFOb05eDFyYW4fDV6MXJiNl7pkxEZGbGTERkZsZMRGRmxkxEZGbGTERkZsZMRGRmxkxEbmzXWVRRVze3ddZVHFnGwQyFhXkXGykbGuImNdRca6ioyXumTERkZsZMRGRmxkxEZGbGTERkZsZMRGRmxkxEZGbGQMXsgYvJBxLZyMwQuZ/59sTjJu5qfBi4ELt/Tp38HLbrd7/R7dKf8OEs723+Dl+88GLtyMl7pkxEZGbGTERkZsZMRGRmxkxEZGbGTERkZsZMRGRmxkxEbmzXUVzO3HdZU1FTdlg0DGuoqMLwhkxEZGbGTERkZsZMRG5m9ly9eU+1Sf3gAAAABJRU5ErkJggg==\"></img></td>\n",
       "      <td id=\"T_71585_row14_col5\" class=\"data row14 col5\" >0<br>(0.0%)</td>\n",
       "    </tr>\n",
       "    <tr>\n",
       "      <td id=\"T_71585_row15_col0\" class=\"data row15 col0\" >16</td>\n",
       "      <td id=\"T_71585_row15_col1\" class=\"data row15 col1\" ><strong>JobSatisfaction</strong><br>[int64]</td>\n",
       "      <td id=\"T_71585_row15_col2\" class=\"data row15 col2\" >1. 4<br>2. 3<br>3. 1<br>4. 2</td>\n",
       "      <td id=\"T_71585_row15_col3\" class=\"data row15 col3\" >561 (33.5%)<br>516 (30.8%)<br>310 (18.5%)<br>290 (17.3%)</td>\n",
       "      <td id=\"T_71585_row15_col4\" class=\"data row15 col4\" ><img src = \"data:image/png;base64, iVBORw0KGgoAAAANSUhEUgAAAJsAAABcCAYAAAB5jMeAAAAAOXRFWHRTb2Z0d2FyZQBNYXRwbG90bGliIHZlcnNpb24zLjcuMiwgaHR0cHM6Ly9tYXRwbG90bGliLm9yZy8pXeV/AAAACXBIWXMAAA9hAAAPYQGoP6dpAAAB6ElEQVR4nO3bQWrbUBiF0V9FhGYiYQxejBfRxXYR2o0x1qAJmaiDDtNZzH2R3jkreIYPmSd0h23bChJ+tD4A/RAbMUNVvVbVS+uDPNHHtm1vrQ/BZ+P5fP41TdOp9UGeZV3X+zAMvwX3/YzTNJ2u1+vbPM/vrQ/zVY/H4+eyLKfb7fZSVWL7Zsaqqnme3y+Xy5/Wh3mS19YH4P9cEIgRGzFiI0ZsxIiNGLERIzZixEaM2IgRGzFiI0ZsxIiNmLHq36c5rQ/yDEf5HUc1rut6X5blVAf5NGdd13tVfbQ+B5/5LJyYwZSPFBcEYo7wN+pvcyd2v66yptqPXa+rrKn25QjrqkO8sumBCwIxYiNGbMSIjRixESM2YsRGjNiIERsxYiNGbMSIjRixESM2YnY95dvruXu1+ymf6d5+2CAQY8pHTKsnm6dRh5qsqyyi+hRfV1lE9avVumqXN1++xktdYsRGjNiIERsxYiNGbMSIjRixESM2YsRGjNiIERsxYiNGbMTE11UWUf1qsq6yiOqTDQIx1lXEpJ9snmgdi66rrKr6FltXWVWRXldZVXXMS11ixEaM2IgRGzFiI0ZsxIiNGLERIzZixEaM2IgRGzFiI0ZsxMTWVVZVRNdVVlV9s0EgxrqKGBcEYv4CJ5zYuW5y+D4AAAAASUVORK5CYII=\"></img></td>\n",
       "      <td id=\"T_71585_row15_col5\" class=\"data row15 col5\" >0<br>(0.0%)</td>\n",
       "    </tr>\n",
       "    <tr>\n",
       "      <td id=\"T_71585_row16_col0\" class=\"data row16 col0\" >17</td>\n",
       "      <td id=\"T_71585_row16_col1\" class=\"data row16 col1\" ><strong>MaritalStatus</strong><br>[object]</td>\n",
       "      <td id=\"T_71585_row16_col2\" class=\"data row16 col2\" >1. Married<br>2. Single<br>3. Divorced</td>\n",
       "      <td id=\"T_71585_row16_col3\" class=\"data row16 col3\" >773 (46.1%)<br>577 (34.4%)<br>327 (19.5%)</td>\n",
       "      <td id=\"T_71585_row16_col4\" class=\"data row16 col4\" ><img src = \"data:image/png;base64, iVBORw0KGgoAAAANSUhEUgAAAJsAAABFCAYAAABdVZTTAAAAOXRFWHRTb2Z0d2FyZQBNYXRwbG90bGliIHZlcnNpb24zLjcuMiwgaHR0cHM6Ly9tYXRwbG90bGliLm9yZy8pXeV/AAAACXBIWXMAAA9hAAAPYQGoP6dpAAABl0lEQVR4nO3bQYoaURSF4VtBmvSkChFcjIvIYrOI2o2INUg3PakMMgyEDOS8x6vvW8FVfpQSz7Tve0HCt9YHcBxTVb1X1VvrQzr1te/7R+sjRnG6XC4/5nk+tz6kR9u2PaZp+im41zjN83y+3W4fy7J8tj6mJ8/n8/u6ruf7/f5WVWJ7gVNV1bIsn9fr9VfrYzr03vqAkXhAIEZsxIiNGLERIzZixEaM2IgRGzFiI0ZsxIiNGLERIzZixEbMqerPf7daH9Ib78nrnbZte6zrei7/3frLtm2PqvpqfccobBD+zQbhhSZTPlJG/WTzidShIddVVlF9Gm5dZRXVr1HXVZ6sO+RHXWLERozYiBEbMWIjRmzEiI0YsREjNmLERozYiBEbMWIjRmzEDLeuGum1jGbIdZVVVJ9sEIixriLGAwIxLb9GfdUdTLMpn7nd8TSZ8pnbHVPLKd8wP7XwfzwgECM2YsRGjNiIERsxYiNGbMSIjRixESM2YsRGjNiIERsxYiOmyZTP3O6Ymk35zO2OxwaBGFM+Yn4D1nijSiOH6vEAAAAASUVORK5CYII=\"></img></td>\n",
       "      <td id=\"T_71585_row16_col5\" class=\"data row16 col5\" >0<br>(0.0%)</td>\n",
       "    </tr>\n",
       "    <tr>\n",
       "      <td id=\"T_71585_row17_col0\" class=\"data row17 col0\" >18</td>\n",
       "      <td id=\"T_71585_row17_col1\" class=\"data row17 col1\" ><strong>MonthlyIncome</strong><br>[int64]</td>\n",
       "      <td id=\"T_71585_row17_col2\" class=\"data row17 col2\" >Mean (sd) : 6196.0 (4520.1)<br>min < med < max:<br>1010.0 < 4834.0 < 19973.0<br>IQR (CV) : 4528.0 (1.4)</td>\n",
       "      <td id=\"T_71585_row17_col3\" class=\"data row17 col3\" >895 distinct values</td>\n",
       "      <td id=\"T_71585_row17_col4\" class=\"data row17 col4\" ><img src = \"data:image/png;base64, iVBORw0KGgoAAAANSUhEUgAAAKoAAABGCAYAAABc8A97AAAAOXRFWHRTb2Z0d2FyZQBNYXRwbG90bGliIHZlcnNpb24zLjcuMiwgaHR0cHM6Ly9tYXRwbG90bGliLm9yZy8pXeV/AAAACXBIWXMAAA9hAAAPYQGoP6dpAAADDElEQVR4nO3dsW7aQBjA8e8gEAPWOYiWbFk6ZKjUgdEPkYftIyRSniBDFiY2FIKM4obiGLqUqFKlgO/s4M/6/+ac8fDXweeTYrPb7QSou9apbwA4xtmhPzDG9ESk63j9zW63e3VcC7z7MFRjTG80Gt1Ya4cuF1+tVktjzE9iha9DO2rXWjuM4/g1iqJ1kQsnSRLc398PF4tFV0QIFV4OfvWLiERRtB6Px78crt9zWAP8h2EKKhy1o7rK87wjItYY43oJhjGISIWhpmnaybLsx9XVVbvdbhf6fbvHMIa9ykLdbDZnQRD0J5PJ+vLycll0PcMY/lXpV7+IyGAwcB3ERBjG8BfDFFSofEf14TmMMYg1SG1D9R3GGMSapbah+gxjDGLNU9tQ9zyGMQaxBmGYggqEChUIFSoQKlQgVKhAqFCBUKECoUIFQoUKhAoVCBUqECpUIFSoQKhQgVChAqFCBUKFCoQKFQgVKhAqVCBUqECoUIFQoQKhQgVChQqEChUIFSoQKlQgVKhAqFCBUKECoUIFQoUKhAoVCBUq1P5/+Lsq4T2sLRHZOq7l1UEla2Sovq/+yfO8k6bptzAMp61WKyu6nlcHla+Rofq+h3U2mw0fHh6+TiaTR14dVA+NDHXP9dU/y+Wy57NeeHVQ6RimoAKhQgVChQqN/o2Kz2WM6YlI13H5h4/0CBWlMMb0RqPRjbV26LL+0CM9Qq2A52HDyQ4LPHdEG4bhOI7jVRRFhZ5dH/NIj1BL5nvYcKrDAt8dMcuyIM/z7+fn57dVPNIj1JL5HDYkSRLc3d2NF4vFF2PMyvUWHCPvWmuHcRy/Ft0RRd4PSfpvb29th88+iFAr4nJY4Lsbi/jvyFEUeR2SVIVQa8T36LfJx7eEWkMeR7ciDT2+5YE/VGBHbRiPR2N2u912KrilUhBqg/gMY/vHS+v1+lZEXH92VOaoUJMkCYpe+OXlJRARSdM0mM/n/c9cr/Wzfe/7+fk5DIKgf319bS4uLn4XWfv09BRMp9N+kiSD+Xy+KfrZPvd+TF9/AHgQns2nBpnoAAAAAElFTkSuQmCC\"></img></td>\n",
       "      <td id=\"T_71585_row17_col5\" class=\"data row17 col5\" >0<br>(0.0%)</td>\n",
       "    </tr>\n",
       "    <tr>\n",
       "      <td id=\"T_71585_row18_col0\" class=\"data row18 col0\" >19</td>\n",
       "      <td id=\"T_71585_row18_col1\" class=\"data row18 col1\" ><strong>MonthlyRate</strong><br>[int64]</td>\n",
       "      <td id=\"T_71585_row18_col2\" class=\"data row18 col2\" >Mean (sd) : 14770.0 (7112.2)<br>min < med < max:<br>636.0 < 15332.0 < 26999.0<br>IQR (CV) : 12481.0 (2.1)</td>\n",
       "      <td id=\"T_71585_row18_col3\" class=\"data row18 col3\" >903 distinct values</td>\n",
       "      <td id=\"T_71585_row18_col4\" class=\"data row18 col4\" ><img src = \"data:image/png;base64, iVBORw0KGgoAAAANSUhEUgAAAKoAAABGCAYAAABc8A97AAAAOXRFWHRTb2Z0d2FyZQBNYXRwbG90bGliIHZlcnNpb24zLjcuMiwgaHR0cHM6Ly9tYXRwbG90bGliLm9yZy8pXeV/AAAACXBIWXMAAA9hAAAPYQGoP6dpAAACyElEQVR4nO3dMW/aQBiH8fcgIEOQLYQaNpaOlTow8iH6YfsROuQTMHTJxIaEEFHcIBybLslQKSVwZ4f7W89vv+Dh8fH6koA7Ho8GxK5z7QsAznFz7QtoI+fcwMz6nssPx+Pxuc7raQNCrZlzbjCZTH6kaTr2Wf/4+Lh1zv28RqyBN5hZgzcZodavn6bpeLFYPGdZtr9k4W63S+7v78ebzaZvZp8aaugNZtbsTUaoDcmybH93d/fHY+mg9os5j/cNZtb8TUao+EfADWbW4E3GUz8kNLqjxjycQ0tjocY+nENLkztq1MM5tDT+MBXrcN5WAeNWWlVVr+7rqQtP/S0SMm4VRZGUZfltv9//MjPfjaUxhNou3uPWarUaL5fL4cvLS7epiwtBqJEpy7JnZqlzzmd5WlVVL8uy7aXj1na7jXrMItSI5HneK4ri+2w263a73YsfQGN/+w4RdaiBu0vHzKqAl//0M9zD4XCTJMlwPp/vp9Pp9tL1sb99h4g21JDdpSzLXp7nX0ej0UOn0yl8Xv+aZ7i3t7deJyWxv32HiDbUkN3ldWf5Mp/Pf/vsTJzhxifaUN/47C5vO4vvzvSqtbtTUwJHtZOjVvShQkPog+BHoxahohYho9o5oxaholYB49bJUYtQ/yNg3or6d+aqCPUdIfNWmw/dr4lQ31HD0VgrD92viVBPCDkaQ734nylIIFRIIFRIIFRIIFRIIFRIIFRIIFRIIFRIIFRIIFRIIFRIIFRIIFRIIFRIIFRIIFRIIFRIIFRIIFRIIFRIIFRIIFRI+PD/+tv6dTDQcjLUNn8dDLR8tKO29utgoOWsj/Tx+fY9PtoGdeJhChIIFRIIFRIIFRIIFRIIFRIIFRIIFRIIFRIIFRIIFRIIFRIIFRIIFRIIFRLO+nvU3W6XXPqDn56eEjOzPM+T9Xo9/Mz1qq+tet2h68/p6y+pWKnR+v9V4gAAAABJRU5ErkJggg==\"></img></td>\n",
       "      <td id=\"T_71585_row18_col5\" class=\"data row18 col5\" >0<br>(0.0%)</td>\n",
       "    </tr>\n",
       "    <tr>\n",
       "      <td id=\"T_71585_row19_col0\" class=\"data row19 col0\" >20</td>\n",
       "      <td id=\"T_71585_row19_col1\" class=\"data row19 col1\" ><strong>NumCompaniesWorked</strong><br>[int64]</td>\n",
       "      <td id=\"T_71585_row19_col2\" class=\"data row19 col2\" >1. 1<br>2. 0<br>3. 2<br>4. 3<br>5. 4<br>6. 7<br>7. 6<br>8. 9<br>9. 5<br>10. 8</td>\n",
       "      <td id=\"T_71585_row19_col3\" class=\"data row19 col3\" >606 (36.1%)<br>253 (15.1%)<br>169 (10.1%)<br>166 (9.9%)<br>161 (9.6%)<br>88 (5.2%)<br>68 (4.1%)<br>63 (3.8%)<br>61 (3.6%)<br>42 (2.5%)</td>\n",
       "      <td id=\"T_71585_row19_col4\" class=\"data row19 col4\" ><img src = \"data:image/png;base64, iVBORw0KGgoAAAANSUhEUgAAAJsAAADnCAYAAAAJgSQ2AAAAOXRFWHRTb2Z0d2FyZQBNYXRwbG90bGliIHZlcnNpb24zLjcuMiwgaHR0cHM6Ly9tYXRwbG90bGliLm9yZy8pXeV/AAAACXBIWXMAAA9hAAAPYQGoP6dpAAADuElEQVR4nO3cXWobSQBG0dIgQvIiYQxejBcxi51FaDfGWA9JyIvyEBjy4ziS1XWb8ZyzgjZcSnRTnzen02lA4a+1H4D/D7GRERsZsZERGxmxkREbGbGRERuZzRjjwxjj3doPMtGX0+n0ae2HYIzt7e3t37vd7mbtB5nleDw+bjabfwS3vu1ut7u5v7//tN/vP6/9MEt7enp6fzgcbh4eHt6NMcS2su0YY+z3+893d3cf136YST6s/QB84wWBjNjIiI2M2MiIjYzYyIiNjNjIiI2M2MiIjYzYyIiNzHaMb1dx1n6QGd7q3/VftT0ej4+Hw+FmvNGrOMfj8XGM8WXt58C1cEIb/8WIyuyTzanCv6YOXoxN+N60wYuxCT+bPXh5k2+4vI6PumTERkZsZMRGRmxkxEZGbGTERkZsZMRGRmxkxEZGbGSmDV6MTfjZ1MGLsQnfcy2cjMELmSVONqcXZ7l68GLUwrmuGrwYtXCJJQYvRi2cxUddMmIjIzYyYiMjNjJiIyM2MmIjIzYyYiMjNjJiIyM2MmIjc9W6yoKKS1y9rrKg4lw2CGSsq8hce7I51TjbVesqyyou8ep1lWUVl7p2XWVZxdl81CUjNjJiIyM2MmIjIzYyYiMjNjJiIyM2MmIjIzYyYiPz6sGLsQuXumrwYuzCJVwLJ2PwQsbJRsbghYzBCxmDFzI+6pIRGxmxkREbGbGRERsZsZERGxmxkREbGbGRERsZsZExeCFj8ELGtXAyBi9kvCCQOedn1E8li/jjusqCiqW8uK6yoGJJ56yrLKhYhBcEMmIjIzYyYiMjNjJiIyM2MmIjIzYyYiMjNjJiIyM2Mi+uqyyoWNIf11UWVCzFtXAy1lVkXjrZnGgs6reDF0MXlvbs4MXQhRleGrwYurAoH3XJiI2M2MiIjYzYyIiNjNjIiI2M2MiIjYzYyIiNjNjIPDt4MXRhht8OXgxdWJpr4WQMXsh4QSDjZ5SMdRUZ6yoy1lVkvCCQERsZsZERGxmxkREbGbGRERsZsZERGxmxkREbGbGRsa4iY11FxrVwMtZVZJxsZAxeyBi8kDF4IeOjLhmxkREbGbGRERsZsZERGxmxkREbGbGRERsZsZERGxmDFzIGL2RcCydj8ELmuZPNicYUvwxeDF2Y5YfBi6ELMz03eDF0YQofdcmIjYzYyIiNjNjIiI2M2MiIjYzYyIiNjNjIiI2M2MiIjcwP6yqrKmb6ZV1lVcUsNghkrKvIeEEgIzYyYiMjNjJiIyM2MmIj8xUdDxlzkqOqvgAAAABJRU5ErkJggg==\"></img></td>\n",
       "      <td id=\"T_71585_row19_col5\" class=\"data row19 col5\" >0<br>(0.0%)</td>\n",
       "    </tr>\n",
       "    <tr>\n",
       "      <td id=\"T_71585_row20_col0\" class=\"data row20 col0\" >21</td>\n",
       "      <td id=\"T_71585_row20_col1\" class=\"data row20 col1\" ><strong>Over18</strong><br>[object]</td>\n",
       "      <td id=\"T_71585_row20_col2\" class=\"data row20 col2\" >1. Y</td>\n",
       "      <td id=\"T_71585_row20_col3\" class=\"data row20 col3\" >1,677 (100.0%)</td>\n",
       "      <td id=\"T_71585_row20_col4\" class=\"data row20 col4\" ><img src = \"data:image/png;base64, iVBORw0KGgoAAAANSUhEUgAAAJsAAAAXCAYAAAAcEz0vAAAAOXRFWHRTb2Z0d2FyZQBNYXRwbG90bGliIHZlcnNpb24zLjcuMiwgaHR0cHM6Ly9tYXRwbG90bGliLm9yZy8pXeV/AAAACXBIWXMAAA9hAAAPYQGoP6dpAAAAnUlEQVR4nO3bsQ0CMRBE0TlkoSPx6mTJxbgIUvovYZPjQgJqYCyZ/yqY4Ie7m6SHpLuAHyuttWet9Zg9BOsrtdZjjPGOiGv2GKwrM/ciSRFx9d7P2YOwttvsAfgfxAYbYoMNscGG2GBDbLAhNtgQG2yIDTbEBhtigw2xwYbYYENssCE22BAbbIgNNkX6nuzOHoK1Zea+tdZePLzA4QPFNA/EDSh7IQAAAABJRU5ErkJggg==\"></img></td>\n",
       "      <td id=\"T_71585_row20_col5\" class=\"data row20 col5\" >0<br>(0.0%)</td>\n",
       "    </tr>\n",
       "    <tr>\n",
       "      <td id=\"T_71585_row21_col0\" class=\"data row21 col0\" >22</td>\n",
       "      <td id=\"T_71585_row21_col1\" class=\"data row21 col1\" ><strong>OverTime</strong><br>[object]</td>\n",
       "      <td id=\"T_71585_row21_col2\" class=\"data row21 col2\" >1. No<br>2. Yes</td>\n",
       "      <td id=\"T_71585_row21_col3\" class=\"data row21 col3\" >1,277 (76.1%)<br>400 (23.9%)</td>\n",
       "      <td id=\"T_71585_row21_col4\" class=\"data row21 col4\" ><img src = \"data:image/png;base64, iVBORw0KGgoAAAANSUhEUgAAAJsAAAAuCAYAAAA/ZmtKAAAAOXRFWHRTb2Z0d2FyZQBNYXRwbG90bGliIHZlcnNpb24zLjcuMiwgaHR0cHM6Ly9tYXRwbG90bGliLm9yZy8pXeV/AAAACXBIWXMAAA9hAAAPYQGoP6dpAAABPUlEQVR4nO3bQWrDMBRF0a9iQjORMAYvxovoYrsI7cYYa5CETNRBJ6HDWjx9nHtW8CE3gRi/UGs1QCGY2dXMLr0PQXPPWuu99xGvhmmavmKMY+9D0FYpZQshfHsKbogxjsuy3FNKj97HoI193z9zzuO6rhcz8xObmVlK6THP8633MWjq2vuAvz56H4D3QWyQITbIEBtkiA0yxAYZYoMMsUGG2CBDbJAhNsgQG2SIDTLEBhlig8xg9vuyXe9D0I7Xz3MopWw559EcvmyH/yulbGb27H3HKwYv5+Vu8BKY8kHF6y+bu28ljnM55fM4Q8Nx7qZ8XmdoOM7rlI9/xifEQ13IEBtkiA0yxAYZYoMMsUGG2CBDbJAhNsgQG2SIDTLEBhligwyxQYbYIONuyufpFrTlcsrncYaG4xi8QOYHCltq3yMaNyQAAAAASUVORK5CYII=\"></img></td>\n",
       "      <td id=\"T_71585_row21_col5\" class=\"data row21 col5\" >0<br>(0.0%)</td>\n",
       "    </tr>\n",
       "    <tr>\n",
       "      <td id=\"T_71585_row22_col0\" class=\"data row22 col0\" >23</td>\n",
       "      <td id=\"T_71585_row22_col1\" class=\"data row22 col1\" ><strong>PercentSalaryHike</strong><br>[int64]</td>\n",
       "      <td id=\"T_71585_row22_col2\" class=\"data row22 col2\" >Mean (sd) : 14.9 (3.4)<br>min < med < max:<br>11.0 < 14.0 < 25.0<br>IQR (CV) : 5.0 (4.4)</td>\n",
       "      <td id=\"T_71585_row22_col3\" class=\"data row22 col3\" >15 distinct values</td>\n",
       "      <td id=\"T_71585_row22_col4\" class=\"data row22 col4\" ><img src = \"data:image/png;base64, iVBORw0KGgoAAAANSUhEUgAAAKoAAABGCAYAAABc8A97AAAAOXRFWHRTb2Z0d2FyZQBNYXRwbG90bGliIHZlcnNpb24zLjcuMiwgaHR0cHM6Ly9tYXRwbG90bGliLm9yZy8pXeV/AAAACXBIWXMAAA9hAAAPYQGoP6dpAAACkElEQVR4nO3cy4riQBSA4VNj20SFFF7QnS/QMAvBjQ8wy3nYeYRZuJi1b+BOkBAx08GomcXQ0jD2aC7V5hT/t+6KWfx0UeRQJs9zAZruy6NfALjH060/MMZ0ROS55PMPeZ6/llwLXPw3VGNMZzgcfg/DsF/m4bvdLjLG/CBWVHXrP+pzGIb9xWLxaq1Nizw4juNguVz2t9vts4gQKiq5ufWLiFhr0/F4/LvE8zsl1gD/4DAFFQgVKhAqVCBUqECoUIFQoQKhQgVChQqEChXu+jL1KAzE4E1jQ2UgBu81NlRhIAbvNDlUEWEgBn9xmIIKhAoVCBUqECpUIFSoQKhQgVChAqFCBUKFCoQKFQgVKhAqVHA6lHI6ndoiEhpjyiwPz+dzu+ZXglLOQk2SpJ1l2dfpdNpqtVqFxvRERLIsC06n00uapj9FpMz0FDziLNTD4fAUBEF3Npulk8kkKrp+vV73V6tV93g8tly8H3RxPo/a6/VKzZNGUcQ8KS44TEEFQoUKhAoVCBUqECpUIFSoQKhQgVChAqFChcbflKIRl7vVj1BrxuVubhBq/bjczQFCdYTL3erFYQoqECpUIFSoQKhQgVChAqd+z/j6sYFQPeLzxwZC9Yu3HxsI9QMVttCHX5zh48cGQr2iyhbKxRluEOp1pbdQLs5ww9tQ67j3ylobFd1CuTjDDS9D5d4r/3gZquZ7r7gB8TovQ32j7d4rdoKPeR2qNpp3AtcItYG07QSfgVBRG5dzBoSKi4oHuWAwGHyz1vbKLL41Z0CoEJF6DnIi8jKfz3+NRqNdkbX3zBkQKkSkvoNcEASZizmDu0KN4zgo+qv7/T4QEUmSJNhsNt3PXK/1t5vw3lWV+e17+voDFsSW9c/iLd4AAAAASUVORK5CYII=\"></img></td>\n",
       "      <td id=\"T_71585_row22_col5\" class=\"data row22 col5\" >0<br>(0.0%)</td>\n",
       "    </tr>\n",
       "    <tr>\n",
       "      <td id=\"T_71585_row23_col0\" class=\"data row23 col0\" >24</td>\n",
       "      <td id=\"T_71585_row23_col1\" class=\"data row23 col1\" ><strong>PerformanceRating</strong><br>[int64]</td>\n",
       "      <td id=\"T_71585_row23_col2\" class=\"data row23 col2\" >1. 3<br>2. 4</td>\n",
       "      <td id=\"T_71585_row23_col3\" class=\"data row23 col3\" >1,463 (87.2%)<br>214 (12.8%)</td>\n",
       "      <td id=\"T_71585_row23_col4\" class=\"data row23 col4\" ><img src = \"data:image/png;base64, iVBORw0KGgoAAAANSUhEUgAAAJsAAAAuCAYAAAA/ZmtKAAAAOXRFWHRTb2Z0d2FyZQBNYXRwbG90bGliIHZlcnNpb24zLjcuMiwgaHR0cHM6Ly9tYXRwbG90bGliLm9yZy8pXeV/AAAACXBIWXMAAA9hAAAPYQGoP6dpAAABOElEQVR4nO3bMWrDQBCF4dkgTNzsIgQ6jA6Rw+YQexshNEVs3GyKtEHV6Nle/u8Ag4rfBhu91FozQCGZ2dXMLs9+ELykR2vtFnVsmKbpK+c8Rh1EP9x9Syl9RwU35JzHZVlupZR7xEH0Yd/3z1rruK7rxcxiYjMzK6Xc53n+iTiIrlwjj31EHgOOEBtkiA0yxAYZYoMMsUGG2CBDbJAhNsgQG2SIDTLEBhligwyxQYbYIDOY/b0o9+wHwWs5o4nB3bda62jBL8rh/bn7ZmaPqHsMXnAkdPCSmPJB5YxvttBPA/oRPuWLnn+hH6FTvjPmX+jHGVM+ftXiX/ypCxligwyxQYbYIENskCE2yBAbZIgNMsQGGWKDDLFBhtggQ2yQITbIEBtkQqd8TAJxJHzKFz3/Qj8YvEDmFwpbat/b0fysAAAAAElFTkSuQmCC\"></img></td>\n",
       "      <td id=\"T_71585_row23_col5\" class=\"data row23 col5\" >0<br>(0.0%)</td>\n",
       "    </tr>\n",
       "    <tr>\n",
       "      <td id=\"T_71585_row24_col0\" class=\"data row24 col0\" >25</td>\n",
       "      <td id=\"T_71585_row24_col1\" class=\"data row24 col1\" ><strong>RelationshipSatisfaction</strong><br>[int64]</td>\n",
       "      <td id=\"T_71585_row24_col2\" class=\"data row24 col2\" >1. 3<br>2. 4<br>3. 2<br>4. 1</td>\n",
       "      <td id=\"T_71585_row24_col3\" class=\"data row24 col3\" >523 (31.2%)<br>518 (30.9%)<br>337 (20.1%)<br>299 (17.8%)</td>\n",
       "      <td id=\"T_71585_row24_col4\" class=\"data row24 col4\" ><img src = \"data:image/png;base64, iVBORw0KGgoAAAANSUhEUgAAAJsAAABcCAYAAAB5jMeAAAAAOXRFWHRTb2Z0d2FyZQBNYXRwbG90bGliIHZlcnNpb24zLjcuMiwgaHR0cHM6Ly9tYXRwbG90bGliLm9yZy8pXeV/AAAACXBIWXMAAA9hAAAPYQGoP6dpAAAB0klEQVR4nO3bwWnjUBSF4atBhGQjYQwuxkVMsVOEujHGbzEJ2SiLFJCMB86Led9XwV38yMjoTPu+FyT86n0A4xAbMVNVvVTVU+9D/sP7vu+vvY/ga/PxePy9LMuh9yH3aq1dp2n6I7ifb16W5XA+n1/XdX3rfcy/ut1uz9u2HS6Xy1NVie2Hm6uq1nV9O51Of3sfc6eX3gfwPV4QiBEbMWIjRmzEiI0YsREjNmLERozYiBEbMWIjRmzEiI2YuerzU53eh9zjUe8e1dxau27bdqgH/VSntXatqvfed/A1n4UTM5nykeIFgRg/o8RYVxFjXUWMdRUxXhCIERsxYiNGbMSIjRixESM2YsRGjNiIERsxYiNGbMSIjRixEWPKR4wpHzE2CMSY8hHT+8nmqTSQrusqy6ixdFtXWUaNp/e66iHfgLmPP3WJERsxYiNGbMSIjRixESM2YsRGjNiIERsxYiNGbMSIjRixEdNtXWUZNZ6u6yrLqLHYIBBjXUVMjyebp9mg4usqi6pxRddVFlVj67GusqgalD91iREbMWIjRmzEiI0YsREjNmLERozYiBEbMWIjRmzEiI0YsRETXVdZVI0tvq6yqBqXDQIx1lXEeEEg5gOzWNi5XlXcFgAAAABJRU5ErkJggg==\"></img></td>\n",
       "      <td id=\"T_71585_row24_col5\" class=\"data row24 col5\" >0<br>(0.0%)</td>\n",
       "    </tr>\n",
       "    <tr>\n",
       "      <td id=\"T_71585_row25_col0\" class=\"data row25 col0\" >26</td>\n",
       "      <td id=\"T_71585_row25_col1\" class=\"data row25 col1\" ><strong>StandardHours</strong><br>[int64]</td>\n",
       "      <td id=\"T_71585_row25_col2\" class=\"data row25 col2\" >1. 80</td>\n",
       "      <td id=\"T_71585_row25_col3\" class=\"data row25 col3\" >1,677 (100.0%)</td>\n",
       "      <td id=\"T_71585_row25_col4\" class=\"data row25 col4\" ><img src = \"data:image/png;base64, iVBORw0KGgoAAAANSUhEUgAAAJsAAAAXCAYAAAAcEz0vAAAAOXRFWHRTb2Z0d2FyZQBNYXRwbG90bGliIHZlcnNpb24zLjcuMiwgaHR0cHM6Ly9tYXRwbG90bGliLm9yZy8pXeV/AAAACXBIWXMAAA9hAAAPYQGoP6dpAAAAnUlEQVR4nO3bsQ0CMRBE0TlkoSPx6mTJxbgIUvovYZPjQgJqYCyZ/yqY4Ie7m6SHpLuAHyuttWet9Zg9BOsrtdZjjPGOiGv2GKwrM/ciSRFx9d7P2YOwttvsAfgfxAYbYoMNscGG2GBDbLAhNtgQG2yIDTbEBhtigw2xwYbYYENssCE22BAbbIgNNkX6nuzOHoK1Zea+tdZePLzA4QPFNA/EDSh7IQAAAABJRU5ErkJggg==\"></img></td>\n",
       "      <td id=\"T_71585_row25_col5\" class=\"data row25 col5\" >0<br>(0.0%)</td>\n",
       "    </tr>\n",
       "    <tr>\n",
       "      <td id=\"T_71585_row26_col0\" class=\"data row26 col0\" >27</td>\n",
       "      <td id=\"T_71585_row26_col1\" class=\"data row26 col1\" ><strong>StockOptionLevel</strong><br>[int64]</td>\n",
       "      <td id=\"T_71585_row26_col2\" class=\"data row26 col2\" >1. 1<br>2. 0<br>3. 2<br>4. 3</td>\n",
       "      <td id=\"T_71585_row26_col3\" class=\"data row26 col3\" >745 (44.4%)<br>732 (43.6%)<br>135 (8.1%)<br>65 (3.9%)</td>\n",
       "      <td id=\"T_71585_row26_col4\" class=\"data row26 col4\" ><img src = \"data:image/png;base64, iVBORw0KGgoAAAANSUhEUgAAAJsAAABcCAYAAAB5jMeAAAAAOXRFWHRTb2Z0d2FyZQBNYXRwbG90bGliIHZlcnNpb24zLjcuMiwgaHR0cHM6Ly9tYXRwbG90bGliLm9yZy8pXeV/AAAACXBIWXMAAA9hAAAPYQGoP6dpAAAB9UlEQVR4nO3bUWqjUACF4esgZfqihEAWk0XMYmcR7iaE+NCWvtiHgaE0aSHWewzp963gEv4oiqeZpqlAwq+1D8DPITZimlLKYynlYe2D3JjXaZqe1z7EvWm32+2frus2ax/klozjeGya5q/gltV2XbfZ7/fPfd+/rH2YW3A6nX4Pw7A5HA4PpRSxLagtpZS+7192u93T2oe5IY9rH+AeeUAgRmzEiI0YsREjNmLERozYiBEbMWIjRmzEiI0YsREjNmLaUv59VrP2QW6F36KedhzH4zAMm+Kzmv/GcTyWUl7XPse98Vn4ZT4Lr6Ax5SPFAwIxbqPn3EIrsa76wLKqHuuqdyyr6rKuOucVUCUeEIgRGzFiI0ZsxIiNGLERIzZixEaM2IgRGzFiI0ZsxIiNGLERY8r3jt+hLlO+D8z46rFBOGeDUIkpHzFzrmz++cxy9brK+oi5rlpXWR/xHXPWVZ5amcVLXWLERozYiBEbMWIjRmzEiI0YsREjNmLERozYiBEbMWIjRmzEXLWusj7iO65eV1kfMZcNAjHWVcR8dWVzBWNRn66rrKhY2sV1lRUVNXy1rrKiYlFe6hIjNmLERozYiBEbMWIjRmzEiI0YsREjNmLERozYiBEbMWIj5uK6yoqKGj5dV1lRsTQbBGKsq4jxgEDMG7NY2Llcc1h9AAAAAElFTkSuQmCC\"></img></td>\n",
       "      <td id=\"T_71585_row26_col5\" class=\"data row26 col5\" >0<br>(0.0%)</td>\n",
       "    </tr>\n",
       "    <tr>\n",
       "      <td id=\"T_71585_row27_col0\" class=\"data row27 col0\" >28</td>\n",
       "      <td id=\"T_71585_row27_col1\" class=\"data row27 col1\" ><strong>TotalWorkingYears</strong><br>[int64]</td>\n",
       "      <td id=\"T_71585_row27_col2\" class=\"data row27 col2\" >Mean (sd) : 10.7 (7.3)<br>min < med < max:<br>0.0 < 9.0 < 41.0<br>IQR (CV) : 8.0 (1.5)</td>\n",
       "      <td id=\"T_71585_row27_col3\" class=\"data row27 col3\" >41 distinct values</td>\n",
       "      <td id=\"T_71585_row27_col4\" class=\"data row27 col4\" ><img src = \"data:image/png;base64, iVBORw0KGgoAAAANSUhEUgAAAKoAAABGCAYAAABc8A97AAAAOXRFWHRTb2Z0d2FyZQBNYXRwbG90bGliIHZlcnNpb24zLjcuMiwgaHR0cHM6Ly9tYXRwbG90bGliLm9yZy8pXeV/AAAACXBIWXMAAA9hAAAPYQGoP6dpAAACrklEQVR4nO3dsY7aQBRA0TdhQQZWBsQKOlqKSCkoafIH+di06YJEj8Qf0CEZbARZAhhSUS3Lwthe5k3u6Qe7uDKDbWbM6XQSwHVfHn0CwC2eivxwY0xVRCoZPmJ3Op1e8zof6FVYqMaYarvd/hGGYcv2M1ar1dIY85NYUeQVtRKGYWs4HL42Go3tvYOTJAnG43EriqKKiBDqf67Qr34RkUajse10On9sxqZpGopIaIyxGc60wSOFh2prs9mU9/v9t16vVyqVSndfkZk2+MXZUHe73VMQBLXBYLDtdrvLe8YybfCPs6Ge1et126lDNfeTwcNwHxUqECpUIFSoQKhQgVChAqFCBUKFCoQKFQgVKhAqVCBUqECoUIFQoQKhQgVChQqEChUIFSoQKlQgVKhAqFCBUKECoUKFD/8unWGhs/B4PJYtxgFvXA01y0Jn+/0+SNP063a7/S0iVkv6AGcfXVGtFzqbzWat6XRaOxwOpQznB4jIjSul2Cx0tlwuWakEueHHFFQgVKhAqFCBUKECoUIFQoUKhAoVCBUqECpUIFSo4PxmE7bSNC2L/R5VIuxT5RQvQ826R5UI+1S5xstQs+xRJcI+VS7yMtSzDHtUibBPlVP4MQUVCBUqECpU8HqOmkXG21vc2soZoV7AFuzuIdQL2ILdPYR6he3trTRNQ2HakCtCzRnThmIQas6YNhSDUAuS4akYT8Qu4D4qVCBUqMBXv2N4j/YyQnUI79G+j1Adwnu07yNUB/Ee7VuE6hlfX6YhVI/4/FSMUD2S9anYaDTqRFH0YoxZ2Z5CUZETqods5rh53HGI43htjPklIjbjr0Z+U6hJkgT3HnW9XgciIpvNJpjP57XPHK/12I8878Vi8RwEQa3f75tms/n33mPHcfw8mUy+93q9lyKmHf8AvC6fIjwpfNEAAAAASUVORK5CYII=\"></img></td>\n",
       "      <td id=\"T_71585_row27_col5\" class=\"data row27 col5\" >0<br>(0.0%)</td>\n",
       "    </tr>\n",
       "    <tr>\n",
       "      <td id=\"T_71585_row28_col0\" class=\"data row28 col0\" >29</td>\n",
       "      <td id=\"T_71585_row28_col1\" class=\"data row28 col1\" ><strong>TrainingTimesLastYear</strong><br>[int64]</td>\n",
       "      <td id=\"T_71585_row28_col2\" class=\"data row28 col2\" >1. 2<br>2. 3<br>3. 5<br>4. 4<br>5. 1<br>6. 0<br>7. 6</td>\n",
       "      <td id=\"T_71585_row28_col3\" class=\"data row28 col3\" >655 (39.1%)<br>626 (37.3%)<br>122 (7.3%)<br>122 (7.3%)<br>63 (3.8%)<br>50 (3.0%)<br>39 (2.3%)</td>\n",
       "      <td id=\"T_71585_row28_col4\" class=\"data row28 col4\" ><img src = \"data:image/png;base64, iVBORw0KGgoAAAANSUhEUgAAAJsAAAChCAYAAADQgM1HAAAAOXRFWHRTb2Z0d2FyZQBNYXRwbG90bGliIHZlcnNpb24zLjcuMiwgaHR0cHM6Ly9tYXRwbG90bGliLm9yZy8pXeV/AAAACXBIWXMAAA9hAAAPYQGoP6dpAAAC3UlEQVR4nO3bUUobUQCG0ZsSpH1JEMHFuIgutovIbkSchyq+pA99EmOpNfONdc5ZwQ183DDD/Jvj8Tig8GXpA7AeYiMjNjJiIyM2MpsxxrcxxsXSB4k9HY/Hh6UPsTbbq6ur77vd7nLpg5SmabrbbDY/BNfa7na7y5ubm4f9fv+49GEK9/f3Xw+Hw+Xt7e3FGENsoe0YY+z3+8fr6+ufSx8m9G3pA6yRBwQyYiMjNjJiIyM2MmIjIzYyYiMjNjJiIyM2MmIjIzYy2zF+f3az9EEqa/qtH812mqa7w+FwOVb02c00TXdjjKelz7E2Pgsns7GIp7Kmm81ttrDVDF6MXJa3isGLkcvHsKbBy2qetj8qL3XJiI2M2MiIjYzYyIiNjNjIiI2M2MiIjYzYyIiNjNjIiI3MKtZVn/33/S9Ws66yqFqeDQIZ6yoyb73Z3A78szetqyyUeI+/XldZKPFeb11XfeonVublpS4ZsZERGxmxkREbGbGRERsZsZERGxmxkREbGbGRERuZvx68GI3wXm8avBiN8B4+Cydj8ELGAwIZf6NkrKvIWFeRsa4i4wGBjNjIiI2M2MiIjYzYyIiNjNjIiI2M2MiIjYzYyIiNjHUVGesqMj4LJ2NdReZPN5tbjLN6dfBi3MK5nRy8GLcwhz8NXoxbOCsvdcmIjYzYyIiNjNjIiI2M2MiIjYzYyIiNjNjIiI2M2MicHLwYtzCHVwcvxi2cm8/CyRi8kPGAQOa1v1F/oZzdyXWVZRVzeLGusqxiLq+tqyyrODsPCGTERkZsZMRGRmxkxEZGbGTERkZsZMRGRmxkxEZGbGRerKssq5jLyXWVZRVz8Fk4GesqMqduNrcas3gxeDF2YS7PBi/GLszp1ODF2IVZeKlLRmxkxEZGbGTERkZsZMRGRmxkxEZGbGTERkZsZMRGRmxknq2rLKuY04t1lWUVc7FBIGNdRcYDAhmxkREbGbGR+QXEpHkV8XC2/gAAAABJRU5ErkJggg==\"></img></td>\n",
       "      <td id=\"T_71585_row28_col5\" class=\"data row28 col5\" >0<br>(0.0%)</td>\n",
       "    </tr>\n",
       "    <tr>\n",
       "      <td id=\"T_71585_row29_col0\" class=\"data row29 col0\" >30</td>\n",
       "      <td id=\"T_71585_row29_col1\" class=\"data row29 col1\" ><strong>WorkLifeBalance</strong><br>[int64]</td>\n",
       "      <td id=\"T_71585_row29_col2\" class=\"data row29 col2\" >1. 3<br>2. 2<br>3. 4<br>4. 1</td>\n",
       "      <td id=\"T_71585_row29_col3\" class=\"data row29 col3\" >1,089 (64.9%)<br>385 (23.0%)<br>135 (8.1%)<br>68 (4.1%)</td>\n",
       "      <td id=\"T_71585_row29_col4\" class=\"data row29 col4\" ><img src = \"data:image/png;base64, iVBORw0KGgoAAAANSUhEUgAAAJsAAABcCAYAAAB5jMeAAAAAOXRFWHRTb2Z0d2FyZQBNYXRwbG90bGliIHZlcnNpb24zLjcuMiwgaHR0cHM6Ly9tYXRwbG90bGliLm9yZy8pXeV/AAAACXBIWXMAAA9hAAAPYQGoP6dpAAAB9UlEQVR4nO3bQWrbUBiF0V/FhGYiYQxejBfRxXYR2o0x1qAJmaiDQEshCViRrxT1nBU88IfME7rNOI4FCd+WPgD/D7ER01TVY1U9LH0Q/vEyjuPT0oeY2+5wOPxo23a/9EH4axiGS9M0P7cW3K5t2/3pdHrquu556cNQdb1ev/d9vz+fzw9Vta3Yqqq6rns+Ho+/lj4MfzwufYB7cEEgRmzEiI0YsREjNmLERozYiBEbMWIjRmzEiI0YsREjNmJ2Va+ftSx9EF5t+bfYDcNw6ft+Xxv9rOUrGobhUlUvS59jbj4LX6dNfhbemPKR4oJAzBr/Rjf5F8IK11VbXRaxsnXVlpdFrHNd5RXMRrkgECM2YsRGjNiIERsxYiNGbMSIjRixESM2YsRGjNiIERsxYiNmVVO+tZyD+1jdlG+rMzZsEAgy5SNmypPNk4dJbl5XWT8x1U3rKusnPmPKumoVt1a+Hi91iREbMWIjRmzEiI0YsREjNmLERozYiBEbMWIjRmzEiI0YsRFz07rK+onPuHldZf3EVDYIxFhXEfPRk80TjFm9u66yomJub66rrKi4h4/WVVZUzMpLXWLERozYiBEbMWIjRmzEiI0YsREjNmLERozYiBEbMWIjRmzEvLmusqLiHt5dV1lRMTcbBGKsq4hxQSDmN7NY2Lm3d++HAAAAAElFTkSuQmCC\"></img></td>\n",
       "      <td id=\"T_71585_row29_col5\" class=\"data row29 col5\" >0<br>(0.0%)</td>\n",
       "    </tr>\n",
       "    <tr>\n",
       "      <td id=\"T_71585_row30_col0\" class=\"data row30 col0\" >31</td>\n",
       "      <td id=\"T_71585_row30_col1\" class=\"data row30 col1\" ><strong>YearsAtCompany</strong><br>[int64]</td>\n",
       "      <td id=\"T_71585_row30_col2\" class=\"data row30 col2\" >Mean (sd) : 6.8 (5.9)<br>min < med < max:<br>0.0 < 5.0 < 41.0<br>IQR (CV) : 6.0 (1.2)</td>\n",
       "      <td id=\"T_71585_row30_col3\" class=\"data row30 col3\" >34 distinct values</td>\n",
       "      <td id=\"T_71585_row30_col4\" class=\"data row30 col4\" ><img src = \"data:image/png;base64, iVBORw0KGgoAAAANSUhEUgAAAKoAAABGCAYAAABc8A97AAAAOXRFWHRTb2Z0d2FyZQBNYXRwbG90bGliIHZlcnNpb24zLjcuMiwgaHR0cHM6Ly9tYXRwbG90bGliLm9yZy8pXeV/AAAACXBIWXMAAA9hAAAPYQGoP6dpAAACXElEQVR4nO3dMW/aQBiH8fcgIBOoLUQFG0v3Dox8iH7Yrh2R+BbdEZIVjHBDQa47tK4qpQ1wFyf+W89vzh0ZHoGd3ItdWZYGNF3nrX8B4Bp3l37AOTcws77n/qeyLB891wJ/PBuqc24wmUw+xXE89tl8v98/OOc+EytCXXpH7cdxPF4ul49Jkhxv2TjLsmi9Xo/TNO2bGaEiyMWPfjOzJEmO0+n0m8f+A481wBPcTEECoUICoUICoUICoUICoUICoUICoUICoUICoUICoUICoUICoULCVaenfBVF0TOz2DnnuwUHr2FmNYaa53nvfD5/nM/n3W63e9NZ1goHr1GpLdTT6XQXRdH9YrE4zmazh1vXc/Aaf6v1o9/MbDgc+h66NuPgNX7jZgoSCBUSCBUSCBUSCBUSCBUSCBUSCBUSCBUSCBUSCBUSCBUSCBUSCBUSCBUSCBUSCBUSCBUSah9FCRE4xcoEa4s0NtTQKVYmWNulsaGGTLEywdo+jQ21EjDFygRri3AzBQmECgmECgmECgmECgmECgmECgmECgmECgmECgmECgmECgmECgmECgmECgmNP4/qi4extUsrQ+VhbO3TylB5GFv7tDLUSsjD2IqiiI0J2MZodai+mIBtHkL9h9AJ2NVqNU3T9L1zbu/z8gT+FKE+w+fSgXfjehDqC+P7COpBqDXxvZELvIkz+/VPnB9vsNasxsuWq0LNsiy6dePD4RCZmeV5Hm232/vXXK/62pvN5l3IZUNRFL08zz+MRqOvnU7n/FprK7vd7uCc+2JmPn+7/l6W5X/X/QQqokOwLUEd/wAAAABJRU5ErkJggg==\"></img></td>\n",
       "      <td id=\"T_71585_row30_col5\" class=\"data row30 col5\" >0<br>(0.0%)</td>\n",
       "    </tr>\n",
       "    <tr>\n",
       "      <td id=\"T_71585_row31_col0\" class=\"data row31 col0\" >32</td>\n",
       "      <td id=\"T_71585_row31_col1\" class=\"data row31 col1\" ><strong>YearsInCurrentRole</strong><br>[int64]</td>\n",
       "      <td id=\"T_71585_row31_col2\" class=\"data row31 col2\" >Mean (sd) : 4.1 (3.6)<br>min < med < max:<br>0.0 < 3.0 < 18.0<br>IQR (CV) : 5.0 (1.2)</td>\n",
       "      <td id=\"T_71585_row31_col3\" class=\"data row31 col3\" >19 distinct values</td>\n",
       "      <td id=\"T_71585_row31_col4\" class=\"data row31 col4\" ><img src = \"data:image/png;base64, iVBORw0KGgoAAAANSUhEUgAAAKoAAABGCAYAAABc8A97AAAAOXRFWHRTb2Z0d2FyZQBNYXRwbG90bGliIHZlcnNpb24zLjcuMiwgaHR0cHM6Ly9tYXRwbG90bGliLm9yZy8pXeV/AAAACXBIWXMAAA9hAAAPYQGoP6dpAAAChElEQVR4nO3cvY7aQBhG4W9gQeZHthAJdDQpI6Wg5CJysbmEIHEFFGlS0SEhZISDhTFOkd0qZBfbsPh1ztOP7eLIaDzMuCzLDKi6xqMfALjG0z0v7pzrmFm7xCWOWZYdbvU80HW3UJ1zneFw+NX3/UHRa+x2u61z7hux4p5v1Lbv+4PZbHYIgiDOOzgMQ2+xWAw2m03bzAj1P3fXn34zsyAI4tFo9Kvg8M5NHwaymExBAqFCAqFCAqFCAqFCAqFCAqFCAqFCAqFCAqFCAqFCAqFCAqFCAqFCAqFCAqFCAqFCAqFCAqFCAqFCAqFCAqFCAqFCwpv7+kscy+Ofz+dWgXHAX14NtcyxPEmSeGmafo7j+LuZFT2AAjCzt9+ohY/lWa1Wg+Vy2T2dTs0SzweY2ZVH+hQ5lme73XIcD26GyRQk3P2QtEfhbNZ6qWWonM1aP7UM1TibtXbqGqqZcTZrnTCZggRChQRChQRChQRChQRChQRChQRChQRChQRChQRChQRChQRChYRK/3sqTdOWmfnOubxD2QFbM5UNNYqiVpIkXyaTSbPZbOb6Tyk7YOunsqEej8cnz/O60+k0Ho/H2zxj2QFbP5UN9UWv12MHLJhMQQOhQkLlf/ofpcQXB7M/L4BzwVuzTfsCQr2gzBeHNE1bURR96vf7PxuNRpL33mzTvoxQL7jBF4eP0+n0R96xbNP+N0J9RZkvDkXGPuOLxQVMpiCBUCGBUCGBUCGBUCGBWX/FlFxoMKvpYgOhVkiZhQazei82EGqFlFloMCu/2DCfz0ebzeaDc26X997P7vY2vyrUMAy9vHfd7/eemVkURd56ve6+53jVe7+MfYTD4VDpt/lvpxpMtUStFXgAAAAASUVORK5CYII=\"></img></td>\n",
       "      <td id=\"T_71585_row31_col5\" class=\"data row31 col5\" >0<br>(0.0%)</td>\n",
       "    </tr>\n",
       "    <tr>\n",
       "      <td id=\"T_71585_row32_col0\" class=\"data row32 col0\" >33</td>\n",
       "      <td id=\"T_71585_row32_col1\" class=\"data row32 col1\" ><strong>YearsSinceLastPromotion</strong><br>[int64]</td>\n",
       "      <td id=\"T_71585_row32_col2\" class=\"data row32 col2\" >Mean (sd) : 2.0 (3.0)<br>min < med < max:<br>0.0 < 1.0 < 15.0<br>IQR (CV) : 2.0 (0.6)</td>\n",
       "      <td id=\"T_71585_row32_col3\" class=\"data row32 col3\" >16 distinct values</td>\n",
       "      <td id=\"T_71585_row32_col4\" class=\"data row32 col4\" ><img src = \"data:image/png;base64, iVBORw0KGgoAAAANSUhEUgAAAKoAAABGCAYAAABc8A97AAAAOXRFWHRTb2Z0d2FyZQBNYXRwbG90bGliIHZlcnNpb24zLjcuMiwgaHR0cHM6Ly9tYXRwbG90bGliLm9yZy8pXeV/AAAACXBIWXMAAA9hAAAPYQGoP6dpAAACzElEQVR4nO3YvU8iQRiA8XdAyPA1I3LBjuYKE02usKS57kr/WNvrrsDaXE1PiAjLsbLHZtkrTK7RiDsr6kueX807O8Uzu2FMnucCfHaVj94A8BpHu35gjGmISD1w/U2e5+vAWeC/F0M1xjR6vd6Vc64bsvhyuZwbY66JFWXteqPWnXPd4XC49t4nRRaOosiORqPubDariwihopSdn34REe990u/3HwLWbwTMAE/wZwoqECpUIFSoQKhQgVChAqFCBUKFCoQKFQgVKhAqVCBUqECoUIFQoQKhQgVChQqEChUIFSoQKlQgVKhAqFCBUKECoUIFQoUKhAoVCBUqECpUIFSoQKhQgVChAqFCBUKFCoQKFQgVKhAqVCBUqECoUIFQoQKhQgVChQqEChUIFSoQKlQgVKhAqFCBUKECoUIFQoUKhAoVCBUqECpUIFSoQKhQgVChAqFChaN9Lp5lWU1EnDEmdIlNnufrN9wSlNpbqHEc19I0/TYYDKrVajUJWWOxWKyMMT9FJGSeyA/I3kLdbDZH1trm5eVlcnp6Oi86P5lMOjc3N98Hg8GXkNCXy+XcGHMdGqsxpiEi9ZBZ4ZC8ub1++kVEWq1W0u/3H4rOzefzRmjoURTZ0WjUnc1mdREpHIwxptHr9a6cc92isyLlDwme2nuoZYWGLiKNEo+tO+e6w+Fw7b0v9DYve0jwvE8f6kfy3n/EIcEzuJ6CCgf7Ri15Nea2223tjbf0Lg71T+BBhlr2aixNU5tl2UWSJL9EpPCnv+QhqYjINmRQROzJyckP730rZLjkdaBIub2/eEheFWoURbboU1erlRURiePYTqfT5nvO39/ft621zbOzM3N8fPy36LPv7u7seDxuRlHUmk6nmyKzk8mkE3pIsiyrxXH8td1ujyuVSlps148HTEQuzs/Pf3c6nT9FZheLRfv29jb4OrDs3nfdlPwDVrL9du4bg7UAAAAASUVORK5CYII=\"></img></td>\n",
       "      <td id=\"T_71585_row32_col5\" class=\"data row32 col5\" >0<br>(0.0%)</td>\n",
       "    </tr>\n",
       "    <tr>\n",
       "      <td id=\"T_71585_row33_col0\" class=\"data row33 col0\" >34</td>\n",
       "      <td id=\"T_71585_row33_col1\" class=\"data row33 col1\" ><strong>YearsWithCurrManager</strong><br>[int64]</td>\n",
       "      <td id=\"T_71585_row33_col2\" class=\"data row33 col2\" >Mean (sd) : 4.2 (3.6)<br>min < med < max:<br>0.0 < 3.0 < 17.0<br>IQR (CV) : 5.0 (1.2)</td>\n",
       "      <td id=\"T_71585_row33_col3\" class=\"data row33 col3\" >18 distinct values</td>\n",
       "      <td id=\"T_71585_row33_col4\" class=\"data row33 col4\" ><img src = \"data:image/png;base64, iVBORw0KGgoAAAANSUhEUgAAAKoAAABGCAYAAABc8A97AAAAOXRFWHRTb2Z0d2FyZQBNYXRwbG90bGliIHZlcnNpb24zLjcuMiwgaHR0cHM6Ly9tYXRwbG90bGliLm9yZy8pXeV/AAAACXBIWXMAAA9hAAAPYQGoP6dpAAACvElEQVR4nO3dP2/aQByH8d+VgA6I7JCgZGPNEKlDJBaWbh37YrN265ChG1LeQbZICX8EDcUYOmWrEny2a3/d57MfvuHRwTk52x0OBwPq7lPVEwCOcVLmhzvnumbWyfER28Ph8FrUfKCrtFCdc92Li4tvURQNQj9juVzOnHN3xIoyV9ROFEWDyWTyGsfxJuvgxWLh7+/vB8/Pzx0zI9T/XKlf/WZmcRxvLi8vfwUO7xY6GchiMwUJhAoJhAoJhAoJhAoJhAoJhAoJhAoJhAoJhAoJhAoJhAoJhAoJhAoJhAoJhAoJhAoJpf+Hv6qcBxM5lFgwQv2LvAcTOZRYvA9DzbGyRPv9vh0wrg6CDyZyKLEc74aaZ2VJksSnaXqz2Wx+mFno4b5K5TiYyKHEgn20ogavLI+Pj4OHh4febrdr5ZgfYGZH/kYNWVlmsxmrCgrD7SlIIFRIIFRIIFRIIFRIIFRIIFRIIFRIIFRIIFRIIFRIIFRIIFRIIFRIIFRIIFRIIFRIIFRIIFRIIFRIIFRIIFRIIFRIqPWzp9I0bZtZ5JwLGc6DyhqktqGu1+t2kiSfR6NRq9VqZXpKixkPKmua2oa63W5PvPe929vbzdXV1SzLWB5U1jy1DfVNv9/nQWVgMwUNhAoJhAoJtf+NqojbasUj1IJxW60chFowbquVg1BLwm21YrGZggRW1IZp6ovcGhtqzp13Ze/Iyjlvf35+/jWO437I4Dpv5BoZat6dd1XvyCpi3mZ2Mx6Pfw6Hw2WWsXXfyDUy1Dw7b7Pq3pFV1Ly990nIRi5N08jCV3OzEn86NDLUN6E776rfkVXFvPOu5mZm8/l85Zz7bmYh49+N/KhQF4uFz3rV1WrlzczW67V/enrq/cvxqteuct4vLy+n3vve9fW1Ozs7+5312vP5/HQ6nX4ZjUbDMv7Q8QeVt4AxY3oKYwAAAABJRU5ErkJggg==\"></img></td>\n",
       "      <td id=\"T_71585_row33_col5\" class=\"data row33 col5\" >0<br>(0.0%)</td>\n",
       "    </tr>\n",
       "    <tr>\n",
       "      <td id=\"T_71585_row34_col0\" class=\"data row34 col0\" >35</td>\n",
       "      <td id=\"T_71585_row34_col1\" class=\"data row34 col1\" ><strong>Attrition</strong><br>[int64]</td>\n",
       "      <td id=\"T_71585_row34_col2\" class=\"data row34 col2\" >1. 0<br>2. 1</td>\n",
       "      <td id=\"T_71585_row34_col3\" class=\"data row34 col3\" >1,477 (88.1%)<br>200 (11.9%)</td>\n",
       "      <td id=\"T_71585_row34_col4\" class=\"data row34 col4\" ><img src = \"data:image/png;base64, iVBORw0KGgoAAAANSUhEUgAAAJsAAAAuCAYAAAA/ZmtKAAAAOXRFWHRTb2Z0d2FyZQBNYXRwbG90bGliIHZlcnNpb24zLjcuMiwgaHR0cHM6Ly9tYXRwbG90bGliLm9yZy8pXeV/AAAACXBIWXMAAA9hAAAPYQGoP6dpAAABN0lEQVR4nO3bQWrDMBRF0a9iQjORMAYvxovIYrsI7cYY/0ETMlEHnQeDPy9B3LMAocHFYOOXWmsGKCQzu5rZ5d0XwUd7ttbuZw8Zpmm65ZzHiBuhT+6+pZR+zgY35JzHZVnupZRH1OXQj33fv2ut47quFzM7F5uZWSnlMc/zb8jt0KNrxCFfEYcARxAbZIgNMsQGGWKDDLFBhtggQ2yQITbIEBtkiA0yxAYZYoMMsUGG2CAzmP3/IPfui+AzRbYxuPtWax0t6Ac59MfdNzN7nj2HwQuOCBm8JKZ8UIl8soXUj36FTfmi5l7oV8iUL3LuhX5FTvl4m8VLfNSFDLFBhtggQ2yQITbIEBtkiA0yxAYZYoMMsUGG2CBDbJAhNsgQG2SIDTIhUz6mgDgibMoXNfdCvxi8QOYPCltq36X1vt4AAAAASUVORK5CYII=\"></img></td>\n",
       "      <td id=\"T_71585_row34_col5\" class=\"data row34 col5\" >0<br>(0.0%)</td>\n",
       "    </tr>\n",
       "  </tbody>\n",
       "</table>\n",
       "\n",
       "    </div>\n",
       "    <style>\n",
       "    #btn-5300.st-collapsible {\n",
       "      background-color: white;\n",
       "      color: #444;\n",
       "      cursor: pointer;\n",
       "      padding: 1.5rem 2rem;\n",
       "      width: 100%;\n",
       "      text-align: left;\n",
       "      outline: none;\n",
       "      font-size: 14px;\n",
       "      border-top-left-radius: 0.375rem;\n",
       "      border-top-right-radius: 0.375rem;\n",
       "      border: 1px solid #dee2e6;\n",
       "      border-bottom: none;\n",
       "      font-weight: 500;\n",
       "    }\n",
       "\n",
       "    #btn-5300.active {\n",
       "      background-color: #e7f1ff;\n",
       "      color: #0c63e4;\n",
       "    }\n",
       "\n",
       "    #cont-5300.st-content {\n",
       "      padding: 0 10px;\n",
       "      background-color: white;\n",
       "      max-height: 0;\n",
       "      overflow: hidden;\n",
       "      transition: max-height 0.2s ease-out;\n",
       "      border: 1px solid #dee2e6;\n",
       "      border-top: none;\n",
       "    }\n",
       "\n",
       "    #cont-5300.st-content .active {\n",
       "      border: 1px solid #dee2e6;\n",
       "      border-bottom-left-radius: 0.375rem;\n",
       "      border-bottom-right-radius: 0.375rem;\n",
       "    }\n",
       "\n",
       "    #btn-5300.st-collapsible:after {\n",
       "      content: '';\n",
       "      background-image: url(\"data:image/svg+xml,%3csvg xmlns='http://www.w3.org/2000/svg' viewBox='0 0 16 16' fill='%23212529'%3e%3cpath fill-rule='evenodd' d='M1.646 4.646a.5.5 0 0 1 .708 0L8 10.293l5.646-5.647a.5.5 0 0 1 .708.708l-6 6a.5.5 0 0 1-.708 0l-6-6a.5.5 0 0 1 0-.708z'/%3e%3c/svg%3e\");\n",
       "      color: #444;\n",
       "      font-weight: bold;\n",
       "      float: right;\n",
       "      margin-left: 5px;\n",
       "      height: 1.5em;\n",
       "      width:  1.5rem;\n",
       "      background-repeat: no-repeat;\n",
       "      transition: transform 0.2s ease-in-out;\n",
       "    }\n",
       "\n",
       "    #btn-5300.active:after {\n",
       "      content: '';\n",
       "      background-image: url(\"data:image/svg+xml,%3csvg xmlns='http://www.w3.org/2000/svg' viewBox='0 0 16 16' fill='%230c63e4'%3e%3cpath fill-rule='evenodd' d='M1.646 4.646a.5.5 0 0 1 .708 0L8 10.293l5.646-5.647a.5.5 0 0 1 .708.708l-6 6a.5.5 0 0 1-.708 0l-6-6a.5.5 0 0 1 0-.708z'/%3e%3c/svg%3e\");\n",
       "      transform: rotate(180deg);\n",
       "    }\n",
       "    </style><script>\n",
       "    function coll_toggle_5300(){\n",
       "        var coll = document.getElementById(\"btn-5300\");\n",
       "        var content = document.getElementById(\"cont-5300\");\n",
       "        coll.classList.toggle(\"active\");\n",
       "        if (content.style.maxHeight){\n",
       "          content.style.maxHeight = null;\n",
       "          coll.innerHTML = \"Show Summary - train\";\n",
       "        } else {\n",
       "          content.style.maxHeight = content.scrollHeight + \"px\";\n",
       "          coll.innerHTML = \"Hide Summary - train\";\n",
       "        }\n",
       "    }  \n",
       "\n",
       "    </script>"
      ],
      "text/plain": [
       "<IPython.core.display.HTML object>"
      ]
     },
     "execution_count": 7,
     "metadata": {},
     "output_type": "execute_result"
    }
   ],
   "source": [
    "dfSummary(train, is_collapsible = True)"
   ]
  },
  {
   "cell_type": "markdown",
   "id": "8fe908f7",
   "metadata": {
    "papermill": {
     "duration": 0.015853,
     "end_time": "2023-07-26T12:14:00.979182",
     "exception": false,
     "start_time": "2023-07-26T12:14:00.963329",
     "status": "completed"
    },
    "tags": []
   },
   "source": [
    "## >>Test"
   ]
  },
  {
   "cell_type": "code",
   "execution_count": 8,
   "id": "077ba224",
   "metadata": {
    "execution": {
     "iopub.execute_input": "2023-07-26T12:14:01.014867Z",
     "iopub.status.busy": "2023-07-26T12:14:01.014194Z",
     "iopub.status.idle": "2023-07-26T12:14:01.034437Z",
     "shell.execute_reply": "2023-07-26T12:14:01.033584Z"
    },
    "papermill": {
     "duration": 0.040954,
     "end_time": "2023-07-26T12:14:01.036780",
     "exception": false,
     "start_time": "2023-07-26T12:14:00.995826",
     "status": "completed"
    },
    "tags": []
   },
   "outputs": [
    {
     "name": "stdout",
     "output_type": "stream",
     "text": [
      "<class 'pandas.core.frame.DataFrame'>\n",
      "RangeIndex: 1119 entries, 0 to 1118\n",
      "Data columns (total 34 columns):\n",
      " #   Column                    Non-Null Count  Dtype \n",
      "---  ------                    --------------  ----- \n",
      " 0   id                        1119 non-null   int64 \n",
      " 1   Age                       1119 non-null   int64 \n",
      " 2   BusinessTravel            1119 non-null   object\n",
      " 3   DailyRate                 1119 non-null   int64 \n",
      " 4   Department                1119 non-null   object\n",
      " 5   DistanceFromHome          1119 non-null   int64 \n",
      " 6   Education                 1119 non-null   int64 \n",
      " 7   EducationField            1119 non-null   object\n",
      " 8   EmployeeCount             1119 non-null   int64 \n",
      " 9   EnvironmentSatisfaction   1119 non-null   int64 \n",
      " 10  Gender                    1119 non-null   object\n",
      " 11  HourlyRate                1119 non-null   int64 \n",
      " 12  JobInvolvement            1119 non-null   int64 \n",
      " 13  JobLevel                  1119 non-null   int64 \n",
      " 14  JobRole                   1119 non-null   object\n",
      " 15  JobSatisfaction           1119 non-null   int64 \n",
      " 16  MaritalStatus             1119 non-null   object\n",
      " 17  MonthlyIncome             1119 non-null   int64 \n",
      " 18  MonthlyRate               1119 non-null   int64 \n",
      " 19  NumCompaniesWorked        1119 non-null   int64 \n",
      " 20  Over18                    1119 non-null   object\n",
      " 21  OverTime                  1119 non-null   object\n",
      " 22  PercentSalaryHike         1119 non-null   int64 \n",
      " 23  PerformanceRating         1119 non-null   int64 \n",
      " 24  RelationshipSatisfaction  1119 non-null   int64 \n",
      " 25  StandardHours             1119 non-null   int64 \n",
      " 26  StockOptionLevel          1119 non-null   int64 \n",
      " 27  TotalWorkingYears         1119 non-null   int64 \n",
      " 28  TrainingTimesLastYear     1119 non-null   int64 \n",
      " 29  WorkLifeBalance           1119 non-null   int64 \n",
      " 30  YearsAtCompany            1119 non-null   int64 \n",
      " 31  YearsInCurrentRole        1119 non-null   int64 \n",
      " 32  YearsSinceLastPromotion   1119 non-null   int64 \n",
      " 33  YearsWithCurrManager      1119 non-null   int64 \n",
      "dtypes: int64(26), object(8)\n",
      "memory usage: 297.4+ KB\n"
     ]
    }
   ],
   "source": [
    "test.info()"
   ]
  },
  {
   "cell_type": "code",
   "execution_count": 9,
   "id": "0c3a4b37",
   "metadata": {
    "execution": {
     "iopub.execute_input": "2023-07-26T12:14:01.071214Z",
     "iopub.status.busy": "2023-07-26T12:14:01.070497Z",
     "iopub.status.idle": "2023-07-26T12:14:04.333888Z",
     "shell.execute_reply": "2023-07-26T12:14:04.333066Z"
    },
    "papermill": {
     "duration": 3.288272,
     "end_time": "2023-07-26T12:14:04.340860",
     "exception": false,
     "start_time": "2023-07-26T12:14:01.052588",
     "status": "completed"
    },
    "tags": []
   },
   "outputs": [
    {
     "data": {
      "text/html": [
       "<button type=\"button\" class = \"st-collapsible\", \n",
       "    id = \"btn-9014\" onclick = \"coll_toggle_9014()\">Show Summary - test</button>\n",
       "    <div class=\"st-content\" id=\"cont-9014\">\n",
       "      <style type=\"text/css\">\n",
       "#T_33972 thead>tr>th {\n",
       "  text-align: left;\n",
       "}\n",
       "#T_33972_row0_col0, #T_33972_row1_col0, #T_33972_row2_col0, #T_33972_row3_col0, #T_33972_row4_col0, #T_33972_row5_col0, #T_33972_row6_col0, #T_33972_row7_col0, #T_33972_row8_col0, #T_33972_row9_col0, #T_33972_row10_col0, #T_33972_row11_col0, #T_33972_row12_col0, #T_33972_row13_col0, #T_33972_row14_col0, #T_33972_row15_col0, #T_33972_row16_col0, #T_33972_row17_col0, #T_33972_row18_col0, #T_33972_row19_col0, #T_33972_row20_col0, #T_33972_row21_col0, #T_33972_row22_col0, #T_33972_row23_col0, #T_33972_row24_col0, #T_33972_row25_col0, #T_33972_row26_col0, #T_33972_row27_col0, #T_33972_row28_col0, #T_33972_row29_col0, #T_33972_row30_col0, #T_33972_row31_col0, #T_33972_row32_col0, #T_33972_row33_col0 {\n",
       "  text-align: left;\n",
       "  font-size: 12px;\n",
       "  vertical-align: middle;\n",
       "  width: 5%;\n",
       "  max-width: 50px;\n",
       "  min-width: 20px;\n",
       "}\n",
       "#T_33972_row0_col1, #T_33972_row1_col1, #T_33972_row2_col1, #T_33972_row3_col1, #T_33972_row4_col1, #T_33972_row5_col1, #T_33972_row6_col1, #T_33972_row7_col1, #T_33972_row8_col1, #T_33972_row9_col1, #T_33972_row10_col1, #T_33972_row11_col1, #T_33972_row12_col1, #T_33972_row13_col1, #T_33972_row14_col1, #T_33972_row15_col1, #T_33972_row16_col1, #T_33972_row17_col1, #T_33972_row18_col1, #T_33972_row19_col1, #T_33972_row20_col1, #T_33972_row21_col1, #T_33972_row22_col1, #T_33972_row23_col1, #T_33972_row24_col1, #T_33972_row25_col1, #T_33972_row26_col1, #T_33972_row27_col1, #T_33972_row28_col1, #T_33972_row29_col1, #T_33972_row30_col1, #T_33972_row31_col1, #T_33972_row32_col1, #T_33972_row33_col1 {\n",
       "  text-align: left;\n",
       "  font-size: 12px;\n",
       "  vertical-align: middle;\n",
       "  width: 15%;\n",
       "  max-width: 200px;\n",
       "  min-width: 100px;\n",
       "  word-break: break-word;\n",
       "}\n",
       "#T_33972_row0_col2, #T_33972_row1_col2, #T_33972_row2_col2, #T_33972_row3_col2, #T_33972_row4_col2, #T_33972_row5_col2, #T_33972_row6_col2, #T_33972_row7_col2, #T_33972_row8_col2, #T_33972_row9_col2, #T_33972_row10_col2, #T_33972_row11_col2, #T_33972_row12_col2, #T_33972_row13_col2, #T_33972_row14_col2, #T_33972_row15_col2, #T_33972_row16_col2, #T_33972_row17_col2, #T_33972_row18_col2, #T_33972_row19_col2, #T_33972_row20_col2, #T_33972_row21_col2, #T_33972_row22_col2, #T_33972_row23_col2, #T_33972_row24_col2, #T_33972_row25_col2, #T_33972_row26_col2, #T_33972_row27_col2, #T_33972_row28_col2, #T_33972_row29_col2, #T_33972_row30_col2, #T_33972_row31_col2, #T_33972_row32_col2, #T_33972_row33_col2 {\n",
       "  text-align: left;\n",
       "  font-size: 12px;\n",
       "  vertical-align: middle;\n",
       "  width: 30%;\n",
       "  min-width: 100px;\n",
       "}\n",
       "#T_33972_row0_col3, #T_33972_row1_col3, #T_33972_row2_col3, #T_33972_row3_col3, #T_33972_row4_col3, #T_33972_row5_col3, #T_33972_row6_col3, #T_33972_row7_col3, #T_33972_row8_col3, #T_33972_row9_col3, #T_33972_row10_col3, #T_33972_row11_col3, #T_33972_row12_col3, #T_33972_row13_col3, #T_33972_row14_col3, #T_33972_row15_col3, #T_33972_row16_col3, #T_33972_row17_col3, #T_33972_row18_col3, #T_33972_row19_col3, #T_33972_row20_col3, #T_33972_row21_col3, #T_33972_row22_col3, #T_33972_row23_col3, #T_33972_row24_col3, #T_33972_row25_col3, #T_33972_row26_col3, #T_33972_row27_col3, #T_33972_row28_col3, #T_33972_row29_col3, #T_33972_row30_col3, #T_33972_row31_col3, #T_33972_row32_col3, #T_33972_row33_col3 {\n",
       "  text-align: left;\n",
       "  font-size: 12px;\n",
       "  vertical-align: middle;\n",
       "  width: 25%;\n",
       "  min-width: 100px;\n",
       "}\n",
       "#T_33972_row0_col4, #T_33972_row1_col4, #T_33972_row2_col4, #T_33972_row3_col4, #T_33972_row4_col4, #T_33972_row5_col4, #T_33972_row6_col4, #T_33972_row7_col4, #T_33972_row8_col4, #T_33972_row9_col4, #T_33972_row10_col4, #T_33972_row11_col4, #T_33972_row12_col4, #T_33972_row13_col4, #T_33972_row14_col4, #T_33972_row15_col4, #T_33972_row16_col4, #T_33972_row17_col4, #T_33972_row18_col4, #T_33972_row19_col4, #T_33972_row20_col4, #T_33972_row21_col4, #T_33972_row22_col4, #T_33972_row23_col4, #T_33972_row24_col4, #T_33972_row25_col4, #T_33972_row26_col4, #T_33972_row27_col4, #T_33972_row28_col4, #T_33972_row29_col4, #T_33972_row30_col4, #T_33972_row31_col4, #T_33972_row32_col4, #T_33972_row33_col4 {\n",
       "  text-align: left;\n",
       "  font-size: 12px;\n",
       "  vertical-align: middle;\n",
       "  width: 20%;\n",
       "  min-width: 150px;\n",
       "}\n",
       "#T_33972_row0_col5, #T_33972_row1_col5, #T_33972_row2_col5, #T_33972_row3_col5, #T_33972_row4_col5, #T_33972_row5_col5, #T_33972_row6_col5, #T_33972_row7_col5, #T_33972_row8_col5, #T_33972_row9_col5, #T_33972_row10_col5, #T_33972_row11_col5, #T_33972_row12_col5, #T_33972_row13_col5, #T_33972_row14_col5, #T_33972_row15_col5, #T_33972_row16_col5, #T_33972_row17_col5, #T_33972_row18_col5, #T_33972_row19_col5, #T_33972_row20_col5, #T_33972_row21_col5, #T_33972_row22_col5, #T_33972_row23_col5, #T_33972_row24_col5, #T_33972_row25_col5, #T_33972_row26_col5, #T_33972_row27_col5, #T_33972_row28_col5, #T_33972_row29_col5, #T_33972_row30_col5, #T_33972_row31_col5, #T_33972_row32_col5, #T_33972_row33_col5 {\n",
       "  text-align: left;\n",
       "  font-size: 12px;\n",
       "  vertical-align: middle;\n",
       "  width: 10%;\n",
       "}\n",
       "</style>\n",
       "<table id=\"T_33972\">\n",
       "  <caption><strong>Data Frame Summary</strong><br>test<br>Dimensions: 1,119 x 34<br>Duplicates: 0</caption>\n",
       "  <thead>\n",
       "    <tr>\n",
       "      <th id=\"T_33972_level0_col0\" class=\"col_heading level0 col0\" >No</th>\n",
       "      <th id=\"T_33972_level0_col1\" class=\"col_heading level0 col1\" >Variable</th>\n",
       "      <th id=\"T_33972_level0_col2\" class=\"col_heading level0 col2\" >Stats / Values</th>\n",
       "      <th id=\"T_33972_level0_col3\" class=\"col_heading level0 col3\" >Freqs / (% of Valid)</th>\n",
       "      <th id=\"T_33972_level0_col4\" class=\"col_heading level0 col4\" >Graph</th>\n",
       "      <th id=\"T_33972_level0_col5\" class=\"col_heading level0 col5\" >Missing</th>\n",
       "    </tr>\n",
       "  </thead>\n",
       "  <tbody>\n",
       "    <tr>\n",
       "      <td id=\"T_33972_row0_col0\" class=\"data row0 col0\" >1</td>\n",
       "      <td id=\"T_33972_row0_col1\" class=\"data row0 col1\" ><strong>id</strong><br>[int64]</td>\n",
       "      <td id=\"T_33972_row0_col2\" class=\"data row0 col2\" >Mean (sd) : 2236.0 (323.2)<br>min < med < max:<br>1677.0 < 2236.0 < 2795.0<br>IQR (CV) : 559.0 (6.9)</td>\n",
       "      <td id=\"T_33972_row0_col3\" class=\"data row0 col3\" >1,119 distinct values</td>\n",
       "      <td id=\"T_33972_row0_col4\" class=\"data row0 col4\" ><img src = \"data:image/png;base64, iVBORw0KGgoAAAANSUhEUgAAAKoAAABGCAYAAABc8A97AAAAOXRFWHRTb2Z0d2FyZQBNYXRwbG90bGliIHZlcnNpb24zLjcuMiwgaHR0cHM6Ly9tYXRwbG90bGliLm9yZy8pXeV/AAAACXBIWXMAAA9hAAAPYQGoP6dpAAACI0lEQVR4nO3Xu47aUBRG4X3MBB0uscUl0NGkTGeJhiZdyjxs2vQgTU0xTSoahISMEc6gWMR5gjDYZzTJL9bX4u1tjpeQcFVVGfC/i/71AwC3eHjpAudcx8zaDe8fmdnvhrOh86G7f1VV9dxk8I7PLGT+6nlfDdU51xmNRl/jOB7U3Xq5XN4VRfGx3+//iKKofMv50N1mZofD4eSc+25m55qjfjgcfkmSpFd3p/KZhc4fj8fMOfftb7G+9IvajuN4sFgsnpMkqfXCNpvNYL1ef0jT9Gk6nWZ1ZkPnQ3dvt9v3q9Xq82w2G7darVrfuyxLb2af5vP543g8PtaZVT6zkPk8z/1yuRzs9/u2mTUK1czMkiQ5TyaTn3WWZ1nWMTPr9Xq1Z0PnX2O3976bpum54Qvveu/LezuzkHkz61z78KZQ71XIC8fr4l8/JBAqJBAqJBAqJBAqJBAqJBAqJBAqJBAqJBAqJBAqJBAqJBAqJBAqJBAqJBAqJBAqJBAqJBAqJBAqJBAqJBAqJBAqJBAqJBAqJBAqJBAqJBAqJBAqJBAqJBAqJBAqJBAqJBAqJBAqJBAqJBAqJBAqJBAqJBAqJBAqJBAqJBAqJBAqJBAqJBAqJBAqJBAqJBAqJBAqJBAqJBAqJBAqJBAqJBAqJBAqJBAqJBAqJBAqJBAqJBAqJBAqJDzcclGe577ujU+nkzczK4rC73a77lvOq+5Wfe7Q+Vv6+gOXhTflY1HESAAAAABJRU5ErkJggg==\"></img></td>\n",
       "      <td id=\"T_33972_row0_col5\" class=\"data row0 col5\" >0<br>(0.0%)</td>\n",
       "    </tr>\n",
       "    <tr>\n",
       "      <td id=\"T_33972_row1_col0\" class=\"data row1 col0\" >2</td>\n",
       "      <td id=\"T_33972_row1_col1\" class=\"data row1 col1\" ><strong>Age</strong><br>[int64]</td>\n",
       "      <td id=\"T_33972_row1_col2\" class=\"data row1 col2\" >Mean (sd) : 36.1 (8.8)<br>min < med < max:<br>18.0 < 35.0 < 59.0<br>IQR (CV) : 11.0 (4.1)</td>\n",
       "      <td id=\"T_33972_row1_col3\" class=\"data row1 col3\" >42 distinct values</td>\n",
       "      <td id=\"T_33972_row1_col4\" class=\"data row1 col4\" ><img src = \"data:image/png;base64, iVBORw0KGgoAAAANSUhEUgAAAKoAAABGCAYAAABc8A97AAAAOXRFWHRTb2Z0d2FyZQBNYXRwbG90bGliIHZlcnNpb24zLjcuMiwgaHR0cHM6Ly9tYXRwbG90bGliLm9yZy8pXeV/AAAACXBIWXMAAA9hAAAPYQGoP6dpAAAClklEQVR4nO3dwaraQBSA4TPNVaJCglh05wsUunDpQ/Rh+wgVfALfwJ0QQsT0BmNM1wXr1cykd874f/vpzeJHktNJxrRtK4Dvvnz2BQCPePvsC/CVMWYkIsOOy89t2767vJ5XR6g3GGNGs9nsR5Ik0y7rj8djboz5SazuEOptwyRJpuv1+j1N0+qZhUVRxNvtdppl2VBECNURQr0jTdNqPp//7rB05PxiXlywoVreYybX63Xg8npgJ8hQbe8x67qOm6b5VlXVLxHp8osKx4IMVSzuMUVE9vv9dLfbjS+XS9THxeF5oYYqIt3vMfM85x7TMwz8oQKhQgVChQqEChUIFSp4/dRvMbRnYB8Yb0O1GdozsA+Pt6GKxdCegX14fA5VRLoN7RnYh4eHKahAqFCBUKECoUIFQoUKhAoVvB9PadQ0zUBEEmNMl+W8an0DoTpWluWgruvvy+UyiqLo6bcLeNX6NkJ17Hw+v8VxPF6tVtViscifWcur1v9GqD2ZTCa8au0QD1NQgVChAqFCBUKFCoQKFQgVKhAqVCBUqECoUIFQoQKhQgX+r98zllsERQLdJkioHrHdIigS7jZBQvWIzRZBkbC3CfYaKgc+dGOxRVAk0G2CvYXKgQ9wqc9fVA58gDO936Ny4ANcYI4KFQgVKjCeCkyo3xQg1ICE/E0BQg1IyN8UINQAhfhNAR6moMKHv6gcoQMf3A2VI3Rei89bDD/6ReUInRfh+xbDhx6mOEInfC62GG42m3mWZV+NMccul3AvcJ768ZeuE4O+Z7iECif6nuESKpzqa4bLHBUqECpUIFSoQKhQgVChAqFCBUKFCoQKFR4a+BdFET/7D59Op1hEpCzL+HA4jP/neq1/W+t1265/pK8/GTO5wESz1GgAAAAASUVORK5CYII=\"></img></td>\n",
       "      <td id=\"T_33972_row1_col5\" class=\"data row1 col5\" >0<br>(0.0%)</td>\n",
       "    </tr>\n",
       "    <tr>\n",
       "      <td id=\"T_33972_row2_col0\" class=\"data row2 col0\" >3</td>\n",
       "      <td id=\"T_33972_row2_col1\" class=\"data row2 col1\" ><strong>BusinessTravel</strong><br>[object]</td>\n",
       "      <td id=\"T_33972_row2_col2\" class=\"data row2 col2\" >1. Travel_Rarely<br>2. Travel_Frequently<br>3. Non-Travel</td>\n",
       "      <td id=\"T_33972_row2_col3\" class=\"data row2 col3\" >799 (71.4%)<br>212 (18.9%)<br>108 (9.7%)</td>\n",
       "      <td id=\"T_33972_row2_col4\" class=\"data row2 col4\" ><img src = \"data:image/png;base64, iVBORw0KGgoAAAANSUhEUgAAAJsAAABFCAYAAABdVZTTAAAAOXRFWHRTb2Z0d2FyZQBNYXRwbG90bGliIHZlcnNpb24zLjcuMiwgaHR0cHM6Ly9tYXRwbG90bGliLm9yZy8pXeV/AAAACXBIWXMAAA9hAAAPYQGoP6dpAAABmElEQVR4nO3bwWnjYBSF0afBhMlGwhhcjIuYYqcIdWOCtUhCNsoiDVi2uD8/OaeCB/5io6A7rOtakPCn9QH8HkNVvVbVS+tDeMjXuq4frY+41+F0Ov0bx/HY+hC2W5blbRiG/70EdxjH8Xi5XD6mafpsfQz3u91uf+d5Pl6v15eq6iO2qqppmj7P5/N762PY7LX1AVt4QCBGbMSIjRixESM2YsRGjNiIERsxYiNGbMSIjRixESM2YsRGzKHq592o1oewTY+f2WFZlrd5no/V2btR/LypW1Vfre+4lw1C37raIAymfKS0+mbr6i+SfTRZV/W2CmIf8XVVj6sg9tFqXeXJ9xfyT11ixEaM2IgRGzFiI0ZsxIiNGLERIzZixEaM2IgRGzFiI0ZsxMTXVT2ugthHk3VVb6sg9mGDQIx1FTEeEIh59mfUzyF3e2rKZ5LHFg9P+Uzy2OrZKZ9JHnfzgECM2IgRGzFiI0ZsxIiNGLERIzZixEaM2IgRGzFiI0ZsxIiNmIenfCZ5bPXUlM8kjy1sEIgx5SPmG0q8o0qhM+1uAAAAAElFTkSuQmCC\"></img></td>\n",
       "      <td id=\"T_33972_row2_col5\" class=\"data row2 col5\" >0<br>(0.0%)</td>\n",
       "    </tr>\n",
       "    <tr>\n",
       "      <td id=\"T_33972_row3_col0\" class=\"data row3 col0\" >4</td>\n",
       "      <td id=\"T_33972_row3_col1\" class=\"data row3 col1\" ><strong>DailyRate</strong><br>[int64]</td>\n",
       "      <td id=\"T_33972_row3_col2\" class=\"data row3 col2\" >Mean (sd) : 883.6 (366.4)<br>min < med < max:<br>6.0 < 889.0 < 1499.0<br>IQR (CV) : 617.0 (2.4)</td>\n",
       "      <td id=\"T_33972_row3_col3\" class=\"data row3 col3\" >515 distinct values</td>\n",
       "      <td id=\"T_33972_row3_col4\" class=\"data row3 col4\" ><img src = \"data:image/png;base64, iVBORw0KGgoAAAANSUhEUgAAAKoAAABGCAYAAABc8A97AAAAOXRFWHRTb2Z0d2FyZQBNYXRwbG90bGliIHZlcnNpb24zLjcuMiwgaHR0cHM6Ly9tYXRwbG90bGliLm9yZy8pXeV/AAAACXBIWXMAAA9hAAAPYQGoP6dpAAACk0lEQVR4nO3dz2riUBSA8ZOxSqqQIILufIGBLlz6EPOw8wiz8Al8A3eCSMRMgzGmi2EGF6X15uZOzkm/3z42gY9ybv5GdV0LoN23rncAeMRT1zsAPaIoehaRkcdPXOq6fm1rf+4RKkTkT6Sz2exHkiTTpr9xOp2OURT9DBEroeKvUZIk0/V6/ZqmaeG6cZZl8WazmR4Oh5GIECrCStO0mM/nvxtu/tzqztzpbaia5y2462Wo2uctuOtlqKJ83oK7voYqInrnLbjrdag+qqoaikgSRVGTzZlvW0ao78jzfFiW5ctyuRwMBgPn0aHL+dZjEZncbrdh2/vTFkJ9x+VyeYrjeLxarYrFYnF02bbL+dZnEVmWZVxV1feiKH6JSNNxKRhC/cBkMmk643Y13zZeRO52u+l2ux1fr9dBqJ3zQag91GQReTweVS8euXsKJhAqTCBUmMCMGsBXPQcb8rgJtWWWz8H6CH3chNoyq+dgfYU+bkINxOA52FaEOm5CVcZzzlN9GdQHoSriO+dpvwzqg1AV8ZnzRPRfBvVBqAo1nfO0Xwb1wQl/mECoMIFQYQKhwgRChQmEChMIFSYQKkwgVJig+spUX59Rhzu1ofb5GXW4Uxuq9PgZdbjTHKqI9PMZdbhjMQUTCBUmECpMIFSYQKgwgVBhAqHCBEKFCYQKEwgVJhAqTAh6rd/ze6Tcqod/goXq+z1SbtXDvZD/Ub2+R8qtergX/Da/pt8j5VY93GMxBRMIFSYQKkwgVJhAqDCBUGECocKET8+j8rYSaPBhqLytBFp89h+Vt5VAhYcuofK2EnSNxRRMIFSYQKgwgVBhwkOLqSzLYtcfPp/PsYhInufxfr8f/8/trf5tq/vtu/0jfb0BCj6y7cW64FwAAAAASUVORK5CYII=\"></img></td>\n",
       "      <td id=\"T_33972_row3_col5\" class=\"data row3 col5\" >0<br>(0.0%)</td>\n",
       "    </tr>\n",
       "    <tr>\n",
       "      <td id=\"T_33972_row4_col0\" class=\"data row4 col0\" >5</td>\n",
       "      <td id=\"T_33972_row4_col1\" class=\"data row4 col1\" ><strong>Department</strong><br>[object]</td>\n",
       "      <td id=\"T_33972_row4_col2\" class=\"data row4 col2\" >1. Research & Development<br>2. Sales<br>3. Human Resources</td>\n",
       "      <td id=\"T_33972_row4_col3\" class=\"data row4 col3\" >777 (69.4%)<br>306 (27.3%)<br>36 (3.2%)</td>\n",
       "      <td id=\"T_33972_row4_col4\" class=\"data row4 col4\" ><img src = \"data:image/png;base64, iVBORw0KGgoAAAANSUhEUgAAAJsAAABFCAYAAABdVZTTAAAAOXRFWHRTb2Z0d2FyZQBNYXRwbG90bGliIHZlcnNpb24zLjcuMiwgaHR0cHM6Ly9tYXRwbG90bGliLm9yZy8pXeV/AAAACXBIWXMAAA9hAAAPYQGoP6dpAAABnElEQVR4nO3bTWryYBiF4ScfUtpJggguxkV0sd8ishsRM2hLJ+kgw/6J1JO+9LpW8IC3SsTTzfNckPBv7QP4O7qqeqiqu7UP4WKv8zw/r33ENTa73e6x7/vt2odwmWmaTl3X/W8xuE3f99vD4fA8DMPL2sfwtfP5fD+O4/Z4PN5VVXuxVVUNw/Cy3++f1j6GizysfcC1PCAQIzZixEaM2IgRGzFiI0ZsxIiNGLERIzZixEaM2IgRGzFiI2ZTtfxPau1D+F7rr9NmmqbTOI7bavh/Un/JNE2nqnpd+45r2CC0p9kNQmfKR0pLn2zNvqNZNLOuanlVxKKJdVXrqyIWLa2rPC03zo+6xIiNGLERIzZixEaM2IgRGzFiI0ZsxIiNGLERIzZixEaM2IhpYl312+/jMs2sq1peFbGwQSDGuooYDwjEfPY16iuLH/fhlM9sjlt4N+Uzm+NWPpvy/eqfQWiTBwRixEaM2IgRGzFiI0ZsxIiNGLERIzZixEaM2IgRGzFiI0ZsxLyb8pnNcSsfTvnM5rgFGwRiTPmIeQNKvKNKydvDuQAAAABJRU5ErkJggg==\"></img></td>\n",
       "      <td id=\"T_33972_row4_col5\" class=\"data row4 col5\" >0<br>(0.0%)</td>\n",
       "    </tr>\n",
       "    <tr>\n",
       "      <td id=\"T_33972_row5_col0\" class=\"data row5 col0\" >6</td>\n",
       "      <td id=\"T_33972_row5_col1\" class=\"data row5 col1\" ><strong>DistanceFromHome</strong><br>[int64]</td>\n",
       "      <td id=\"T_33972_row5_col2\" class=\"data row5 col2\" >Mean (sd) : 8.7 (7.8)<br>min < med < max:<br>1.0 < 7.0 < 29.0<br>IQR (CV) : 10.0 (1.1)</td>\n",
       "      <td id=\"T_33972_row5_col3\" class=\"data row5 col3\" >29 distinct values</td>\n",
       "      <td id=\"T_33972_row5_col4\" class=\"data row5 col4\" ><img src = \"data:image/png;base64, iVBORw0KGgoAAAANSUhEUgAAAKoAAABGCAYAAABc8A97AAAAOXRFWHRTb2Z0d2FyZQBNYXRwbG90bGliIHZlcnNpb24zLjcuMiwgaHR0cHM6Ly9tYXRwbG90bGliLm9yZy8pXeV/AAAACXBIWXMAAA9hAAAPYQGoP6dpAAAC1UlEQVR4nO3dTW7aQBiA4W9KgOFHtvgR7LhApC6Q2HCALnvYHiFILLLmBuyQEDKCxsJgumiJIjUFPIOLP/Q+64yxxIvD2GNsjsejAEX35d47AFzj6dIfGGNqIlJx3P7ueDy+OY4F3p0N1RhT63Q634MgaLlsfL1er4wxP4gVvi4dUStBELTG4/FbGIZxlg1HUWSn02lruVxWRIRQ4eXiv34RkTAM416v99Nh+zWHMcBfmExBBUKFCoQKFQgVKhAqVCBUqECoUIFQoQKhQgVChQqEChUIFSoQKlQgVKhAqFCBUKECoUIFQoUKhAoVCBUqECpUIFSoQKhQgVChAqFCBUKFCoQKFQgVKhAqVCBUqECoUIFQocJVP+R7Lzw/ACeFDZXnB+CjwoYqPD8AHxQ5VBHh+QH4jckUVCBUqECoUCHX76iHw6EsIoExxmV4kKZp+ca7BKVyC3W73ZaTJPk6GAxKpVIp06xdRCRJEns4HJ7jOH4REZfJFB5IbqHudrsna219OBzG/X5/lXX8fD5vzWaz+n6/L+Wxf9Al99NTjUbD6fTSarXi9BLeMZmCCoU/4e/KcyInwlqBQnnIUH0nciKsFSiahwzVdyLHWoHiechQT1wncn8wmSsQJlNQgVChAqFCBUKFCoQKFR561o9sPG+mFMnxIgmhFsy9YvG9mVIk34skhJoDj9hsu93+FoZhw/W1PWJxvplSJP+LJIR6Yz5HpiRJrIg8j0aj1263u846PooiO5lMesvlsmuMyTo+SNO0HIbhqogXSQj1HzwWtQTNZrM3Ho/XWY9MpzW41trEJRafNQ5FX6hOqJ+4xRterVZfssbmuwbXZ43DLRaqe65YO/vdmlA/ce833JfLGgffD4nvirVL360J9Yx7vOFa+Xy4r5mIESpuymPF2tkPOFemoMJVR9QoimzWDW82Gysist1u7WKxqP/P8VpfW+t++46/pq9fNP2jeeigZlQAAAAASUVORK5CYII=\"></img></td>\n",
       "      <td id=\"T_33972_row5_col5\" class=\"data row5 col5\" >0<br>(0.0%)</td>\n",
       "    </tr>\n",
       "    <tr>\n",
       "      <td id=\"T_33972_row6_col0\" class=\"data row6 col0\" >7</td>\n",
       "      <td id=\"T_33972_row6_col1\" class=\"data row6 col1\" ><strong>Education</strong><br>[int64]</td>\n",
       "      <td id=\"T_33972_row6_col2\" class=\"data row6 col2\" >1. 3<br>2. 4<br>3. 2<br>4. 1<br>5. 5</td>\n",
       "      <td id=\"T_33972_row6_col3\" class=\"data row6 col3\" >460 (41.1%)<br>291 (26.0%)<br>204 (18.2%)<br>120 (10.7%)<br>44 (3.9%)</td>\n",
       "      <td id=\"T_33972_row6_col4\" class=\"data row6 col4\" ><img src = \"data:image/png;base64, iVBORw0KGgoAAAANSUhEUgAAAJsAAABzCAYAAACPdnBjAAAAOXRFWHRTb2Z0d2FyZQBNYXRwbG90bGliIHZlcnNpb24zLjcuMiwgaHR0cHM6Ly9tYXRwbG90bGliLm9yZy8pXeV/AAAACXBIWXMAAA9hAAAPYQGoP6dpAAACSklEQVR4nO3bS2rjQABF0VIjQmciYQxejBfRi+1FaDfGWINOyEQZZJqP6civFNc5KyjDRUaiXrcsS4GEX7UPQDvERozYiOlKKY+llIfaB6noZVmWp9qHaEG/3+//DMOwq32QWuZ5Pndd91dwt9cPw7A7Ho9P4zg+1z5M2uVy+T1N0+50Oj2UUsR2Y30ppYzj+Hw4HP7VPkwlj7UP0AovCMSIjRixESM2YsRGjNiIERsxYiNGbMSIjRixESM2YsRGTF/K21Wb2gepodXfXUs/z/N5mqZdafSqzTzP51LKS+1ztMC1cNfCYzq7UVK8IBDzE/5G/c3dic2vq6yf7sem11XWT/flJ6yrmvwkc4+8IBAjNmLERozYiBEbMWIjRmzEiI0YsREjNmLERozYiBEbMZteV231XPyfza+rrJ/uh2vhxFhXEeMFgZgaf6P+FhsVX1dZS7Uruq6ylmpbjXXVJj+xcHteEIgRGzFiI0ZsxIiNGLERIzZixEaM2IgRGzFiI0ZsxIiNmOi6ylqqbfF1lbVUu1wLJ8a6ipi1nmyeVnxplcGLEQvX+PbgxYiFa601eDFi4Us+6hIjNmLERozYiBEbMWIjRmzEiI0YsREjNmLERozYiBEbMWIj5tvrKosprrXKuspiimvYIBBjXUXMZ082TytW9eG6ymKKtb27rrKY4hY+W1dZTLEqH3WJERsxYiNGbMSIjRixESM2YsRGjNiIERsxYiNGbMSIjRixEfPuuspiilv4cF1lMcXabBCIsa4ixgsCMWIj5hXHMQ438hIJNQAAAABJRU5ErkJggg==\"></img></td>\n",
       "      <td id=\"T_33972_row6_col5\" class=\"data row6 col5\" >0<br>(0.0%)</td>\n",
       "    </tr>\n",
       "    <tr>\n",
       "      <td id=\"T_33972_row7_col0\" class=\"data row7 col0\" >8</td>\n",
       "      <td id=\"T_33972_row7_col1\" class=\"data row7 col1\" ><strong>EducationField</strong><br>[object]</td>\n",
       "      <td id=\"T_33972_row7_col2\" class=\"data row7 col2\" >1. Life Sciences<br>2. Medical<br>3. Marketing<br>4. Technical Degree<br>5. Other<br>6. Human Resources</td>\n",
       "      <td id=\"T_33972_row7_col3\" class=\"data row7 col3\" >519 (46.4%)<br>345 (30.8%)<br>102 (9.1%)<br>96 (8.6%)<br>45 (4.0%)<br>12 (1.1%)</td>\n",
       "      <td id=\"T_33972_row7_col4\" class=\"data row7 col4\" ><img src = \"data:image/png;base64, iVBORw0KGgoAAAANSUhEUgAAAJsAAACKCAYAAAC96ziyAAAAOXRFWHRTb2Z0d2FyZQBNYXRwbG90bGliIHZlcnNpb24zLjcuMiwgaHR0cHM6Ly9tYXRwbG90bGliLm9yZy8pXeV/AAAACXBIWXMAAA9hAAAPYQGoP6dpAAACwUlEQVR4nO3dQWrbUBiF0d/GpPVExgSyjCwgi+hiuwgvIPsIJhrUaSfuoKV0kKTVs31lKees4BE+npHQJYvj8ViQsBz7AHwcYiNGbMSIjZhFVa2r6mbsg1yxH8fj8TD2IeZgdXt7+6Xruu3YB7lWfd/vF4vFV8GdbtV13fbh4eGw2Wxexj7MtXl+fv682+22T09PN1UlthOtqqo2m83L3d3dt7EPc6XWYx9gLjwgECM2YsRGjNiIERsxYiNGbMSIjRixESM2YsRGjNiIERsxq6pfn9KMfZBr5O9yXqu+7/e73W5bPqV5Vd/3+6r6MfY55sBn4f/ms/AzWRgpkzKHm83NMxGTH7wYpEzHpAcvBinTMofBi6foifBSlxixESM2YsRGjNiIERsxYiNGbMSIjRixESM2YsRGjNiIERsxk15XTfXcH9Xk11XWT9Nhg0CMdRUxp9xsbhQGaV5XWTUxVNO6yqqJFqesqyb59Mp4vNQlRmzEiI0YsREjNmLERozYiBEbMWIjRmzEiI0YsREjNmLERkzTusqqiRbN6yqrJoayQSDGuoqY1pvNrcZgTesqyypaDF5XWVbRqnVdZVnFYF7qEiM2YsRGjNiIERsxYiNGbMSIjRixESM2YsRGjNiIERsxgwcvxi60ahq8GLvQwmfhxBi8EOMBgZj3fkb9VHJWb66rLKg4t1fXVRZUXMJ76yoLKs7KAwIxYiNGbMSIjRixESM2YsRGjNiIERsxYiNGbMSIjRixEfPqusqCikt4c11lQcW5+SycGOsqYv6+2dxkXNSfwYuBC5e27Lpue39/X78XVi3/ChL+y7Kqar1efx/7IMyfl7rEiI0YsREjNmLERozYiBEbMWIjRmzEiI0YsREjNmLERozYiFlWVR0Oh09jH4T5W/Z9v398fLSm4uJsEIixriLGAwIxYiNGbMT8BJAfNIvJTIRAAAAAAElFTkSuQmCC\"></img></td>\n",
       "      <td id=\"T_33972_row7_col5\" class=\"data row7 col5\" >0<br>(0.0%)</td>\n",
       "    </tr>\n",
       "    <tr>\n",
       "      <td id=\"T_33972_row8_col0\" class=\"data row8 col0\" >9</td>\n",
       "      <td id=\"T_33972_row8_col1\" class=\"data row8 col1\" ><strong>EmployeeCount</strong><br>[int64]</td>\n",
       "      <td id=\"T_33972_row8_col2\" class=\"data row8 col2\" >1. 1</td>\n",
       "      <td id=\"T_33972_row8_col3\" class=\"data row8 col3\" >1,119 (100.0%)</td>\n",
       "      <td id=\"T_33972_row8_col4\" class=\"data row8 col4\" ><img src = \"data:image/png;base64, iVBORw0KGgoAAAANSUhEUgAAAJsAAAAXCAYAAAAcEz0vAAAAOXRFWHRTb2Z0d2FyZQBNYXRwbG90bGliIHZlcnNpb24zLjcuMiwgaHR0cHM6Ly9tYXRwbG90bGliLm9yZy8pXeV/AAAACXBIWXMAAA9hAAAPYQGoP6dpAAAAnUlEQVR4nO3bsQ0CMRBE0TlkoSPx6mTJxbgIUvovYZPjQgJqYCyZ/yqY4Ie7m6SHpLuAHyuttWet9Zg9BOsrtdZjjPGOiGv2GKwrM/ciSRFx9d7P2YOwttvsAfgfxAYbYoMNscGG2GBDbLAhNtgQG2yIDTbEBhtigw2xwYbYYENssCE22BAbbIgNNkX6nuzOHoK1Zea+tdZePLzA4QPFNA/EDSh7IQAAAABJRU5ErkJggg==\"></img></td>\n",
       "      <td id=\"T_33972_row8_col5\" class=\"data row8 col5\" >0<br>(0.0%)</td>\n",
       "    </tr>\n",
       "    <tr>\n",
       "      <td id=\"T_33972_row9_col0\" class=\"data row9 col0\" >10</td>\n",
       "      <td id=\"T_33972_row9_col1\" class=\"data row9 col1\" ><strong>EnvironmentSatisfaction</strong><br>[int64]</td>\n",
       "      <td id=\"T_33972_row9_col2\" class=\"data row9 col2\" >1. 4<br>2. 3<br>3. 1<br>4. 2<br>5. 0</td>\n",
       "      <td id=\"T_33972_row9_col3\" class=\"data row9 col3\" >352 (31.5%)<br>343 (30.7%)<br>221 (19.7%)<br>202 (18.1%)<br>1 (0.1%)</td>\n",
       "      <td id=\"T_33972_row9_col4\" class=\"data row9 col4\" ><img src = \"data:image/png;base64, iVBORw0KGgoAAAANSUhEUgAAAJsAAABzCAYAAACPdnBjAAAAOXRFWHRTb2Z0d2FyZQBNYXRwbG90bGliIHZlcnNpb24zLjcuMiwgaHR0cHM6Ly9tYXRwbG90bGliLm9yZy8pXeV/AAAACXBIWXMAAA9hAAAPYQGoP6dpAAACRklEQVR4nO3bwW0aURSF4TsIOfEGhJAoIemBIlJsipgi0gNCzCJ2vCEL7x0JlPP8eN9XwV388njQnOl6vRYkrFofwDjERozYiJmq6rmqnlofcqe36/X60voIPrbe7/c/NpvNrvUh91iW5TxN00/BfW7rzWazOx6PL9vt9rX1Mbe4XC5f53nenU6np6oS2ye2rqrabrevh8Phd+tj7vDc+gD+zQsCMWIjRmzEiI0YsREjNmLERozYiBEbMWIjRmzEiI0YsRGzrnr/TKf1Ibfq+fbRrJdlOc/zvKuOP9NZluVcVW+t7+BjPgsnZrIbJcULAjGP8Bj1CO1E9+sqy6p+dL2usqzqyyOsq7r9yWY0XhCIERsxYiNGbMSIjRixESM2YsRGjNiIERsxYiNGbMSIjZiu11W93j2q7tdVllX98Fk4MdZVxHhBIKb1Y9QjcCBN11WWUWNptq6yjBpP63VVlz+3cBsvCMSIjRixESM2YsRGjNiIERsxYiNGbMSIjRixESM2YsRGTLN1lWXUeJquqyyjxuKzcGKsq4hp8ZfNX7NBxQcvRi7jig5ejFzG1mLwYuQyKD/qEiM2YsRGjNiIERsxYiNGbMSIjRixESM2YsRGjNiIERsxYiMmuq6yqBpbfF1lUTUuGwRirKuI8YJAzGqapu/TNPnHnf9uVVXfqupL60N4fB6jxIiNGLERIzZixEaM2IgRGzFiI0ZsxIiNGLERIzZixEaM2IgRGzFiI2ZVVb+q6k/rQ3h8Bi/EeIwSIzZixEbMX5y33hhJe8R6AAAAAElFTkSuQmCC\"></img></td>\n",
       "      <td id=\"T_33972_row9_col5\" class=\"data row9 col5\" >0<br>(0.0%)</td>\n",
       "    </tr>\n",
       "    <tr>\n",
       "      <td id=\"T_33972_row10_col0\" class=\"data row10 col0\" >11</td>\n",
       "      <td id=\"T_33972_row10_col1\" class=\"data row10 col1\" ><strong>Gender</strong><br>[object]</td>\n",
       "      <td id=\"T_33972_row10_col2\" class=\"data row10 col2\" >1. Male<br>2. Female</td>\n",
       "      <td id=\"T_33972_row10_col3\" class=\"data row10 col3\" >690 (61.7%)<br>429 (38.3%)</td>\n",
       "      <td id=\"T_33972_row10_col4\" class=\"data row10 col4\" ><img src = \"data:image/png;base64, iVBORw0KGgoAAAANSUhEUgAAAJsAAAAuCAYAAAA/ZmtKAAAAOXRFWHRTb2Z0d2FyZQBNYXRwbG90bGliIHZlcnNpb24zLjcuMiwgaHR0cHM6Ly9tYXRwbG90bGliLm9yZy8pXeV/AAAACXBIWXMAAA9hAAAPYQGoP6dpAAABNElEQVR4nO3bQWrDMBRF0a9iQjORMAYvJovoYrsI7cYYa9CETNRB9/Ak+u5ZwU+4GBL8Uu89AIUUEfeIuI0+xNi79/4cfYTCsm3bV855HX2Iq9bamVL6dghuyTmvj8fjWUp5jT7GzXVdn7XW9TiOW0T8/9giIkopr33ff0YfY+o++gCVj9EHwAexQYbYIENskCE2yBAbZIgNMsQGGWKDDLFBhtggQ2yQITbIEBtkiA0yS8TfS3yjD3Hk9r0vrbWz1rqG0Ut8M2mtnRHxHn2HAoOX8WwGL4kpH1Tcnmw2T5EZWU35nGZzM7KZ8rnN5mbkNuXjF/dA/KkLGWKDDLFBhtggQ2yQITbIEBtkiA0yxAYZYoMMsUGG2CBDbJAhNsgQG2RspnwOn3F2VlM+p9ncjBi8QOYXCltq37DnnSoAAAAASUVORK5CYII=\"></img></td>\n",
       "      <td id=\"T_33972_row10_col5\" class=\"data row10 col5\" >0<br>(0.0%)</td>\n",
       "    </tr>\n",
       "    <tr>\n",
       "      <td id=\"T_33972_row11_col0\" class=\"data row11 col0\" >12</td>\n",
       "      <td id=\"T_33972_row11_col1\" class=\"data row11 col1\" ><strong>HourlyRate</strong><br>[int64]</td>\n",
       "      <td id=\"T_33972_row11_col2\" class=\"data row11 col2\" >Mean (sd) : 68.2 (19.5)<br>min < med < max:<br>30.0 < 71.0 < 100.0<br>IQR (CV) : 33.0 (3.5)</td>\n",
       "      <td id=\"T_33972_row11_col3\" class=\"data row11 col3\" >71 distinct values</td>\n",
       "      <td id=\"T_33972_row11_col4\" class=\"data row11 col4\" ><img src = \"data:image/png;base64, iVBORw0KGgoAAAANSUhEUgAAAKoAAABGCAYAAABc8A97AAAAOXRFWHRTb2Z0d2FyZQBNYXRwbG90bGliIHZlcnNpb24zLjcuMiwgaHR0cHM6Ly9tYXRwbG90bGliLm9yZy8pXeV/AAAACXBIWXMAAA9hAAAPYQGoP6dpAAACqUlEQVR4nO3cTY6iQBiA4a/GVvEnEGOiOy8wySxccog57ByhF57AG7gzMQYj00REZjOdzMqWKhjqq7zPtlMtixcKoUpT17UAvvvW9wEAr3jr+wDQLmPMRERGlsNvdV1/tHk8bSHUgBhjJsvl8mccxwub8ZfL5WyM+WUba5cnCaGGZRTH8SJN048kSYomA7Msi3a73eJ0Oo1EpHGoXZ8khBqgJEmK1Wr1u+m4qqpiEYmNMTYfG8/n81WappcuThJC9Yzj9Bk/Ho+hzcA8z4dlWf7YbDaDwWDQKDQRkbIso6qqvo/H43ebk0REJs/+SKgecZ0+P2MpiuJdRBrFcrvd3qIomm6322K9Xp+bfvbhcFjs9/vp/X4fNB37CkL1i/U9pkg7scxmM6vbhvP5/PSK6CrYUB2nUJEeH9XY3mN2HUufggzVdQoVcX9Ug3YFGao4TqGuj2rQvlBDFRH7KfSvYKdRjXjXDxUIFSoQKlQgVKhAqFCBUKECoUIFr5+jOrwGtV5F1Aatx+0zb0N1eQ3qsorIldbj9p23oYrDa9A2VhFVVTUUu0XE1guIu14qp5nPoYqI3WtQ11VELouIXRYQh7z6yZX3ofbBZRExV8VuEOoTNouIuSp2g8dTUKHTK2pfG9UQns5C7XOjGsLT5RW1941qCEfnX6bYqIY28GUKKhAqVCBUqECoUIFQoQKhQgVChQqEChW+fODPtgr44GmobKuAL766ova6HQT49NK7/j62gwD/4ssUVCBUqECoUIFQoQKhQgVChQqEChUIFSoQKlQgVKhAqFCBUKECoUIFQoUKhAoVCBUqECpUIFSoQKhQgVChAqFCBUKFCoQKFQgVKhAqVCBUqPDST/pkWRY1/cfX6zUSEcnzPDoej9P/OV7rZ2s9btfxr/T1B/bijy1zWIb9AAAAAElFTkSuQmCC\"></img></td>\n",
       "      <td id=\"T_33972_row11_col5\" class=\"data row11 col5\" >0<br>(0.0%)</td>\n",
       "    </tr>\n",
       "    <tr>\n",
       "      <td id=\"T_33972_row12_col0\" class=\"data row12 col0\" >13</td>\n",
       "      <td id=\"T_33972_row12_col1\" class=\"data row12 col1\" ><strong>JobInvolvement</strong><br>[int64]</td>\n",
       "      <td id=\"T_33972_row12_col2\" class=\"data row12 col2\" >1. 3<br>2. 2<br>3. 4<br>4. 1<br>5. 0</td>\n",
       "      <td id=\"T_33972_row12_col3\" class=\"data row12 col3\" >699 (62.5%)<br>291 (26.0%)<br>87 (7.8%)<br>41 (3.7%)<br>1 (0.1%)</td>\n",
       "      <td id=\"T_33972_row12_col4\" class=\"data row12 col4\" ><img src = \"data:image/png;base64, iVBORw0KGgoAAAANSUhEUgAAAJsAAABzCAYAAACPdnBjAAAAOXRFWHRTb2Z0d2FyZQBNYXRwbG90bGliIHZlcnNpb24zLjcuMiwgaHR0cHM6Ly9tYXRwbG90bGliLm9yZy8pXeV/AAAACXBIWXMAAA9hAAAPYQGoP6dpAAACVElEQVR4nO3bQW7aUBiF0d8Ipc3ECCGxhHYPLKKL7SK8iO4BITxo0kzoINMkEgSuHd45K3hCn7Ce5dudTqeChMXUB6AdYiNGbMR0VfVYVQ9TH6RxL6fT6WnqQ9zacrPZ/Or7fj31QVo2juOh67rf9x7csu/79W63e1qtVs9TH6ZFx+Px+zAM6/1+/1BV9x1bVdVqtXrebrd/pz5Mwx6nPkCCCwIxYiNGbMSIjRixESM2YsRGjNiIERsxYiNGbMSIjRixEbOsev3MZeqDtKql3345juNhGIZ1NfKZyxyN43ioqpepz3FrPgufhyY+C+/sRklxQSDmKzxGm3jEtGD266pWlkctmPW6qqXlUQu+wrrKK5k74YJAjNiIERsxYiNGbMSIjRixESM2YsRGjNiIERsxYiNGbMTMel0113Nxmdmvq1pZHrXAZ+HEWFcR44JAzCWPUY81LnL2usraiUudta6yduIzLllXzfIVCfPngkCM2IgRGzFiI0ZsxIiNGLERIzZixEaM2IgRGzFiI0ZsxJy1rrJ24jPOXldZO3Epn4UTY11FzEf/bP7BuKp3By+GLVzbm4MXwxZu4aPBi2ELV+WlLjFiI0ZsxIiNGLERIzZixEaM2IgRGzFiI0ZsxIiNGLERIzZi3lxXWVFxC++uq6youDYbBGKsq4hxQSBm0XXdz67rXAi4uUVV/aiqb1MfhPvnMUqM2IgRGzFiI0ZsxIiNGLERIzZixEaM2IgRGzFiI0ZsxIiNGLERIzZiFlX1p6r+TX0Q7p/BCzEeo8SIjRixEfMfKILeGNGl/0kAAAAASUVORK5CYII=\"></img></td>\n",
       "      <td id=\"T_33972_row12_col5\" class=\"data row12 col5\" >0<br>(0.0%)</td>\n",
       "    </tr>\n",
       "    <tr>\n",
       "      <td id=\"T_33972_row13_col0\" class=\"data row13 col0\" >14</td>\n",
       "      <td id=\"T_33972_row13_col1\" class=\"data row13 col1\" ><strong>JobLevel</strong><br>[int64]</td>\n",
       "      <td id=\"T_33972_row13_col2\" class=\"data row13 col2\" >1. 1<br>2. 2<br>3. 3<br>4. 4<br>5. 5</td>\n",
       "      <td id=\"T_33972_row13_col3\" class=\"data row13 col3\" >441 (39.4%)<br>412 (36.8%)<br>143 (12.8%)<br>72 (6.4%)<br>51 (4.6%)</td>\n",
       "      <td id=\"T_33972_row13_col4\" class=\"data row13 col4\" ><img src = \"data:image/png;base64, iVBORw0KGgoAAAANSUhEUgAAAJsAAABzCAYAAACPdnBjAAAAOXRFWHRTb2Z0d2FyZQBNYXRwbG90bGliIHZlcnNpb24zLjcuMiwgaHR0cHM6Ly9tYXRwbG90bGliLm9yZy8pXeV/AAAACXBIWXMAAA9hAAAPYQGoP6dpAAACR0lEQVR4nO3bwWnjQACF4dFiwuYiYQwuxkVssVuEujHGOiQhF+Ww17Xj4MmT4vm+CkbwIyGh183zXCDh19IHoB1iI0ZsxHSllOdSytPSBwl7n+f5delDtGaz2+3+9H2/XfogSdM0nbqu+yu4rE3f99vD4fA6DMPb0odJOJ/Pv8dx3B6Px6dSitiCNqWUMgzD236/f1n6MEHPSx+gRV4QiBEbMWIjRmzEiI0YsREjNmLERozYiBEbMWIjRmzEiI2YTSn/frtZ+iApLV3r2mymaTqN47gtDf12M03TqZTyvvQ5WuO3cGI6u1FSvCAQ08pj1GNzBZpYV1lTrcPDr6usqdajlXVVM5911swLAjFiI0ZsxIiNGLERIzZixEaM2IgRGzFiI0ZsxIiNGLER8/Drqke+tp+miXWVNdU6+C2cGOsqYrwgEPMdj1GPLP6r+rrKkolLqq6rLJm45jvWVQ/7CYX7eEEgRmzEiI0YsREjNmLERozYiBEbMWIjRmzEiI0YsREjNmKqrqssmbim+rrKkolL/BZOjHUVMV+5s7ljcZebBy+GLNzrpsGLIQs1fGXwYsjCXXzUJUZsxIiNGLERIzZixEaM2IgRGzFiI0ZsxIiNGLERIzZixEbMTesqqylquHldZTXFvWwQiLGuIuazO5u7GdVcXVdZVFHTxXWVRRW1fbausqiiGh91iREbMWIjRmzEiI0YsREjNmLERozYiBEbMWIjRmzEiI0YsRFzcV1lUUVtV9dVFlXUZINAjHUVMV4QiBEbMR/HMQ43BcjKygAAAABJRU5ErkJggg==\"></img></td>\n",
       "      <td id=\"T_33972_row13_col5\" class=\"data row13 col5\" >0<br>(0.0%)</td>\n",
       "    </tr>\n",
       "    <tr>\n",
       "      <td id=\"T_33972_row14_col0\" class=\"data row14 col0\" >15</td>\n",
       "      <td id=\"T_33972_row14_col1\" class=\"data row14 col1\" ><strong>JobRole</strong><br>[object]</td>\n",
       "      <td id=\"T_33972_row14_col2\" class=\"data row14 col2\" >1. Sales Executive<br>2. Laboratory Technician<br>3. Research Scientist<br>4. Manufacturing Director<br>5. Healthcare Representative<br>6. Manager<br>7. Research Director<br>8. Sales Representative<br>9. Human Resources</td>\n",
       "      <td id=\"T_33972_row14_col3\" class=\"data row14 col3\" >240 (21.4%)<br>230 (20.6%)<br>230 (20.6%)<br>117 (10.5%)<br>112 (10.0%)<br>71 (6.3%)<br>46 (4.1%)<br>44 (3.9%)<br>29 (2.6%)</td>\n",
       "      <td id=\"T_33972_row14_col4\" class=\"data row14 col4\" ><img src = \"data:image/png;base64, iVBORw0KGgoAAAANSUhEUgAAAJsAAADPCAYAAADifqNtAAAAOXRFWHRTb2Z0d2FyZQBNYXRwbG90bGliIHZlcnNpb24zLjcuMiwgaHR0cHM6Ly9tYXRwbG90bGliLm9yZy8pXeV/AAAACXBIWXMAAA9hAAAPYQGoP6dpAAADU0lEQVR4nO3cTUojUQBG0ZcmSDtJEMHFuIhebC8iuxGxBq04SQ96JP6QkNStxpyzgdTg8qSK97na7/cDCj+WfgAuh9jIiI2M2MiIjYzYyIiNzGqMcT3GuFr4OV73+/3zws/AzNa3t7e/NpvNzZIPMU3T42q1+i2472292Wxu7u/vn7fb7csSD/D09PRzt9vdPDw8XI0xxPaNrccYY7vdvtzd3f1Z8DmuF/xtIl4QyIiNjNjIiI2M2MiIjYzYyIiNjNjIiI2M2MiIjYzYyKzH+HfNZ6kHWPK3aa2naXrc7XY3Y8FrPtM0PY4xXpf6fRquhZNZ+V8fVP6Hk82pdiEWH7wYu1yORQcvxi6X5X8YvBi7XAgfdcmIjYzYyIiNjNjIiI2M2MiIjYzYyIiNjNjIiI2M2MgsOngxdrksiw9ejF0uh2vhZAxeyHhBIOPPKBnrKjLWVWSsq8h4QSAjNjJiIyM2MmIjIzYyYiMjNjJiIyM2MmIjIzYyYiNjXUXGuoqMa+FkrKvInONkczJxkJMHLwYrHOqkwYvBCsc4x+DFYIWD+KhLRmxkxEZGbGTERkZsZMRGRmxkxEZGbGTERkZsZMRG5qTBi8EKxzh58GKwwqFcCydj8ELGyUbG4IWMwQsZgxcyPuqSERsZsZERGxmxkREbGbGRERsZsZERGxmxkREbGbGRERsZ6yoy1lVkbBDIWFeROeZkc4JxkoPXVVZUnOqgdZUVFedwzLrKioqT+KhLRmxkxEZGbGTERkZsZMRGRmxkxEZGbGTERkZsZMRG5qDBi2EL53Dw4MWwhVO5Fk7G4IXMVyebk4yz+nTwYuDCuX04eDFwYQ5fDV4MXDgrH3XJiI2M2MiIjYzYyIiNjNjIiI2M2MiIjYzYyIiNjNjIiI3Mh+sqayrm8Om6ypqKc7NBIGNdRcbJRsa6iox1FRnrKjI+6pIRGxmxkREbGbGRERsZsZERGxmxkREbGbGRERsZsZExeCFj8ELGtXAyBi9kPjrZnGjM4t3gxdCFubwZvBi6MKePBi+GLszCR10yYiMjNjJiIyM2MmIjIzYyYiMjNjJiIyM2MmIjIzYyYiPzZl1lVcWc3q2rrKqYiw0CGesqMl4QyIiNjNjIiI2M2MiIjcxf5ljj8+KlK44AAAAASUVORK5CYII=\"></img></td>\n",
       "      <td id=\"T_33972_row14_col5\" class=\"data row14 col5\" >0<br>(0.0%)</td>\n",
       "    </tr>\n",
       "    <tr>\n",
       "      <td id=\"T_33972_row15_col0\" class=\"data row15 col0\" >16</td>\n",
       "      <td id=\"T_33972_row15_col1\" class=\"data row15 col1\" ><strong>JobSatisfaction</strong><br>[int64]</td>\n",
       "      <td id=\"T_33972_row15_col2\" class=\"data row15 col2\" >1. 4<br>2. 3<br>3. 2<br>4. 1</td>\n",
       "      <td id=\"T_33972_row15_col3\" class=\"data row15 col3\" >372 (33.2%)<br>324 (29.0%)<br>214 (19.1%)<br>209 (18.7%)</td>\n",
       "      <td id=\"T_33972_row15_col4\" class=\"data row15 col4\" ><img src = \"data:image/png;base64, iVBORw0KGgoAAAANSUhEUgAAAJsAAABcCAYAAAB5jMeAAAAAOXRFWHRTb2Z0d2FyZQBNYXRwbG90bGliIHZlcnNpb24zLjcuMiwgaHR0cHM6Ly9tYXRwbG90bGliLm9yZy8pXeV/AAAACXBIWXMAAA9hAAAPYQGoP6dpAAAB7ElEQVR4nO3bQWrbQBiG4V/FhGYjYQw+jA/Rw/YQuo0x1qIJ2aiLrkq6q/km43meE4zhRWaEvmnf94KEb60PwDjERsxUVa9V9dL6IA/0se/7W+tD8NnhdDr9mOf52Pogj7Jt222app+C+3oO8zwfL5fL27Is760P87/u9/v3dV2P1+v1parE9sUcqqqWZXk/n8+/Wh/mQV5bH4B/c0EgRmzEiI0YsREjNmLERozYiBEbMWIjRmzEiI0YsREjNmIOVX8+zWl9kEd4lt/xrA7btt3WdT3Wk3yas23brao+Wp+Dz3wWTsxkykeKCwIxvf6N+qvsUJfrKguqPnW3rrKg6lev66qneE0zGhcEYsRGjNiIERsxYiNGbMSIjRixESM2YsRGjNiIERsxYiNGbMR0N+Xr6az8rcspn7len2wQiDHlI6blk83TaTDN1lUWUuNpsq6ykBpTy3VVN7dfHsNLXWLERozYiBEbMWIjRmzEiI0YsREjNmLERozYiBEbMWIjRmzENFlXWUiNqdm6ykJqPDYIxFhXEdPqyeapNqAm6yrLqjHF11WWVeNqta6yrBqQl7rEiI0YsREjNmLERozYiBEbMWIjRmzEiI0YsREjNmLERozYiImvqyyrxtVkXWVZNSYbBGKsq4hxQSDmNyec2LlIyyYEAAAAAElFTkSuQmCC\"></img></td>\n",
       "      <td id=\"T_33972_row15_col5\" class=\"data row15 col5\" >0<br>(0.0%)</td>\n",
       "    </tr>\n",
       "    <tr>\n",
       "      <td id=\"T_33972_row16_col0\" class=\"data row16 col0\" >17</td>\n",
       "      <td id=\"T_33972_row16_col1\" class=\"data row16 col1\" ><strong>MaritalStatus</strong><br>[object]</td>\n",
       "      <td id=\"T_33972_row16_col2\" class=\"data row16 col2\" >1. Married<br>2. Single<br>3. Divorced</td>\n",
       "      <td id=\"T_33972_row16_col3\" class=\"data row16 col3\" >524 (46.8%)<br>394 (35.2%)<br>201 (18.0%)</td>\n",
       "      <td id=\"T_33972_row16_col4\" class=\"data row16 col4\" ><img src = \"data:image/png;base64, iVBORw0KGgoAAAANSUhEUgAAAJsAAABFCAYAAABdVZTTAAAAOXRFWHRTb2Z0d2FyZQBNYXRwbG90bGliIHZlcnNpb24zLjcuMiwgaHR0cHM6Ly9tYXRwbG90bGliLm9yZy8pXeV/AAAACXBIWXMAAA9hAAAPYQGoP6dpAAABl0lEQVR4nO3bQWrbYBSF0aciQjORMAYvxovoYrsI7cYYa9CETNRBx4VAwv1/S+es4Nl82Mj4Dtu2FST8aH0AxzFU1WtVvbQ+pHMf27a9tT7i2Y3n8/nXNE2n1of0bF3X+zAMvwX3NeM0Tafr9fo2z/N762N69Hg8fi7Lcrrdbi9VJbYvGKuq5nl+v1wuf1of07HX1gfsgQcEYsRGjNiIERsxYiNGbMSIjRixESM2YsRGjNiIERsxYiNGbMSMVf/+s9X6kF55b77PuK7rfVmWU/nP1n+t63qvqo/Wdzw7G4TPsUH4BoMpHyl7/2TzidSRXa+rrKL6stt1lVVUf/a+rvKE3RE/6hIjNmLERozYiBEbMWIjRmzEiI0YsREjNmLERozYiBEbMWIjZrfrqj2+pme363WVVVRfbBCIsa4ixgMCMS2+Rn21HVR8ymded1zRKZ953bG1mPLt7icWPscDAjFiI0ZsxIiNGLERIzZixEaM2IgRGzFiI0ZsxIiNGLERIzZiolM+87pji0/5zOuOywaBGFM+Yv4CvvGjStaZR+cAAAAASUVORK5CYII=\"></img></td>\n",
       "      <td id=\"T_33972_row16_col5\" class=\"data row16 col5\" >0<br>(0.0%)</td>\n",
       "    </tr>\n",
       "    <tr>\n",
       "      <td id=\"T_33972_row17_col0\" class=\"data row17 col0\" >18</td>\n",
       "      <td id=\"T_33972_row17_col1\" class=\"data row17 col1\" ><strong>MonthlyIncome</strong><br>[int64]</td>\n",
       "      <td id=\"T_33972_row17_col2\" class=\"data row17 col2\" >Mean (sd) : 6153.8 (4558.6)<br>min < med < max:<br>464.0 < 4721.0 < 19999.0<br>IQR (CV) : 4229.5 (1.3)</td>\n",
       "      <td id=\"T_33972_row17_col3\" class=\"data row17 col3\" >726 distinct values</td>\n",
       "      <td id=\"T_33972_row17_col4\" class=\"data row17 col4\" ><img src = \"data:image/png;base64, iVBORw0KGgoAAAANSUhEUgAAAKoAAABGCAYAAABc8A97AAAAOXRFWHRTb2Z0d2FyZQBNYXRwbG90bGliIHZlcnNpb24zLjcuMiwgaHR0cHM6Ly9tYXRwbG90bGliLm9yZy8pXeV/AAAACXBIWXMAAA9hAAAPYQGoP6dpAAAC4UlEQVR4nO3du3LaQBSA4bPBgLhEwJCBjpYiMykoafIGedi06VzAC9BS0TAMIMRATLimcmXHoF0U75H/rxdIM/9gsHaPzOVyEcB3n977BIBbPKT54saYkogUHF5if7lcnu51PtArtVCNMaVms/kjDMOG7Wus1+vIGPOTWJHmJ2ohDMNGv99/qtVqu6QHx3EcDAaDxmKxKIgIoX5wqf7pFxGp1Wq7Vqv12/Lw0l1PBmrxYwoqECpUIFSoQKhQgVChAqFCBUKFCoQKFQgVKqR+Z8rF6XTKi0hojLE5nAUtGeJtqNvtNn84HL51Op1cLpdLvFaABS3Z4m2o+/3+IQiCcq/X27Xb7SjJsSxoyR5vQ31WqVRsF7WwoCVD+DEFFQgVKhAqVCBUqECoUIFQoQKhQgVChQqEChUIFSoQKlQgVKhAqFCBUKECoUIFQoUKhAoVCBUqECpUuLpnymEOf3g+n/MWxwEvvBmqyxz+w+EQnE6nr7vd7lFEbCdOAyJy/RPVeg7/ZDJpjEaj8vF4zDmcHyAiN26XtpnDH0UR25VxN/yYggqEChUIFSoQKlQgVKhAqFDB+2l+thyHAIswCNgrmQzVdQiwCIOAfZPJUF2GAIswCNhHmQz1mcMQYBEGAXuFH1NQgVChAqFCBUKFCoQKFQgVKmT631MueLylXwj1Fa53tlar1cYY80tEbO6KqY3cYSOoyJXrJtRXuNzZmk6nn4fD4fdOp/PlIz3D1WUjqMj16ybUN9jc2YqiqKT1Ga6On4hhtVpt9fv9ddKNoLdcN6GmRNszXF0/EZ+3xxeLxcc0rptQPfOOyxOtt8aLpL89nlA94sPyRJut8SLpb48nVI+wPPHfCNVDLE98iVAzxuE7rtdD7Qg1Q1y+4/o+1O6mUOM4DpK+8GazCUREttttMJvNyv/zeK3v7Xrey+WyGgRBudvtmnq9/ifJsfP5PBiPx+U4jiuz2Wyf9L1dzv2Wvv4CROabJZedlFIAAAAASUVORK5CYII=\"></img></td>\n",
       "      <td id=\"T_33972_row17_col5\" class=\"data row17 col5\" >0<br>(0.0%)</td>\n",
       "    </tr>\n",
       "    <tr>\n",
       "      <td id=\"T_33972_row18_col0\" class=\"data row18 col0\" >19</td>\n",
       "      <td id=\"T_33972_row18_col1\" class=\"data row18 col1\" ><strong>MonthlyRate</strong><br>[int64]</td>\n",
       "      <td id=\"T_33972_row18_col2\" class=\"data row18 col2\" >Mean (sd) : 14712.6 (6916.2)<br>min < med < max:<br>959.0 < 15211.0 < 26999.0<br>IQR (CV) : 11831.0 (2.1)</td>\n",
       "      <td id=\"T_33972_row18_col3\" class=\"data row18 col3\" >724 distinct values</td>\n",
       "      <td id=\"T_33972_row18_col4\" class=\"data row18 col4\" ><img src = \"data:image/png;base64, iVBORw0KGgoAAAANSUhEUgAAAKoAAABGCAYAAABc8A97AAAAOXRFWHRTb2Z0d2FyZQBNYXRwbG90bGliIHZlcnNpb24zLjcuMiwgaHR0cHM6Ly9tYXRwbG90bGliLm9yZy8pXeV/AAAACXBIWXMAAA9hAAAPYQGoP6dpAAACvklEQVR4nO3cu47aQBSA4TOwrMxFthAKdDQpI6VwyUPkYfMIKXgCijRb0SEhZISzFsY4TdJtwJ4ZBx/zf/3suvjluWiMKctSgLbrPfoBgCpeHv0A8MsYMxSRV8vh57Is330+jy+E2iHGmOFsNvsWhuHUZvzxeDwYY763MVZC7ZbXMAynq9XqPYqirM7AJEmC9Xo93e/3ryJCqGheFEXZfD7/ZTF06P1hPGEzBRUIFSp0dup33P2KtHgH/Iw6Garr7lek3TvgZ9TJUMVh9yvS/h3wM+pqqCLitPsVafEOuClFUQxEJDTG2P6JxpZLnQ4V1aVpOsjz/Otyuez3+/3as5BIs8slQm2A40auJyJXy7Hh9Xod2Aw8n88vQRCM4jjOFovFoe74ppdLhOqZy0auKIpBmqafJ5PJW6/Xy+uOz/M8KIriS5ZlP0TEaskzHo9buVwiVP+sN3Lb7Xa62Ww+xXH80+at9mf86HK59OuObbtGQ/Vwlmk7DVpPgb7YbOQOh8NQxP6t9nd8FzUWqutZpss06GMKRLs0+UZ1Ost0mQa7PAU+q8bXqLZnmS7TYJenwGfFpRSoQKhQgVChAqFCBQ78/8HhgsbDz3C7iFA/4HJBgzPcZhDqB1wuaHCG2wxCvYEz3Hoc77PevMtKqPDC9T7rvbushAovXJZLVe6yEiq8crjPenPJxDkqVCBUqECoUIFQoQKhQgVChQqEChUIFSoQKlQgVKhAqFCBUKECoUIFQoUKhAoVCBUqECpUuHvD3+E3Tvm+Hd7cDNXlN075vh0+3Xujuv7MN9+3w4tKH/e5/Mw34AObKahAqFCBUKECoUIFQoUKhAoVCBUqECpUIFSoQKhQgVChAqFCBUKFCoQKFQgVKhAqVCBUqFDphn+SJEHdP3w6nQIRkTRNg91uN/qf47X+b63P7Tq+Sl+/AeK/lvAaKCLhAAAAAElFTkSuQmCC\"></img></td>\n",
       "      <td id=\"T_33972_row18_col5\" class=\"data row18 col5\" >0<br>(0.0%)</td>\n",
       "    </tr>\n",
       "    <tr>\n",
       "      <td id=\"T_33972_row19_col0\" class=\"data row19 col0\" >20</td>\n",
       "      <td id=\"T_33972_row19_col1\" class=\"data row19 col1\" ><strong>NumCompaniesWorked</strong><br>[int64]</td>\n",
       "      <td id=\"T_33972_row19_col2\" class=\"data row19 col2\" >Mean (sd) : 2.5 (2.5)<br>min < med < max:<br>0.0 < 1.0 < 17.0<br>IQR (CV) : 3.0 (1.0)</td>\n",
       "      <td id=\"T_33972_row19_col3\" class=\"data row19 col3\" >11 distinct values</td>\n",
       "      <td id=\"T_33972_row19_col4\" class=\"data row19 col4\" ><img src = \"data:image/png;base64, iVBORw0KGgoAAAANSUhEUgAAAKoAAABGCAYAAABc8A97AAAAOXRFWHRTb2Z0d2FyZQBNYXRwbG90bGliIHZlcnNpb24zLjcuMiwgaHR0cHM6Ly9tYXRwbG90bGliLm9yZy8pXeV/AAAACXBIWXMAAA9hAAAPYQGoP6dpAAACdElEQVR4nO3dTY7aMBiA4c/lRwEkWygS7LhApS5Y5hBz2B6hC07ADdghIRRESkoI6aZUlTodiE1Kvuh91mMPi1cEezzYVFUlQNt9evULAB7Rv/cDxpiRiAw95z9XVXXyHAv89mGoxphRHMdv1tqpz+SHw2FvjPlKrAh17x11aK2dJklycs7ldSZO0zRarVbT3W43FBFCRZC7j34REedcPpvNvnvMP/IYA/yFxRRUIFSoQKhQgVChAqFCBUKFCoQKFQgVKhAqVCBUqECoUIFQoQKhQgVChQqEChUIFSoQKlQgVKhAqFCBUKECoUIFQoUKhAoVCBUqECpUIFSoQKhQgVChAqFCBUKFCoQKFQgVKhAqVCBUqECoUIFQoQKhQgVChQoPXd/jqyzLgYhYY4zvFNz8BxFpMNQsywZFUXxZLBa9Xq9X6zK1G27+w01joZ7P534URePlcpnP5/N93fHc/Ic/NfroFxGZTCa+t/6JcPMffmExBRUIFSoQKlRo/DNqiMDtLba2OqS1oYZub7G11S2tDTVke4utre5pbag3AdtbbG11CIspqECoUIFQoQKhQoXWL6ZexRgzEpGh53D2cJ+MUN9hjBnFcfxmrZ36jGcP9/kI9X1Da+00SZKTc67WHxvYw20GoX7AOccebkuwmIIKnX1HDTzQYq/X6+DJLwkBOhlq6IGWoiiisiw/53n+TURqP/o59fV8nQw19P+1NpvNdL1ejy+XS6/uWE59NaOTod74HmjZ7/feiyFOfTWj06G+Eqe+nuuhUNM0jepOfDweIxGRLMui7XY7/p/jtf7uNE2jsiz7EvalHVr9qKrqnx+VfgLSWhwPodowYQAAAABJRU5ErkJggg==\"></img></td>\n",
       "      <td id=\"T_33972_row19_col5\" class=\"data row19 col5\" >0<br>(0.0%)</td>\n",
       "    </tr>\n",
       "    <tr>\n",
       "      <td id=\"T_33972_row20_col0\" class=\"data row20 col0\" >21</td>\n",
       "      <td id=\"T_33972_row20_col1\" class=\"data row20 col1\" ><strong>Over18</strong><br>[object]</td>\n",
       "      <td id=\"T_33972_row20_col2\" class=\"data row20 col2\" >1. Y</td>\n",
       "      <td id=\"T_33972_row20_col3\" class=\"data row20 col3\" >1,119 (100.0%)</td>\n",
       "      <td id=\"T_33972_row20_col4\" class=\"data row20 col4\" ><img src = \"data:image/png;base64, iVBORw0KGgoAAAANSUhEUgAAAJsAAAAXCAYAAAAcEz0vAAAAOXRFWHRTb2Z0d2FyZQBNYXRwbG90bGliIHZlcnNpb24zLjcuMiwgaHR0cHM6Ly9tYXRwbG90bGliLm9yZy8pXeV/AAAACXBIWXMAAA9hAAAPYQGoP6dpAAAAnUlEQVR4nO3bsQ0CMRBE0TlkoSPx6mTJxbgIUvovYZPjQgJqYCyZ/yqY4Ie7m6SHpLuAHyuttWet9Zg9BOsrtdZjjPGOiGv2GKwrM/ciSRFx9d7P2YOwttvsAfgfxAYbYoMNscGG2GBDbLAhNtgQG2yIDTbEBhtigw2xwYbYYENssCE22BAbbIgNNkX6nuzOHoK1Zea+tdZePLzA4QPFNA/EDSh7IQAAAABJRU5ErkJggg==\"></img></td>\n",
       "      <td id=\"T_33972_row20_col5\" class=\"data row20 col5\" >0<br>(0.0%)</td>\n",
       "    </tr>\n",
       "    <tr>\n",
       "      <td id=\"T_33972_row21_col0\" class=\"data row21 col0\" >22</td>\n",
       "      <td id=\"T_33972_row21_col1\" class=\"data row21 col1\" ><strong>OverTime</strong><br>[object]</td>\n",
       "      <td id=\"T_33972_row21_col2\" class=\"data row21 col2\" >1. No<br>2. Yes</td>\n",
       "      <td id=\"T_33972_row21_col3\" class=\"data row21 col3\" >852 (76.1%)<br>267 (23.9%)</td>\n",
       "      <td id=\"T_33972_row21_col4\" class=\"data row21 col4\" ><img src = \"data:image/png;base64, iVBORw0KGgoAAAANSUhEUgAAAJsAAAAuCAYAAAA/ZmtKAAAAOXRFWHRTb2Z0d2FyZQBNYXRwbG90bGliIHZlcnNpb24zLjcuMiwgaHR0cHM6Ly9tYXRwbG90bGliLm9yZy8pXeV/AAAACXBIWXMAAA9hAAAPYQGoP6dpAAABPUlEQVR4nO3bQWrDMBRF0a9iQjORMAYvxovoYrsI7cYYa5CETNRBJ6HDWjx9nHtW8CE3gRi/UGs1QCGY2dXMLr0PQXPPWuu99xGvhmmavmKMY+9D0FYpZQshfHsKbogxjsuy3FNKj97HoI193z9zzuO6rhcz8xObmVlK6THP8633MWjq2vuAvz56H4D3QWyQITbIEBtkiA0yxAYZYoMMsUGG2CBDbJAhNsgQG2SIDTLEBhlig8xg9vuyXe9D0I7Xz3MopWw559EcvmyH/yulbGb27H3HKwYv5+Vu8BKY8kHF6y+bu28ljnM55fM4Q8Nx7qZ8XmdoOM7rlI9/xifEQ13IEBtkiA0yxAYZYoMMsUGG2CBDbJAhNsgQG2SIDTLEBhligwyxQYbYIONuyufpFrTlcsrncYaG4xi8QOYHCltq3yMaNyQAAAAASUVORK5CYII=\"></img></td>\n",
       "      <td id=\"T_33972_row21_col5\" class=\"data row21 col5\" >0<br>(0.0%)</td>\n",
       "    </tr>\n",
       "    <tr>\n",
       "      <td id=\"T_33972_row22_col0\" class=\"data row22 col0\" >23</td>\n",
       "      <td id=\"T_33972_row22_col1\" class=\"data row22 col1\" ><strong>PercentSalaryHike</strong><br>[int64]</td>\n",
       "      <td id=\"T_33972_row22_col2\" class=\"data row22 col2\" >Mean (sd) : 14.8 (3.4)<br>min < med < max:<br>11.0 < 14.0 < 25.0<br>IQR (CV) : 5.0 (4.3)</td>\n",
       "      <td id=\"T_33972_row22_col3\" class=\"data row22 col3\" >15 distinct values</td>\n",
       "      <td id=\"T_33972_row22_col4\" class=\"data row22 col4\" ><img src = \"data:image/png;base64, iVBORw0KGgoAAAANSUhEUgAAAKoAAABGCAYAAABc8A97AAAAOXRFWHRTb2Z0d2FyZQBNYXRwbG90bGliIHZlcnNpb24zLjcuMiwgaHR0cHM6Ly9tYXRwbG90bGliLm9yZy8pXeV/AAAACXBIWXMAAA9hAAAPYQGoP6dpAAACgUlEQVR4nO3cTW7aQBiA4W9KCOZHthAS7LhApS5Y+hA9bI+QBSfgBuyQkGWEEwtj3EWVKFLTArYnnm/yPuvYePGSxPNnqqoSwHXfun4A4BYP137AGDMUkcea9z9VVfVS81rgzX9DNcYMZ7PZzzAMp3VufjgcEmPML2JFU9d+oz6GYTiN4/gliqL8nhunaRqs1+vpfr9/FBFCRSNX//SLiERRlM/n8+ca9x/WuAb4Cy9TUIFQoQKhQgVChQqEChUIFSoQKlQgVKhAqFCBUKECoUIFQoUKhAoVblo91RUWbeOVs6GyaBvvORuqsGgb77gcqoiwaBt/8DIFFQgVKhAqVCBUqECoUIFQoQKhQgVChQqEChUIFSoQKlSwOtdflmVfREJjTJ3Lw8vl0m/5kaCUtVCzLOsXRfFjuVz2er3eXaufRESKogjKsvye5/mTiNRZlAKPWAv1dDo9BEEwWq1W+WKxSO69frvdTjebzeh8PvdsPB90sb7Mbzwe11qmlyQJy/TwhpcpqECoUIFQoQKhQgVChQqEChUIFSoQKlQgVKjg/AEUGnFmVvsItWWcmWUHobaPM7MsIFRLODOrXbxMQQVChQqEChX4H/UfGgwxsdfLAkL9QJMhJvZ62UGoH6s9xNT1Xi9fJxu8DbWNrdpRFCX3DjF1udfL58kGL0P9wlu1vZ1s8DLUr75V28fJBi9DfcVWbX8wjgoVCBUqECpU8Pp/VHwum2O4hOoYrUd12h7DJVSHdD3+2/RLMplM5nEcH2yM4RKqQ7oc/23rSzIYDJ5sjOESqoO6GP91fZLkplDTNA3uvfHxeAxERLIsC3a73egzr9f62S48d1N1PvuWvn4DxIadJ098FdsAAAAASUVORK5CYII=\"></img></td>\n",
       "      <td id=\"T_33972_row22_col5\" class=\"data row22 col5\" >0<br>(0.0%)</td>\n",
       "    </tr>\n",
       "    <tr>\n",
       "      <td id=\"T_33972_row23_col0\" class=\"data row23 col0\" >24</td>\n",
       "      <td id=\"T_33972_row23_col1\" class=\"data row23 col1\" ><strong>PerformanceRating</strong><br>[int64]</td>\n",
       "      <td id=\"T_33972_row23_col2\" class=\"data row23 col2\" >1. 3<br>2. 4</td>\n",
       "      <td id=\"T_33972_row23_col3\" class=\"data row23 col3\" >997 (89.1%)<br>122 (10.9%)</td>\n",
       "      <td id=\"T_33972_row23_col4\" class=\"data row23 col4\" ><img src = \"data:image/png;base64, iVBORw0KGgoAAAANSUhEUgAAAJsAAAAuCAYAAAA/ZmtKAAAAOXRFWHRTb2Z0d2FyZQBNYXRwbG90bGliIHZlcnNpb24zLjcuMiwgaHR0cHM6Ly9tYXRwbG90bGliLm9yZy8pXeV/AAAACXBIWXMAAA9hAAAPYQGoP6dpAAABOElEQVR4nO3bwYnDMBRF0a/BhGQjYQwuxkVMsVOEujHGWiQhG2WRAmJGn5cg7inA/MXFkOAXaq0GKAQzu5jZ6dOH4Os9aq23lgcM0zT9xhhHr4vQp1LKFkL4awluiDGOy7LcUkp3z+PQj33fzznncV3Xk5n9PzYzs5TSfZ7nq9t16NGl9QE/HlcARxAbZIgNMsQGGWKDDLFBhtggQ2yQITbIEBtkiA0yxAYZYoMMsUGG2CAzmL0+jvv0IfheXn0MpZQt5zyaw8dx6FcpZTOzR8szGLzgqObBS2DKBxWvN1tz9eify5TPY+aF/jVP+bxmXuif15SPX7J4iz91IUNskCE2yBAbZIgNMsQGGWKDDLFBhtggQ2yQITbIEBtkiA0yxAYZYoNM85SPGSCOcpnyecy80D8GL5B5Agpbat96LJCVAAAAAElFTkSuQmCC\"></img></td>\n",
       "      <td id=\"T_33972_row23_col5\" class=\"data row23 col5\" >0<br>(0.0%)</td>\n",
       "    </tr>\n",
       "    <tr>\n",
       "      <td id=\"T_33972_row24_col0\" class=\"data row24 col0\" >25</td>\n",
       "      <td id=\"T_33972_row24_col1\" class=\"data row24 col1\" ><strong>RelationshipSatisfaction</strong><br>[int64]</td>\n",
       "      <td id=\"T_33972_row24_col2\" class=\"data row24 col2\" >1. 3<br>2. 4<br>3. 2<br>4. 1</td>\n",
       "      <td id=\"T_33972_row24_col3\" class=\"data row24 col3\" >350 (31.3%)<br>324 (29.0%)<br>255 (22.8%)<br>190 (17.0%)</td>\n",
       "      <td id=\"T_33972_row24_col4\" class=\"data row24 col4\" ><img src = \"data:image/png;base64, iVBORw0KGgoAAAANSUhEUgAAAJsAAABcCAYAAAB5jMeAAAAAOXRFWHRTb2Z0d2FyZQBNYXRwbG90bGliIHZlcnNpb24zLjcuMiwgaHR0cHM6Ly9tYXRwbG90bGliLm9yZy8pXeV/AAAACXBIWXMAAA9hAAAPYQGoP6dpAAAB7ElEQVR4nO3bQWrbYBSF0adiQjORMAYvxovoYrsI7cYYa9CETJRBRh2lcej99dvnrOANPmRkdId1XQsSfrQ+gMchNmKGqnquqqfWh3zD27quL62P4HO7w+HwaxzHfetDbrUsy2UYht+C277dOI770+n0Mk3Ta+tjvup6vf6c53l/Pp+fqkpsG7erqpqm6fV4PP5pfcyNnlsfwL/xgkCM2IgRGzFiI0ZsxIiNGLERIzZixEaM2IgRGzFiI0ZsxOyqPj7VaX3ILXq9+1HtlmW5zPO8r04/1VmW5VJVb63v4HM+CydmMOUjxQsCMb3+jPrp7FCX6yqLqj51t66yqOpXr+uqLv+meXReEIgRGzFiI0ZsxIiNGLERIzZixEaM2IgRGzFiI0ZsxIiNGLER092Ur6db+VuXUz7zvT7ZIBBjykfM1p5snlh3bFPrKqup+7aZdZXV1P3b2rqqmzdivs6fusSIjRixESM2YsRGjNiIERsxYiNGbMSIjRixESM2YsRGjNiI2cy6ags38H9tal1lNXXfbBCIsa4iJvlk89R6cLF1leUUkXWV5RRV2XVV87dd2vKnLjFiI0ZsxIiNGLERIzZixEaM2IgRGzFiI0ZsxIiNGLERIzZiIusqyymqgusqyylsEIixriLGCwIx7z8j2LlRLMHHAAAAAElFTkSuQmCC\"></img></td>\n",
       "      <td id=\"T_33972_row24_col5\" class=\"data row24 col5\" >0<br>(0.0%)</td>\n",
       "    </tr>\n",
       "    <tr>\n",
       "      <td id=\"T_33972_row25_col0\" class=\"data row25 col0\" >26</td>\n",
       "      <td id=\"T_33972_row25_col1\" class=\"data row25 col1\" ><strong>StandardHours</strong><br>[int64]</td>\n",
       "      <td id=\"T_33972_row25_col2\" class=\"data row25 col2\" >1. 80</td>\n",
       "      <td id=\"T_33972_row25_col3\" class=\"data row25 col3\" >1,119 (100.0%)</td>\n",
       "      <td id=\"T_33972_row25_col4\" class=\"data row25 col4\" ><img src = \"data:image/png;base64, iVBORw0KGgoAAAANSUhEUgAAAJsAAAAXCAYAAAAcEz0vAAAAOXRFWHRTb2Z0d2FyZQBNYXRwbG90bGliIHZlcnNpb24zLjcuMiwgaHR0cHM6Ly9tYXRwbG90bGliLm9yZy8pXeV/AAAACXBIWXMAAA9hAAAPYQGoP6dpAAAAnUlEQVR4nO3bsQ0CMRBE0TlkoSPx6mTJxbgIUvovYZPjQgJqYCyZ/yqY4Ie7m6SHpLuAHyuttWet9Zg9BOsrtdZjjPGOiGv2GKwrM/ciSRFx9d7P2YOwttvsAfgfxAYbYoMNscGG2GBDbLAhNtgQG2yIDTbEBhtigw2xwYbYYENssCE22BAbbIgNNkX6nuzOHoK1Zea+tdZePLzA4QPFNA/EDSh7IQAAAABJRU5ErkJggg==\"></img></td>\n",
       "      <td id=\"T_33972_row25_col5\" class=\"data row25 col5\" >0<br>(0.0%)</td>\n",
       "    </tr>\n",
       "    <tr>\n",
       "      <td id=\"T_33972_row26_col0\" class=\"data row26 col0\" >27</td>\n",
       "      <td id=\"T_33972_row26_col1\" class=\"data row26 col1\" ><strong>StockOptionLevel</strong><br>[int64]</td>\n",
       "      <td id=\"T_33972_row26_col2\" class=\"data row26 col2\" >1. 0<br>2. 1<br>3. 2<br>4. 3<br>5. 4</td>\n",
       "      <td id=\"T_33972_row26_col3\" class=\"data row26 col3\" >493 (44.1%)<br>458 (40.9%)<br>114 (10.2%)<br>53 (4.7%)<br>1 (0.1%)</td>\n",
       "      <td id=\"T_33972_row26_col4\" class=\"data row26 col4\" ><img src = \"data:image/png;base64, iVBORw0KGgoAAAANSUhEUgAAAJsAAABzCAYAAACPdnBjAAAAOXRFWHRTb2Z0d2FyZQBNYXRwbG90bGliIHZlcnNpb24zLjcuMiwgaHR0cHM6Ly9tYXRwbG90bGliLm9yZy8pXeV/AAAACXBIWXMAAA9hAAAPYQGoP6dpAAACUElEQVR4nO3bQWrbUBiF0V/GpM3EwhiyhHYPXkQX20VoEd2DCdagSTNRBxmWJE4t32esc1bwEj4sJN7tpmkqSFi1PgDLITZixEZMV1X3VXXX+iBX5GWapqfWh7hF691u92Oz2WxbH+RajOP42HXdT8HNb73ZbLb7/f6p7/vn1odp7Xg8fh2GYXs4HO6qSmwzW1dV9X3//PDw8Lv1Ya7EfesD3CovCMSIjRixESM2YsRGjNiIERsxYiNGbMSIjRixESM2YsRGzLrq9WpN64NcA/+Hy1qP4/g4DMO2XK2pqtfLk1X10voct8i18H+5Fn4hnd0oKV4QiFn6Y9QjM2jR6ypLqqzFrqssqfKWvq7yuSfICwIxYiNGbMSIjRixESM2YsRGjNiIERsxYiNGbMSIjRixEbPYddUS/+bWFr2usqTKci3cLd0Y6ypivCAQM8dj1KOIk5y9rrJQ4lRnrasslPiMOdZVi/tkwv/xgkCM2IgRGzFiI0ZsxIiNGLERIzZixEaM2IgRGzFiI0ZsxJy1rrJQ4jPOXldZKHEq18KJsa4i5qNfNr9azObdwYsxC3N6c/BizMLcPhq8GLMwGx91iREbMWIjRmzEiI0YsREjNmLERozYiBEbMWIjRmzEiI0YsRHz5rrKcoq5vbuuspxiTjYIxFhXEeMFgZhV13Xfu67zMsDFrarqW1V9aX0Qbp/HKDFiI0ZsxIiNGLERIzZixEaM2IgRGzFiI0ZsxIiNGLERIzZixEaM2IhZVdWvqvrT+iDcPoMXYjxGiREbMWIj5i+0Pt4Yhmd/ZQAAAABJRU5ErkJggg==\"></img></td>\n",
       "      <td id=\"T_33972_row26_col5\" class=\"data row26 col5\" >0<br>(0.0%)</td>\n",
       "    </tr>\n",
       "    <tr>\n",
       "      <td id=\"T_33972_row27_col0\" class=\"data row27 col0\" >28</td>\n",
       "      <td id=\"T_33972_row27_col1\" class=\"data row27 col1\" ><strong>TotalWorkingYears</strong><br>[int64]</td>\n",
       "      <td id=\"T_33972_row27_col2\" class=\"data row27 col2\" >Mean (sd) : 10.7 (7.3)<br>min < med < max:<br>0.0 < 9.0 < 38.0<br>IQR (CV) : 8.0 (1.5)</td>\n",
       "      <td id=\"T_33972_row27_col3\" class=\"data row27 col3\" >38 distinct values</td>\n",
       "      <td id=\"T_33972_row27_col4\" class=\"data row27 col4\" ><img src = \"data:image/png;base64, iVBORw0KGgoAAAANSUhEUgAAAKoAAABGCAYAAABc8A97AAAAOXRFWHRTb2Z0d2FyZQBNYXRwbG90bGliIHZlcnNpb24zLjcuMiwgaHR0cHM6Ly9tYXRwbG90bGliLm9yZy8pXeV/AAAACXBIWXMAAA9hAAAPYQGoP6dpAAAC20lEQVR4nO3dva7aMBiA4c/lpwHUAKKCjZWhUgdGlt5BL/as3c4AO+IOWBASgiAolBDo0nbi106Kv+h9dh8yvIpiO8cx5/NZAN99ePUFAI8ovvoCbjHGVESkbDn8cD6fd2leD17H21CNMZVWq/U9DMOmzfj1er00xrwRaz54G6qIlMMwbA4Gg129Xt8/MzCKomA4HDYXi0VZRAg1B3wOVURE6vX6vt1u/7QYWkn9YvAyTKagAqFCBUKFCoQKFQgVKhAqVCBUqECoUIFQoUKmO1OOL5WEp9OplOb1QK/MQnV9qSSO4yBJki/7/f5dRGy2UJEjWd5RrV8qERGZTqfNyWRSPR6PhSwuDrpk/lKK7Usly+WSl0rwD5MpqECoUIFQoQKhQgVChQqEChUIFSoQKlQgVKhAqFCBUKECoUIFQoUKhAoVCBUqECpUIFSoQKhQgVChAqFCBUKFCoQKFQgVKhAqVCBUqECoUIFQocLds6ccjo7k2Eik5maoLkdHcmwk0nTvjmp9dCTHRiJNDx07aXN0JMdGIk3ef7TXVpIkJREJjTG2f+LAJ9T9kctQt9ttKY7jr91ut1AoFJ4+7VpEZL1eL40xb8Tqh1yGejgcikEQVPv9/r7T6SyfHR9FUTAcDpuLxaIsIoTqgVyG+letVrM6lv0P62dsx6/B8MhxQa5DfQXXr8HwyHEZoabPekmPR47rCDUjtl+DEYdHjjwj1CsclrfYOs4AoV7gsrzF1nE2CPUCl+Utto6zQag32CxvuW4ds6N2GaF6hB216wjVI+yoXUeoHnrVjprP+FcUqMAdNWccJ2PeTsQINUdcJ2Or1WpjjPkhIlYTOckwdELNEZfJ2Gw2+zQajb51u93PtisOjqHfjJxQc8h2/ddlxcE19HvLag+FGkVR8OwPbzabQERku90G8/m8+j/Ha/1tH67bVhzHxSAIqr1ezzQajV/PjN3tdh/H4/HNZbXfs4aQjPoQa+QAAAAASUVORK5CYII=\"></img></td>\n",
       "      <td id=\"T_33972_row27_col5\" class=\"data row27 col5\" >0<br>(0.0%)</td>\n",
       "    </tr>\n",
       "    <tr>\n",
       "      <td id=\"T_33972_row28_col0\" class=\"data row28 col0\" >29</td>\n",
       "      <td id=\"T_33972_row28_col1\" class=\"data row28 col1\" ><strong>TrainingTimesLastYear</strong><br>[int64]</td>\n",
       "      <td id=\"T_33972_row28_col2\" class=\"data row28 col2\" >1. 2<br>2. 3<br>3. 4<br>4. 5<br>5. 6<br>6. 0<br>7. 1</td>\n",
       "      <td id=\"T_33972_row28_col3\" class=\"data row28 col3\" >442 (39.5%)<br>391 (34.9%)<br>97 (8.7%)<br>87 (7.8%)<br>36 (3.2%)<br>34 (3.0%)<br>32 (2.9%)</td>\n",
       "      <td id=\"T_33972_row28_col4\" class=\"data row28 col4\" ><img src = \"data:image/png;base64, iVBORw0KGgoAAAANSUhEUgAAAJsAAAChCAYAAADQgM1HAAAAOXRFWHRTb2Z0d2FyZQBNYXRwbG90bGliIHZlcnNpb24zLjcuMiwgaHR0cHM6Ly9tYXRwbG90bGliLm9yZy8pXeV/AAAACXBIWXMAAA9hAAAPYQGoP6dpAAAC3ElEQVR4nO3bQWrbUABF0e9iSjuxCYEsJovoYrsI7yaEaNCWTtxBRyXpwEp15crnrOAbLt9I6O3O5/OAwoe1D8DtEBsZsZERGxmxkdmNMT6PMT6ufZDYz/P5/H3tQ9ya/f39/ZfD4XC39kFK0zQ973a7r4Jr7Q+Hw93j4+P34/H4Y+3DFF5eXj6dTqe7p6enj2MMsYX2Y4xxPB5/PDw8fFv7MKHPax/gFnlAICM2MmIjIzYyYiMjNjJiIyM2MmIjIzYyYiMjNjJiI7Mf4/dnN2sfpHJLv/Xa7Kdpej6dTnfjhj67mabpeYzxc+1z3BqfhZPZWcRT2fLN5va6MpsdvBi1XJ9NDl6MWq7TlgcvN/N0/b/wUpeM2MiIjYzYyIiNjNjIiI2M2MiIjYzYyIiNjNjIiI2M2Mhscl21td+zFZtdV1lQXR8bBDLWVWTm3mxuDS42a11lucQcF6+rLJeYa+66alNPrjS81CUjNjJiIyM2MmIjIzYyYiMjNjJiIyM2MmIjIzYyYiNz8eDFmIS5Zg1ejEmYw2fhZAxeyHhAIDPnb9RfKLNcvK6yrGKui9ZVllW8x5x1lWUVs3hAICM2MmIjIzYyYiMjNjJiIyM2MmIjIzYyYiMjNjJiI3PRusqyive4eF1lWcVcPgsnY11F5m83m9uLf+7NwYtRC0t4NXgxamEpfxu8GLXwz3mpS0ZsZMRGRmxkxEZGbGTERkZsZMRGRmxkxEZGbGTERubV4MWohaW8OXgxamEJPgsnY/BCxgMCGX+jZKyryFhXkbGuIuMBgYzYyIiNjNjIiI2M2MiIjYzYyIiNjNjIiI2M2MiIjYx1FRnrKjI+CydjXUXmrZvNrcYiXg1ejF1Yyh+DF2MXlvTW4MXYhUV4qUtGbGTERkZsZMRGRmxkxEZGbGTERkZsZMRGRmxkxEZGbGT+WFdZVrGkV+sqyyqWYoNAxrqKjAcEMmIjIzYyYiPzC9wreRWNyFUZAAAAAElFTkSuQmCC\"></img></td>\n",
       "      <td id=\"T_33972_row28_col5\" class=\"data row28 col5\" >0<br>(0.0%)</td>\n",
       "    </tr>\n",
       "    <tr>\n",
       "      <td id=\"T_33972_row29_col0\" class=\"data row29 col0\" >30</td>\n",
       "      <td id=\"T_33972_row29_col1\" class=\"data row29 col1\" ><strong>WorkLifeBalance</strong><br>[int64]</td>\n",
       "      <td id=\"T_33972_row29_col2\" class=\"data row29 col2\" >1. 3<br>2. 2<br>3. 4<br>4. 1</td>\n",
       "      <td id=\"T_33972_row29_col3\" class=\"data row29 col3\" >704 (62.9%)<br>276 (24.7%)<br>95 (8.5%)<br>44 (3.9%)</td>\n",
       "      <td id=\"T_33972_row29_col4\" class=\"data row29 col4\" ><img src = \"data:image/png;base64, iVBORw0KGgoAAAANSUhEUgAAAJsAAABcCAYAAAB5jMeAAAAAOXRFWHRTb2Z0d2FyZQBNYXRwbG90bGliIHZlcnNpb24zLjcuMiwgaHR0cHM6Ly9tYXRwbG90bGliLm9yZy8pXeV/AAAACXBIWXMAAA9hAAAPYQGoP6dpAAAB90lEQVR4nO3bQWrbUBiF0V/FhGYiYQxejBfRxXYR2o0x1qAJmaiDTpOAhX2l+p2zgof5kHlCt5vnuSDhx9oHoB1iI6arqteqeln7INTHPM9vax/ikXaHw+FX3/f7tQ/SummaLl3X/X7m4HZ93+9Pp9PbMAzvax+mVdfr9ec4jvvz+fxSVc8bW1XVMAzvx+Pxz9qHadzr2gd4NBcEYsRGjNiIERsxYiNGbMSIjRixESM2YsRGjNiIERsxYiNmV/XvE5e1D9KyVn7/3TRNl3Ec99XAJy5bNk3Tpao+1j7HI/ksfDue/rPwzpSPFBcEYrb8N/r0fyut2ey6qoW1UWs2ua5qZW3Umi2vq7yKeTIuCMSIjRixESM2YsRGjNiIERsxYiNGbMSIjRixESM2YsRGjNiI2eSUb2vn4T42O+VrYdrWGhsEYkz5iFn6ZPPU4WaL1lWWTyxx87rK8omllq6rNnVz5f/gpS4xYiNGbMSIjRixESM2YsRGjNiIERsxYiNGbMSIjRixESM2Ym5eV1k+sdSidZXlE0vYIBBjXUXMd082Ty/u6st1lQUV9/bpusqCikf4bl1lQcVdealLjNiIERsxYiNGbMSIjRixESM2YsRGjNiIERsxYiNGbMSIjZhP11UWVDzCl+sqCyruzQaBGOsqYlwQiPkLs1jYuVZuHjYAAAAASUVORK5CYII=\"></img></td>\n",
       "      <td id=\"T_33972_row29_col5\" class=\"data row29 col5\" >0<br>(0.0%)</td>\n",
       "    </tr>\n",
       "    <tr>\n",
       "      <td id=\"T_33972_row30_col0\" class=\"data row30 col0\" >31</td>\n",
       "      <td id=\"T_33972_row30_col1\" class=\"data row30 col1\" ><strong>YearsAtCompany</strong><br>[int64]</td>\n",
       "      <td id=\"T_33972_row30_col2\" class=\"data row30 col2\" >Mean (sd) : 7.0 (6.0)<br>min < med < max:<br>0.0 < 5.0 < 36.0<br>IQR (CV) : 7.0 (1.2)</td>\n",
       "      <td id=\"T_33972_row30_col3\" class=\"data row30 col3\" >33 distinct values</td>\n",
       "      <td id=\"T_33972_row30_col4\" class=\"data row30 col4\" ><img src = \"data:image/png;base64, iVBORw0KGgoAAAANSUhEUgAAAKoAAABGCAYAAABc8A97AAAAOXRFWHRTb2Z0d2FyZQBNYXRwbG90bGliIHZlcnNpb24zLjcuMiwgaHR0cHM6Ly9tYXRwbG90bGliLm9yZy8pXeV/AAAACXBIWXMAAA9hAAAPYQGoP6dpAAACvElEQVR4nO3cMW/aQByG8fcgIEPSsxAS2Vg6VuqQkQ+RD9u1W4d8gqyZskRICIhwQ3GMu4SqUiGJ70rw33p+M2czPDJ3FneuLEsBddc69RcA3uPsrQ8453qSuoHX35Rl+RQ4Fvjj1VCdc73hcHjtvR+EXPzx8XHunPtGrIj11hO1670fTCaTpzRN11UuvFwuk5ubm8FsNutKIlREefOnX5LSNF2PRqOfAdfvBYwB/sFiCia864kaqiiKjiTvnAu9BIsxSDpiqFmWdfI8/zoej9vtdrvS/HaHxRh2jhbqZrM5S5Kkf3V1tb68vJxXHc9iDH876k+/JJ2fn4cuxCQWY3jBYgomECpMIFSYQKgwgVBhAqHCBEKFCYQKEwgVJhAqTCBUmECoMIFQYQKhwoSj/80vRuQOAXYHNEhtQ43dIcDugGapbagxOwTYHdA8tQ11J2KHALsDGoTFFEwgVJhAqDCBUGECocIEQoUJhAoTCBUmECpMIFSYQKgwgVBhAqHCBEKFCYQKEwgVJhAqTCBUmECoMIFQYQKhwgRChQmEChMIFSYQKkwgVJhAqDCBUGECocKE2p/mFyryEGCJg4BrpZGhxh4CLHEQcN00MtSYQ4Cl+IOAnXM9Sd2q417wJN+jkaHuRBwCLAUeBOyc6w2Hw2vv/SBkPE/y/Rod6ol0vfeDyWTylKZppWkHR7ofRqhHkqYpR7r/R4R6QMRbA7/dbjsnuO9OI+e4hLpHzFuDPM+Toii+rNfrH5IqPVF5W3EYoe4R89bg/v5+cHt7239+fm5/5H2lZs9xCfUVIW8N5vN59BzzFG8r6o5QGyZyjtuStI24/dHmx+8KdblcJlUvvFqtEknKsiyZTqf9jxxv9d6x3/vh4eFT6By3KIpOlmWfLy4u7lqtVl713pK0WCxWzrnvkkLm17/Ksjw47jdcwGVy45vihAAAAABJRU5ErkJggg==\"></img></td>\n",
       "      <td id=\"T_33972_row30_col5\" class=\"data row30 col5\" >0<br>(0.0%)</td>\n",
       "    </tr>\n",
       "    <tr>\n",
       "      <td id=\"T_33972_row31_col0\" class=\"data row31 col0\" >32</td>\n",
       "      <td id=\"T_33972_row31_col1\" class=\"data row31 col1\" ><strong>YearsInCurrentRole</strong><br>[int64]</td>\n",
       "      <td id=\"T_33972_row31_col2\" class=\"data row31 col2\" >Mean (sd) : 4.2 (3.5)<br>min < med < max:<br>0.0 < 3.0 < 17.0<br>IQR (CV) : 5.0 (1.2)</td>\n",
       "      <td id=\"T_33972_row31_col3\" class=\"data row31 col3\" >18 distinct values</td>\n",
       "      <td id=\"T_33972_row31_col4\" class=\"data row31 col4\" ><img src = \"data:image/png;base64, iVBORw0KGgoAAAANSUhEUgAAAKoAAABGCAYAAABc8A97AAAAOXRFWHRTb2Z0d2FyZQBNYXRwbG90bGliIHZlcnNpb24zLjcuMiwgaHR0cHM6Ly9tYXRwbG90bGliLm9yZy8pXeV/AAAACXBIWXMAAA9hAAAPYQGoP6dpAAACx0lEQVR4nO3dv0/bQBiH8fcaQEdCbQJRsmVlQOqAxMLSrWP/2K7dOgSpGxIrE0uEAvmhpKQxJixlKoLYZxd/3eezn+3hUe5ikRe3Xq8NqLoP7/0AwCa2yry4c27XzHYCLrFar9f3RT0PdJUWqnNu9/Dw8GsURe2815jNZmPn3DdiRZmfqDtRFLXPzs7u4zheZl08nU79YDBo397e7pgZof7nSt36zcziOF52u91fOZfvFvowkMWXKUggVEggVEggVEggVEggVEggVEggVEggVEggVEggVEggVEggVEggVEggVEggVEggVEggVEggVEggVEgo/cd9qgJnEjCPoGCE+oLQmQTMIygeob4s90wC5hGUg1BfETCTgHkEBXsz1ICzWvT4+LidYx3wl1dDDTmrJUni0zQ9Xi6XP8ws76QUwMze/kTNfVa7vr5uX15eNh8eHhoBzweY2YZn1DxntfF4zDkNheGFPyQQKiQQKiQQKiQQKiQQKiQQKiQQKiQQKiQQKiQQKiQQKiQQKiQQKiQQKiQQKiQQKiQQKiQQKiQQKiRUegBFmqbbZhY55/IsZ/5TjVQ21MVisZ0kyad+v99oNBqZfqptxvynuqlsqKvVast73zw5OVn2er1xlrXvPf+JnaB4lQ31WavVkpr/xE5QjsqHqkZ5J6gyQi2J2k5QdbyeggRChQRChQRChYTafpkKfJfJtOyKqWWooe8ymZZdPbUMNeRdppn2tOy6/n+sWob6LO+7zPeclh14ZPEHBwdf4jhu5Vk8mUzmzrnvZpZ5F/qjtNBrHaqaIo4sZnZ8enr6s9PpzLKsHQ6HH8/Pzz/3+/1OnnubBYf+auQbhTqdTn3Wu87nc29mtlgs/M3NTfNfrle9993d3Z73vnl0dOT29/d/Z1lrZjYajfzV1VUzTdPMR5YkSbZC7j2ZTPYuLi5yh/7W3zg8AfLgWftxBBfsAAAAAElFTkSuQmCC\"></img></td>\n",
       "      <td id=\"T_33972_row31_col5\" class=\"data row31 col5\" >0<br>(0.0%)</td>\n",
       "    </tr>\n",
       "    <tr>\n",
       "      <td id=\"T_33972_row32_col0\" class=\"data row32 col0\" >33</td>\n",
       "      <td id=\"T_33972_row32_col1\" class=\"data row32 col1\" ><strong>YearsSinceLastPromotion</strong><br>[int64]</td>\n",
       "      <td id=\"T_33972_row32_col2\" class=\"data row32 col2\" >Mean (sd) : 2.1 (3.3)<br>min < med < max:<br>0.0 < 1.0 < 15.0<br>IQR (CV) : 2.0 (0.6)</td>\n",
       "      <td id=\"T_33972_row32_col3\" class=\"data row32 col3\" >16 distinct values</td>\n",
       "      <td id=\"T_33972_row32_col4\" class=\"data row32 col4\" ><img src = \"data:image/png;base64, iVBORw0KGgoAAAANSUhEUgAAAKoAAABGCAYAAABc8A97AAAAOXRFWHRTb2Z0d2FyZQBNYXRwbG90bGliIHZlcnNpb24zLjcuMiwgaHR0cHM6Ly9tYXRwbG90bGliLm9yZy8pXeV/AAAACXBIWXMAAA9hAAAPYQGoP6dpAAAC1klEQVR4nO3YsW/aQBSA8XcQ0BHgDkJLNpYOSKnUISNLt475Y7N268AedWboFqGQYIqDi2Xcpa1UtUpiH0547febeXeO9AGPmDzPBTh0tZd+AOApjh57gTGmJSLNkudv8zzflJwFfnkwVGNMazAYXDjn+mUOX61Wd8aYS2JFqMc+UZvOuf5kMtl475MiB0dRZKfTaX+xWDRFhFAR5NGvfhER730yHA7vS5zfKjED/IEfU1CBUKECoUIFQoUKhAoVCBUqECpUIFSoQKhQgVChAqFCBUKFCoQKFQgVKhAqVCBUqECoUIFQoQKhQgVChQqEChUIFSoQKlQgVKhAqFCBUKECoUIFQoUKhAoVCBUqECpUIFSoQKhQgVChAqFCBUKFCoQKFQgVKhAqVCBUqECoUIFQoQKhQgVChQqEChUIFSoQKlQgVKhAqFCBUKECoUIFQoUKhAoVjqo8PMuyhog4Y0zZI7Z5nm/2+EhQqrJQ4zhupGn6bjQa1ev1elLmjNVqdWeMuSRWVBbqdrs9stYen5+fJ6enp3dF56MostPptL9YLJoiQqj/uUq/+kVE2u12MhwO70uOt/b6MFCr8lBDBO64QfutMaYlIs2S4+zWe3awoYbuuCH7rTGmNRgMLpxz/aKzoXfj7w421JAddw/7bdM5159MJhvvfaE3Cbt1NQ421J8Cdtzg/dZ7/2J343cHH2pZgfut2+12jT0/0rMI3K1rIrILuL6y3fyfDDV0v03T1GZZ9jZJkk8iUvgTNfBNEhKLPTk5+eC9bxcdzLKsEcfxm06nM6vVammZy5fL5doY81FEyvzf/MHInxRqFEW26K3r9dqKiMRxbOfz+fFzzt/e3nastcfj8dj0er1vRe++ubmxs9nsOIqi9nw+3xaZvb6+7pZ9k4TGkqapFZG3Z2dnn7vd7tcisz/+5tfj8fhLr9dbF717uVx2rq6u3o9Go1dV/Pj9Dv2DFTyFHa8RAAAAAElFTkSuQmCC\"></img></td>\n",
       "      <td id=\"T_33972_row32_col5\" class=\"data row32 col5\" >0<br>(0.0%)</td>\n",
       "    </tr>\n",
       "    <tr>\n",
       "      <td id=\"T_33972_row33_col0\" class=\"data row33 col0\" >34</td>\n",
       "      <td id=\"T_33972_row33_col1\" class=\"data row33 col1\" ><strong>YearsWithCurrManager</strong><br>[int64]</td>\n",
       "      <td id=\"T_33972_row33_col2\" class=\"data row33 col2\" >Mean (sd) : 4.3 (3.7)<br>min < med < max:<br>0.0 < 3.0 < 17.0<br>IQR (CV) : 5.0 (1.2)</td>\n",
       "      <td id=\"T_33972_row33_col3\" class=\"data row33 col3\" >18 distinct values</td>\n",
       "      <td id=\"T_33972_row33_col4\" class=\"data row33 col4\" ><img src = \"data:image/png;base64, iVBORw0KGgoAAAANSUhEUgAAAKoAAABGCAYAAABc8A97AAAAOXRFWHRTb2Z0d2FyZQBNYXRwbG90bGliIHZlcnNpb24zLjcuMiwgaHR0cHM6Ly9tYXRwbG90bGliLm9yZy8pXeV/AAAACXBIWXMAAA9hAAAPYQGoP6dpAAAC1klEQVR4nO3dMU/bQBiH8fcSQo8kshOgsLF0yFCpAxILH6BjP2w/QgeGjog1Q8WGgChR3KQxTjpUTJUAn+3af/f57Zfc8GCck17b7XY7A5quU/cGgLfYq/LDnXMHZrZf4CM2u91uVdZ+oKuyUJ1zB0dHR1+iKBqHfsZisZg5574SK6q8ou5HUTS+vLxcxXG8zrt4Pp/7q6ur8cPDw76ZEep/rtJ//WZmcRyvT05OfgYuPyh1M5DFjylIIFRIIFRIIFRIIFRIIFRIIFRIIFRIIFRIIFRIIFRIIFRIIFRIIFRIIFRIIFRIIFRIIFRIeHUUpcAkabTdbnsB64C/vBhqkUnSNE19lmUf1+v1NzMLnZmqTcFRb8a8S/baFTV4kvT29nZ8c3PTf3p66hbYXy2Kjnoz5l2+N02hhkySzmYz5QnS4D9QxryrUfm4tLICo97Kf6SNxK9+SCBUSCBUSCBUSCBUSCBUSCBUSCBUSCBUSCBUSCBUSCBUSCBUSCBUSCBUSCBUSCBUSCBUSCBUSCBUSCBUSCBUSCBUSGj0XH+WZT0zi5xzIct5rE6LNDbUJEl6aZp+Ojs763a73VxPKzHjsTpt09hQN5vNnve+f35+vj49PZ3lWctjddqnsaE+GwwGPFYHzQ9VEffW5SPUknFvXQ1CLRn31tUg1Ipwb10uDvwhgVAhgVAhgVAhgR9TLdPW1w61NtSCh+61vcyt4L794eHh5ziOByGLm3yG28pQix661/UytzL2bWYfLy4uvh8fHy/yrG36GW4rQy1y6G5W38vcytq39z4NOcPNsiyy8Ku52Z/fPNvAtS/edrQy1Gehh+51v8ytjn0XvZpnWdZLkuTDcDicdjqdNO/612473hTqfD73eb94uVx6M7MkSfzd3V3/X65X/e469/34+Dj03vcnk4kbjUa/8n73/f29n06n7yeTyY/RaLTMs3a1Wr27vr5+8bbjN37TiPPWpOw/AAAAAElFTkSuQmCC\"></img></td>\n",
       "      <td id=\"T_33972_row33_col5\" class=\"data row33 col5\" >0<br>(0.0%)</td>\n",
       "    </tr>\n",
       "  </tbody>\n",
       "</table>\n",
       "\n",
       "    </div>\n",
       "    <style>\n",
       "    #btn-9014.st-collapsible {\n",
       "      background-color: white;\n",
       "      color: #444;\n",
       "      cursor: pointer;\n",
       "      padding: 1.5rem 2rem;\n",
       "      width: 100%;\n",
       "      text-align: left;\n",
       "      outline: none;\n",
       "      font-size: 14px;\n",
       "      border-top-left-radius: 0.375rem;\n",
       "      border-top-right-radius: 0.375rem;\n",
       "      border: 1px solid #dee2e6;\n",
       "      border-bottom: none;\n",
       "      font-weight: 500;\n",
       "    }\n",
       "\n",
       "    #btn-9014.active {\n",
       "      background-color: #e7f1ff;\n",
       "      color: #0c63e4;\n",
       "    }\n",
       "\n",
       "    #cont-9014.st-content {\n",
       "      padding: 0 10px;\n",
       "      background-color: white;\n",
       "      max-height: 0;\n",
       "      overflow: hidden;\n",
       "      transition: max-height 0.2s ease-out;\n",
       "      border: 1px solid #dee2e6;\n",
       "      border-top: none;\n",
       "    }\n",
       "\n",
       "    #cont-9014.st-content .active {\n",
       "      border: 1px solid #dee2e6;\n",
       "      border-bottom-left-radius: 0.375rem;\n",
       "      border-bottom-right-radius: 0.375rem;\n",
       "    }\n",
       "\n",
       "    #btn-9014.st-collapsible:after {\n",
       "      content: '';\n",
       "      background-image: url(\"data:image/svg+xml,%3csvg xmlns='http://www.w3.org/2000/svg' viewBox='0 0 16 16' fill='%23212529'%3e%3cpath fill-rule='evenodd' d='M1.646 4.646a.5.5 0 0 1 .708 0L8 10.293l5.646-5.647a.5.5 0 0 1 .708.708l-6 6a.5.5 0 0 1-.708 0l-6-6a.5.5 0 0 1 0-.708z'/%3e%3c/svg%3e\");\n",
       "      color: #444;\n",
       "      font-weight: bold;\n",
       "      float: right;\n",
       "      margin-left: 5px;\n",
       "      height: 1.5em;\n",
       "      width:  1.5rem;\n",
       "      background-repeat: no-repeat;\n",
       "      transition: transform 0.2s ease-in-out;\n",
       "    }\n",
       "\n",
       "    #btn-9014.active:after {\n",
       "      content: '';\n",
       "      background-image: url(\"data:image/svg+xml,%3csvg xmlns='http://www.w3.org/2000/svg' viewBox='0 0 16 16' fill='%230c63e4'%3e%3cpath fill-rule='evenodd' d='M1.646 4.646a.5.5 0 0 1 .708 0L8 10.293l5.646-5.647a.5.5 0 0 1 .708.708l-6 6a.5.5 0 0 1-.708 0l-6-6a.5.5 0 0 1 0-.708z'/%3e%3c/svg%3e\");\n",
       "      transform: rotate(180deg);\n",
       "    }\n",
       "    </style><script>\n",
       "    function coll_toggle_9014(){\n",
       "        var coll = document.getElementById(\"btn-9014\");\n",
       "        var content = document.getElementById(\"cont-9014\");\n",
       "        coll.classList.toggle(\"active\");\n",
       "        if (content.style.maxHeight){\n",
       "          content.style.maxHeight = null;\n",
       "          coll.innerHTML = \"Show Summary - test\";\n",
       "        } else {\n",
       "          content.style.maxHeight = content.scrollHeight + \"px\";\n",
       "          coll.innerHTML = \"Hide Summary - test\";\n",
       "        }\n",
       "    }  \n",
       "\n",
       "    </script>"
      ],
      "text/plain": [
       "<IPython.core.display.HTML object>"
      ]
     },
     "execution_count": 9,
     "metadata": {},
     "output_type": "execute_result"
    }
   ],
   "source": [
    "dfSummary(test, is_collapsible = True)"
   ]
  },
  {
   "cell_type": "markdown",
   "id": "98ae6696",
   "metadata": {
    "papermill": {
     "duration": 0.034112,
     "end_time": "2023-07-26T12:14:04.413811",
     "exception": false,
     "start_time": "2023-07-26T12:14:04.379699",
     "status": "completed"
    },
    "tags": []
   },
   "source": [
    "## >Identifying & Splitting data into Numerical and Categorical features\n",
    "## >>Train"
   ]
  },
  {
   "cell_type": "code",
   "execution_count": 10,
   "id": "d3102dbe",
   "metadata": {
    "execution": {
     "iopub.execute_input": "2023-07-26T12:14:04.451204Z",
     "iopub.status.busy": "2023-07-26T12:14:04.450438Z",
     "iopub.status.idle": "2023-07-26T12:14:04.456786Z",
     "shell.execute_reply": "2023-07-26T12:14:04.455484Z"
    },
    "papermill": {
     "duration": 0.027643,
     "end_time": "2023-07-26T12:14:04.459207",
     "exception": false,
     "start_time": "2023-07-26T12:14:04.431564",
     "status": "completed"
    },
    "tags": []
   },
   "outputs": [
    {
     "name": "stdout",
     "output_type": "stream",
     "text": [
      "['id', 'Age', 'DailyRate', 'DistanceFromHome', 'Education', 'EmployeeCount', 'EnvironmentSatisfaction', 'HourlyRate', 'JobInvolvement', 'JobLevel', 'JobSatisfaction', 'MonthlyIncome', 'MonthlyRate', 'NumCompaniesWorked', 'PercentSalaryHike', 'PerformanceRating', 'RelationshipSatisfaction', 'StandardHours', 'StockOptionLevel', 'TotalWorkingYears', 'TrainingTimesLastYear', 'WorkLifeBalance', 'YearsAtCompany', 'YearsInCurrentRole', 'YearsSinceLastPromotion', 'YearsWithCurrManager', 'Attrition']\n"
     ]
    }
   ],
   "source": [
    "train_numerical = train.select_dtypes(include = 'number').columns.tolist()\n",
    "print(train_numerical)"
   ]
  },
  {
   "cell_type": "code",
   "execution_count": 11,
   "id": "be7b37f9",
   "metadata": {
    "execution": {
     "iopub.execute_input": "2023-07-26T12:14:04.497285Z",
     "iopub.status.busy": "2023-07-26T12:14:04.496582Z",
     "iopub.status.idle": "2023-07-26T12:14:04.502284Z",
     "shell.execute_reply": "2023-07-26T12:14:04.501037Z"
    },
    "papermill": {
     "duration": 0.027004,
     "end_time": "2023-07-26T12:14:04.504587",
     "exception": false,
     "start_time": "2023-07-26T12:14:04.477583",
     "status": "completed"
    },
    "tags": []
   },
   "outputs": [
    {
     "name": "stdout",
     "output_type": "stream",
     "text": [
      "27\n"
     ]
    }
   ],
   "source": [
    "print(len(train_numerical))"
   ]
  },
  {
   "cell_type": "code",
   "execution_count": 12,
   "id": "a90dd418",
   "metadata": {
    "execution": {
     "iopub.execute_input": "2023-07-26T12:14:04.543605Z",
     "iopub.status.busy": "2023-07-26T12:14:04.542835Z",
     "iopub.status.idle": "2023-07-26T12:14:04.549299Z",
     "shell.execute_reply": "2023-07-26T12:14:04.548138Z"
    },
    "papermill": {
     "duration": 0.029695,
     "end_time": "2023-07-26T12:14:04.552801",
     "exception": false,
     "start_time": "2023-07-26T12:14:04.523106",
     "status": "completed"
    },
    "tags": []
   },
   "outputs": [
    {
     "name": "stdout",
     "output_type": "stream",
     "text": [
      "['BusinessTravel', 'Department', 'EducationField', 'Gender', 'JobRole', 'MaritalStatus', 'Over18', 'OverTime']\n"
     ]
    }
   ],
   "source": [
    "train_categorical = train.select_dtypes(exclude = 'number').columns.tolist()\n",
    "print(train_categorical)"
   ]
  },
  {
   "cell_type": "code",
   "execution_count": 13,
   "id": "34e8cd38",
   "metadata": {
    "execution": {
     "iopub.execute_input": "2023-07-26T12:14:04.591776Z",
     "iopub.status.busy": "2023-07-26T12:14:04.590983Z",
     "iopub.status.idle": "2023-07-26T12:14:04.598419Z",
     "shell.execute_reply": "2023-07-26T12:14:04.596586Z"
    },
    "papermill": {
     "duration": 0.030973,
     "end_time": "2023-07-26T12:14:04.602011",
     "exception": false,
     "start_time": "2023-07-26T12:14:04.571038",
     "status": "completed"
    },
    "tags": []
   },
   "outputs": [
    {
     "name": "stdout",
     "output_type": "stream",
     "text": [
      "8\n"
     ]
    }
   ],
   "source": [
    "print(len(train_categorical))"
   ]
  },
  {
   "cell_type": "markdown",
   "id": "90b24bbd",
   "metadata": {
    "papermill": {
     "duration": 0.017711,
     "end_time": "2023-07-26T12:14:04.637432",
     "exception": false,
     "start_time": "2023-07-26T12:14:04.619721",
     "status": "completed"
    },
    "tags": []
   },
   "source": [
    "## >>Test"
   ]
  },
  {
   "cell_type": "code",
   "execution_count": 14,
   "id": "bdbc03ff",
   "metadata": {
    "execution": {
     "iopub.execute_input": "2023-07-26T12:14:04.676099Z",
     "iopub.status.busy": "2023-07-26T12:14:04.675682Z",
     "iopub.status.idle": "2023-07-26T12:14:04.682819Z",
     "shell.execute_reply": "2023-07-26T12:14:04.681307Z"
    },
    "papermill": {
     "duration": 0.030828,
     "end_time": "2023-07-26T12:14:04.686640",
     "exception": false,
     "start_time": "2023-07-26T12:14:04.655812",
     "status": "completed"
    },
    "tags": []
   },
   "outputs": [
    {
     "name": "stdout",
     "output_type": "stream",
     "text": [
      "['id', 'Age', 'DailyRate', 'DistanceFromHome', 'Education', 'EmployeeCount', 'EnvironmentSatisfaction', 'HourlyRate', 'JobInvolvement', 'JobLevel', 'JobSatisfaction', 'MonthlyIncome', 'MonthlyRate', 'NumCompaniesWorked', 'PercentSalaryHike', 'PerformanceRating', 'RelationshipSatisfaction', 'StandardHours', 'StockOptionLevel', 'TotalWorkingYears', 'TrainingTimesLastYear', 'WorkLifeBalance', 'YearsAtCompany', 'YearsInCurrentRole', 'YearsSinceLastPromotion', 'YearsWithCurrManager']\n"
     ]
    }
   ],
   "source": [
    "test_numerical = test.select_dtypes(include = 'number').columns.tolist()\n",
    "print(test_numerical)"
   ]
  },
  {
   "cell_type": "code",
   "execution_count": 15,
   "id": "4e58b499",
   "metadata": {
    "execution": {
     "iopub.execute_input": "2023-07-26T12:14:04.725153Z",
     "iopub.status.busy": "2023-07-26T12:14:04.724724Z",
     "iopub.status.idle": "2023-07-26T12:14:04.730713Z",
     "shell.execute_reply": "2023-07-26T12:14:04.729292Z"
    },
    "papermill": {
     "duration": 0.028802,
     "end_time": "2023-07-26T12:14:04.733401",
     "exception": false,
     "start_time": "2023-07-26T12:14:04.704599",
     "status": "completed"
    },
    "tags": []
   },
   "outputs": [
    {
     "name": "stdout",
     "output_type": "stream",
     "text": [
      "26\n"
     ]
    }
   ],
   "source": [
    "print(len(test_numerical))"
   ]
  },
  {
   "cell_type": "code",
   "execution_count": 16,
   "id": "1b302eaf",
   "metadata": {
    "execution": {
     "iopub.execute_input": "2023-07-26T12:14:04.770679Z",
     "iopub.status.busy": "2023-07-26T12:14:04.770246Z",
     "iopub.status.idle": "2023-07-26T12:14:04.777718Z",
     "shell.execute_reply": "2023-07-26T12:14:04.776201Z"
    },
    "papermill": {
     "duration": 0.028898,
     "end_time": "2023-07-26T12:14:04.780127",
     "exception": false,
     "start_time": "2023-07-26T12:14:04.751229",
     "status": "completed"
    },
    "tags": []
   },
   "outputs": [
    {
     "name": "stdout",
     "output_type": "stream",
     "text": [
      "['BusinessTravel', 'Department', 'EducationField', 'Gender', 'JobRole', 'MaritalStatus', 'Over18', 'OverTime']\n"
     ]
    }
   ],
   "source": [
    "test_categorical = test.select_dtypes(exclude = 'number').columns.tolist()\n",
    "print(train_categorical)"
   ]
  },
  {
   "cell_type": "code",
   "execution_count": 17,
   "id": "ca61ddc4",
   "metadata": {
    "execution": {
     "iopub.execute_input": "2023-07-26T12:14:04.818398Z",
     "iopub.status.busy": "2023-07-26T12:14:04.817707Z",
     "iopub.status.idle": "2023-07-26T12:14:04.823003Z",
     "shell.execute_reply": "2023-07-26T12:14:04.821891Z"
    },
    "papermill": {
     "duration": 0.02705,
     "end_time": "2023-07-26T12:14:04.825748",
     "exception": false,
     "start_time": "2023-07-26T12:14:04.798698",
     "status": "completed"
    },
    "tags": []
   },
   "outputs": [
    {
     "name": "stdout",
     "output_type": "stream",
     "text": [
      "8\n"
     ]
    }
   ],
   "source": [
    "print(len(train_categorical))"
   ]
  },
  {
   "cell_type": "markdown",
   "id": "45fb2e4c",
   "metadata": {
    "papermill": {
     "duration": 0.017894,
     "end_time": "2023-07-26T12:14:04.861253",
     "exception": false,
     "start_time": "2023-07-26T12:14:04.843359",
     "status": "completed"
    },
    "tags": []
   },
   "source": [
    "## >Outliers Detection\n",
    "## >>Train"
   ]
  },
  {
   "cell_type": "code",
   "execution_count": 18,
   "id": "2d576ddf",
   "metadata": {
    "execution": {
     "iopub.execute_input": "2023-07-26T12:14:04.900068Z",
     "iopub.status.busy": "2023-07-26T12:14:04.899703Z",
     "iopub.status.idle": "2023-07-26T12:14:05.859936Z",
     "shell.execute_reply": "2023-07-26T12:14:05.858755Z"
    },
    "papermill": {
     "duration": 0.983417,
     "end_time": "2023-07-26T12:14:05.862777",
     "exception": false,
     "start_time": "2023-07-26T12:14:04.879360",
     "status": "completed"
    },
    "tags": []
   },
   "outputs": [
    {
     "data": {
      "text/plain": [
       "<Axes: >"
      ]
     },
     "execution_count": 18,
     "metadata": {},
     "output_type": "execute_result"
    },
    {
     "data": {
      "image/png": "[encoded data removed]",
      "text/plain": [
       "<Figure size 640x480 with 1 Axes>"
      ]
     },
     "metadata": {},
     "output_type": "display_data"
    }
   ],
   "source": [
    "train[train_numerical].plot.box()"
   ]
  },
  {
   "cell_type": "markdown",
   "id": "0b650283",
   "metadata": {
    "papermill": {
     "duration": 0.018715,
     "end_time": "2023-07-26T12:14:05.900775",
     "exception": false,
     "start_time": "2023-07-26T12:14:05.882060",
     "status": "completed"
    },
    "tags": []
   },
   "source": [
    "## >>Test"
   ]
  },
  {
   "cell_type": "code",
   "execution_count": 19,
   "id": "9ba6e2df",
   "metadata": {
    "execution": {
     "iopub.execute_input": "2023-07-26T12:14:05.941028Z",
     "iopub.status.busy": "2023-07-26T12:14:05.940652Z",
     "iopub.status.idle": "2023-07-26T12:14:06.636609Z",
     "shell.execute_reply": "2023-07-26T12:14:06.635455Z"
    },
    "papermill": {
     "duration": 0.720081,
     "end_time": "2023-07-26T12:14:06.639419",
     "exception": false,
     "start_time": "2023-07-26T12:14:05.919338",
     "status": "completed"
    },
    "tags": []
   },
   "outputs": [
    {
     "data": {
      "text/plain": [
       "<Axes: >"
      ]
     },
     "execution_count": 19,
     "metadata": {},
     "output_type": "execute_result"
    },
    {
     "data": {
      "image/png": "[encoded data removed]",
      "text/plain": [
       "<Figure size 640x480 with 1 Axes>"
      ]
     },
     "metadata": {},
     "output_type": "display_data"
    }
   ],
   "source": [
    "test[test_numerical].plot.box()"
   ]
  },
  {
   "cell_type": "markdown",
   "id": "956560c8",
   "metadata": {
    "papermill": {
     "duration": 0.020858,
     "end_time": "2023-07-26T12:14:06.680203",
     "exception": false,
     "start_time": "2023-07-26T12:14:06.659345",
     "status": "completed"
    },
    "tags": []
   },
   "source": [
    "## >Outliers Treatment\n",
    "## >>Train"
   ]
  },
  {
   "cell_type": "code",
   "execution_count": 20,
   "id": "dba577cf",
   "metadata": {
    "execution": {
     "iopub.execute_input": "2023-07-26T12:14:06.723137Z",
     "iopub.status.busy": "2023-07-26T12:14:06.722354Z",
     "iopub.status.idle": "2023-07-26T12:14:06.729597Z",
     "shell.execute_reply": "2023-07-26T12:14:06.728496Z"
    },
    "papermill": {
     "duration": 0.031699,
     "end_time": "2023-07-26T12:14:06.732119",
     "exception": false,
     "start_time": "2023-07-26T12:14:06.700420",
     "status": "completed"
    },
    "tags": []
   },
   "outputs": [],
   "source": [
    "# Create function\n",
    "\n",
    "def treat_outlier(nf):\n",
    "    for column in nf:\n",
    "        \n",
    "        # using IQR\n",
    "        q1 = train[column].quantile(0.25)\n",
    "        q3 = train[column].quantile(0.75)\n",
    "        \n",
    "        iqr = q3 - q1\n",
    "        \n",
    "        lower_bound = q1 - 1.5 * iqr\n",
    "        upper_bound = q3 + 1.5 * iqr\n",
    "        \n",
    "        train[column] = np.where(nf[column] < lower_bound, lower_bound, nf[column])\n",
    "        train[column] = np.where(nf[column] > upper_bound, upper_bound, nf[column])"
   ]
  },
  {
   "cell_type": "code",
   "execution_count": 21,
   "id": "acdd3fb9",
   "metadata": {
    "execution": {
     "iopub.execute_input": "2023-07-26T12:14:06.774176Z",
     "iopub.status.busy": "2023-07-26T12:14:06.773197Z",
     "iopub.status.idle": "2023-07-26T12:14:06.856355Z",
     "shell.execute_reply": "2023-07-26T12:14:06.854911Z"
    },
    "papermill": {
     "duration": 0.107684,
     "end_time": "2023-07-26T12:14:06.859472",
     "exception": false,
     "start_time": "2023-07-26T12:14:06.751788",
     "status": "completed"
    },
    "tags": []
   },
   "outputs": [],
   "source": [
    "treat_outlier(train[train_numerical])"
   ]
  },
  {
   "cell_type": "code",
   "execution_count": 22,
   "id": "47a999b8",
   "metadata": {
    "execution": {
     "iopub.execute_input": "2023-07-26T12:14:06.901908Z",
     "iopub.status.busy": "2023-07-26T12:14:06.901426Z",
     "iopub.status.idle": "2023-07-26T12:14:07.581603Z",
     "shell.execute_reply": "2023-07-26T12:14:07.580583Z"
    },
    "papermill": {
     "duration": 0.704695,
     "end_time": "2023-07-26T12:14:07.584277",
     "exception": false,
     "start_time": "2023-07-26T12:14:06.879582",
     "status": "completed"
    },
    "tags": []
   },
   "outputs": [
    {
     "data": {
      "text/plain": [
       "<Axes: >"
      ]
     },
     "execution_count": 22,
     "metadata": {},
     "output_type": "execute_result"
    },
    {
     "data": {
      "image/png": "[encoded data removed]",
      "text/plain": [
       "<Figure size 640x480 with 1 Axes>"
      ]
     },
     "metadata": {},
     "output_type": "display_data"
    }
   ],
   "source": [
    "train[train_numerical].plot.box()"
   ]
  },
  {
   "cell_type": "markdown",
   "id": "43e339a6",
   "metadata": {
    "papermill": {
     "duration": 0.020626,
     "end_time": "2023-07-26T12:14:07.624969",
     "exception": false,
     "start_time": "2023-07-26T12:14:07.604343",
     "status": "completed"
    },
    "tags": []
   },
   "source": [
    "## >>Test"
   ]
  },
  {
   "cell_type": "code",
   "execution_count": 23,
   "id": "31e4efd5",
   "metadata": {
    "execution": {
     "iopub.execute_input": "2023-07-26T12:14:07.667562Z",
     "iopub.status.busy": "2023-07-26T12:14:07.667075Z",
     "iopub.status.idle": "2023-07-26T12:14:07.675623Z",
     "shell.execute_reply": "2023-07-26T12:14:07.674154Z"
    },
    "papermill": {
     "duration": 0.032547,
     "end_time": "2023-07-26T12:14:07.678207",
     "exception": false,
     "start_time": "2023-07-26T12:14:07.645660",
     "status": "completed"
    },
    "tags": []
   },
   "outputs": [],
   "source": [
    "# Create function\n",
    "\n",
    "def treat_outlier(nf):\n",
    "    for column in nf:\n",
    "        \n",
    "        # using IQR\n",
    "        q1 = test[column].quantile(0.25)\n",
    "        q3 = test[column].quantile(0.75)\n",
    "        \n",
    "        iqr = q3 - q1\n",
    "        \n",
    "        lower_bound = q1 - 1.5 * iqr\n",
    "        upper_bound = q3 + 1.5 * iqr\n",
    "        \n",
    "        test[column] = np.where(nf[column] < lower_bound, lower_bound, nf[column])\n",
    "        test[column] = np.where(nf[column] > upper_bound, upper_bound, nf[column])"
   ]
  },
  {
   "cell_type": "code",
   "execution_count": 24,
   "id": "d8ba0c85",
   "metadata": {
    "execution": {
     "iopub.execute_input": "2023-07-26T12:14:07.721181Z",
     "iopub.status.busy": "2023-07-26T12:14:07.720774Z",
     "iopub.status.idle": "2023-07-26T12:14:07.797224Z",
     "shell.execute_reply": "2023-07-26T12:14:07.796010Z"
    },
    "papermill": {
     "duration": 0.101412,
     "end_time": "2023-07-26T12:14:07.799952",
     "exception": false,
     "start_time": "2023-07-26T12:14:07.698540",
     "status": "completed"
    },
    "tags": []
   },
   "outputs": [],
   "source": [
    "treat_outlier(test[test_numerical])"
   ]
  },
  {
   "cell_type": "code",
   "execution_count": 25,
   "id": "3fea424e",
   "metadata": {
    "execution": {
     "iopub.execute_input": "2023-07-26T12:14:07.843387Z",
     "iopub.status.busy": "2023-07-26T12:14:07.842969Z",
     "iopub.status.idle": "2023-07-26T12:14:08.513051Z",
     "shell.execute_reply": "2023-07-26T12:14:08.512159Z"
    },
    "papermill": {
     "duration": 0.695391,
     "end_time": "2023-07-26T12:14:08.515302",
     "exception": false,
     "start_time": "2023-07-26T12:14:07.819911",
     "status": "completed"
    },
    "tags": []
   },
   "outputs": [
    {
     "data": {
      "text/plain": [
       "<Axes: >"
      ]
     },
     "execution_count": 25,
     "metadata": {},
     "output_type": "execute_result"
    },
    {
     "data": {
      "image/png": "[encoded data removed]",
      "text/plain": [
       "<Figure size 640x480 with 1 Axes>"
      ]
     },
     "metadata": {},
     "output_type": "display_data"
    }
   ],
   "source": [
    "test[test_numerical].plot.box()"
   ]
  },
  {
   "cell_type": "markdown",
   "id": "1ac54006",
   "metadata": {
    "papermill": {
     "duration": 0.021443,
     "end_time": "2023-07-26T12:14:08.557774",
     "exception": false,
     "start_time": "2023-07-26T12:14:08.536331",
     "status": "completed"
    },
    "tags": []
   },
   "source": [
    "## >Transformation - Categorical Encoding\n",
    "## >>Ordinal encoding"
   ]
  },
  {
   "cell_type": "code",
   "execution_count": 26,
   "id": "96238c76",
   "metadata": {
    "execution": {
     "iopub.execute_input": "2023-07-26T12:14:08.602325Z",
     "iopub.status.busy": "2023-07-26T12:14:08.601604Z",
     "iopub.status.idle": "2023-07-26T12:14:08.606249Z",
     "shell.execute_reply": "2023-07-26T12:14:08.605349Z"
    },
    "papermill": {
     "duration": 0.029806,
     "end_time": "2023-07-26T12:14:08.608610",
     "exception": false,
     "start_time": "2023-07-26T12:14:08.578804",
     "status": "completed"
    },
    "tags": []
   },
   "outputs": [],
   "source": [
    "# Define the ordinal mapping for BusinessTravel\n",
    "ordinal_mapping = {\n",
    "    'Non-Travel': 0,\n",
    "    'Travel_Rarely': 1,\n",
    "    'Travel_Frequently': 2\n",
    "}"
   ]
  },
  {
   "cell_type": "markdown",
   "id": "8c729187",
   "metadata": {
    "papermill": {
     "duration": 0.020506,
     "end_time": "2023-07-26T12:14:08.650346",
     "exception": false,
     "start_time": "2023-07-26T12:14:08.629840",
     "status": "completed"
    },
    "tags": []
   },
   "source": [
    "## >>>Train"
   ]
  },
  {
   "cell_type": "code",
   "execution_count": 27,
   "id": "50e1dfbf",
   "metadata": {
    "execution": {
     "iopub.execute_input": "2023-07-26T12:14:08.693311Z",
     "iopub.status.busy": "2023-07-26T12:14:08.692886Z",
     "iopub.status.idle": "2023-07-26T12:14:08.700180Z",
     "shell.execute_reply": "2023-07-26T12:14:08.699019Z"
    },
    "papermill": {
     "duration": 0.031308,
     "end_time": "2023-07-26T12:14:08.702338",
     "exception": false,
     "start_time": "2023-07-26T12:14:08.671030",
     "status": "completed"
    },
    "tags": []
   },
   "outputs": [],
   "source": [
    "# Apply ordinal encoding to the \"BusinessTravel\" column\n",
    "train['BusinessTravel_Encoded'] = train['BusinessTravel'].map(ordinal_mapping)"
   ]
  },
  {
   "cell_type": "markdown",
   "id": "ab21fb86",
   "metadata": {
    "papermill": {
     "duration": 0.020883,
     "end_time": "2023-07-26T12:14:08.744266",
     "exception": false,
     "start_time": "2023-07-26T12:14:08.723383",
     "status": "completed"
    },
    "tags": []
   },
   "source": [
    "### >>>Test"
   ]
  },
  {
   "cell_type": "code",
   "execution_count": 28,
   "id": "24cfb9d3",
   "metadata": {
    "execution": {
     "iopub.execute_input": "2023-07-26T12:14:08.790339Z",
     "iopub.status.busy": "2023-07-26T12:14:08.789665Z",
     "iopub.status.idle": "2023-07-26T12:14:08.796165Z",
     "shell.execute_reply": "2023-07-26T12:14:08.794885Z"
    },
    "papermill": {
     "duration": 0.032777,
     "end_time": "2023-07-26T12:14:08.798682",
     "exception": false,
     "start_time": "2023-07-26T12:14:08.765905",
     "status": "completed"
    },
    "tags": []
   },
   "outputs": [],
   "source": [
    "# Apply ordinal encoding to the \"BusinessTravel\" column\n",
    "test['BusinessTravel_Encoded'] = test['BusinessTravel'].map(ordinal_mapping)"
   ]
  }
 ],
 "metadata": {
  "kernelspec": {
   "display_name": "Python 3",
   "language": "python",
   "name": "python3"
  },
  "language_info": {
   "codemirror_mode": {
    "name": "ipython",
    "version": 3
   },
   "file_extension": ".py",
   "mimetype": "text/x-python",
   "name": "python",
   "nbconvert_exporter": "python",
   "pygments_lexer": "ipython3",
   "version": "3.10.12"
  },
  "papermill": {
   "default_parameters": {},
   "duration": 55.726248,
   "end_time": "2023-07-26T12:14:09.842721",
   "environment_variables": {},
   "exception": null,
   "input_path": "__notebook__.ipynb",
   "output_path": "__notebook__.ipynb",
   "parameters": {},
   "start_time": "2023-07-26T12:13:14.116473",
   "version": "2.4.0"
  }
 },
 "nbformat": 4,
 "nbformat_minor": 5
}
